{
 "cells": [
  {
   "cell_type": "code",
   "execution_count": 2,
   "metadata": {},
   "outputs": [],
   "source": [
    "import pandas as pd\n",
    "import re,os,sys\n",
    "from dateutil.parser import parse\n",
    "import time"
   ]
  },
  {
   "cell_type": "code",
   "execution_count": 3,
   "metadata": {},
   "outputs": [],
   "source": [
    "test_path =\"../covid-policy-tracker/data/timeseries/index_stringency.csv\""
   ]
  },
  {
   "cell_type": "code",
   "execution_count": 4,
   "metadata": {},
   "outputs": [],
   "source": [
    "ds = pd.read_csv(test_path)"
   ]
  },
  {
   "cell_type": "code",
   "execution_count": 5,
   "metadata": {},
   "outputs": [
    {
     "data": {
      "text/plain": [
       "(188, 308)"
      ]
     },
     "execution_count": 5,
     "metadata": {},
     "output_type": "execute_result"
    }
   ],
   "source": [
    "ds.shape"
   ]
  },
  {
   "cell_type": "code",
   "execution_count": 6,
   "metadata": {},
   "outputs": [
    {
     "data": {
      "text/html": [
       "<div>\n",
       "<style scoped>\n",
       "    .dataframe tbody tr th:only-of-type {\n",
       "        vertical-align: middle;\n",
       "    }\n",
       "\n",
       "    .dataframe tbody tr th {\n",
       "        vertical-align: top;\n",
       "    }\n",
       "\n",
       "    .dataframe thead th {\n",
       "        text-align: right;\n",
       "    }\n",
       "</style>\n",
       "<table border=\"1\" class=\"dataframe\">\n",
       "  <thead>\n",
       "    <tr style=\"text-align: right;\">\n",
       "      <th></th>\n",
       "      <th>index</th>\n",
       "      <th>val</th>\n",
       "    </tr>\n",
       "  </thead>\n",
       "  <tbody>\n",
       "    <tr>\n",
       "      <th>0</th>\n",
       "      <td>('Afghanistan', '2020-01-22')</td>\n",
       "      <td>0</td>\n",
       "    </tr>\n",
       "    <tr>\n",
       "      <th>1</th>\n",
       "      <td>('Afghanistan', '2020-01-23')</td>\n",
       "      <td>1</td>\n",
       "    </tr>\n",
       "    <tr>\n",
       "      <th>2</th>\n",
       "      <td>('Afghanistan', '2020-01-24')</td>\n",
       "      <td>2</td>\n",
       "    </tr>\n",
       "    <tr>\n",
       "      <th>3</th>\n",
       "      <td>('Afghanistan', '2020-01-25')</td>\n",
       "      <td>3</td>\n",
       "    </tr>\n",
       "    <tr>\n",
       "      <th>4</th>\n",
       "      <td>('Afghanistan', '2020-01-26')</td>\n",
       "      <td>4</td>\n",
       "    </tr>\n",
       "  </tbody>\n",
       "</table>\n",
       "</div>"
      ],
      "text/plain": [
       "                           index  val\n",
       "0  ('Afghanistan', '2020-01-22')    0\n",
       "1  ('Afghanistan', '2020-01-23')    1\n",
       "2  ('Afghanistan', '2020-01-24')    2\n",
       "3  ('Afghanistan', '2020-01-25')    3\n",
       "4  ('Afghanistan', '2020-01-26')    4"
      ]
     },
     "execution_count": 6,
     "metadata": {},
     "output_type": "execute_result"
    }
   ],
   "source": [
    "output_path = \"/Users/itaybd/output_covid\"\n",
    "df1 = pd.read_csv(os.path.join(output_path,\"test_covid19_wUS2_index.csv\"))\n",
    "df1.head()"
   ]
  },
  {
   "cell_type": "code",
   "execution_count": 7,
   "metadata": {},
   "outputs": [
    {
     "data": {
      "text/html": [
       "<div>\n",
       "<style scoped>\n",
       "    .dataframe tbody tr th:only-of-type {\n",
       "        vertical-align: middle;\n",
       "    }\n",
       "\n",
       "    .dataframe tbody tr th {\n",
       "        vertical-align: top;\n",
       "    }\n",
       "\n",
       "    .dataframe thead th {\n",
       "        text-align: right;\n",
       "    }\n",
       "</style>\n",
       "<table border=\"1\" class=\"dataframe\">\n",
       "  <thead>\n",
       "    <tr style=\"text-align: right;\">\n",
       "      <th></th>\n",
       "      <th>index</th>\n",
       "      <th>val</th>\n",
       "    </tr>\n",
       "  </thead>\n",
       "  <tbody>\n",
       "    <tr>\n",
       "      <th>0</th>\n",
       "      <td>('Afghanistan', '2020-01-01')</td>\n",
       "      <td>0</td>\n",
       "    </tr>\n",
       "    <tr>\n",
       "      <th>1</th>\n",
       "      <td>('Afghanistan', '2020-01-02')</td>\n",
       "      <td>1</td>\n",
       "    </tr>\n",
       "    <tr>\n",
       "      <th>2</th>\n",
       "      <td>('Afghanistan', '2020-01-03')</td>\n",
       "      <td>2</td>\n",
       "    </tr>\n",
       "    <tr>\n",
       "      <th>3</th>\n",
       "      <td>('Afghanistan', '2020-01-04')</td>\n",
       "      <td>3</td>\n",
       "    </tr>\n",
       "    <tr>\n",
       "      <th>4</th>\n",
       "      <td>('Afghanistan', '2020-01-05')</td>\n",
       "      <td>4</td>\n",
       "    </tr>\n",
       "  </tbody>\n",
       "</table>\n",
       "</div>"
      ],
      "text/plain": [
       "                           index  val\n",
       "0  ('Afghanistan', '2020-01-01')    0\n",
       "1  ('Afghanistan', '2020-01-02')    1\n",
       "2  ('Afghanistan', '2020-01-03')    2\n",
       "3  ('Afghanistan', '2020-01-04')    3\n",
       "4  ('Afghanistan', '2020-01-05')    4"
      ]
     },
     "execution_count": 7,
     "metadata": {},
     "output_type": "execute_result"
    }
   ],
   "source": [
    "df2 = pd.read_csv((os.path.join(output_path,\"test_stringency_index.csv\")))\n",
    "df2.head()"
   ]
  },
  {
   "cell_type": "code",
   "execution_count": 8,
   "metadata": {},
   "outputs": [
    {
     "data": {
      "text/plain": [
       "((57528, 2), (91932, 2))"
      ]
     },
     "execution_count": 8,
     "metadata": {},
     "output_type": "execute_result"
    }
   ],
   "source": [
    "df2.shape,df1.shape"
   ]
  },
  {
   "cell_type": "code",
   "execution_count": 9,
   "metadata": {},
   "outputs": [
    {
     "data": {
      "text/plain": [
       "43428"
      ]
     },
     "execution_count": 9,
     "metadata": {},
     "output_type": "execute_result"
    }
   ],
   "source": [
    "d1 = df1.set_index(\"index\")[\"val\"].to_dict()\n",
    "d2 = df2.set_index(\"index\")[\"val\"].to_dict()\n",
    "d2k = set(d2.keys())\n",
    "d3 =[ k for k in d1.keys() if k in d2k]\n",
    "len(d3)\n"
   ]
  },
  {
   "cell_type": "code",
   "execution_count": 13,
   "metadata": {},
   "outputs": [
    {
     "data": {
      "text/plain": [
       "(154,\n",
       " ['Laos',\n",
       "  'Algeria',\n",
       "  'Finland',\n",
       "  \"Cote d'Ivoire\",\n",
       "  'Chile',\n",
       "  'Eritrea',\n",
       "  'Turkey',\n",
       "  'Zambia',\n",
       "  'Hungary',\n",
       "  'Croatia'])"
      ]
     },
     "execution_count": 13,
     "metadata": {},
     "output_type": "execute_result"
    }
   ],
   "source": [
    "Ax=(set([eval(x)[0] for x in d3]))\n",
    "len(Ax), list(Ax)[:10]"
   ]
  },
  {
   "cell_type": "code",
   "execution_count": 14,
   "metadata": {},
   "outputs": [],
   "source": [
    "import wikipedia"
   ]
  },
  {
   "cell_type": "code",
   "execution_count": 20,
   "metadata": {},
   "outputs": [],
   "source": [
    "t = wikipedia.page(\"OECD\")"
   ]
  },
  {
   "cell_type": "code",
   "execution_count": 30,
   "metadata": {},
   "outputs": [],
   "source": [
    "oecd_c = pd.read_html(t.html())[5]"
   ]
  },
  {
   "cell_type": "code",
   "execution_count": 31,
   "metadata": {},
   "outputs": [],
   "source": [
    "L = list(oecd_c[\"Country\"])"
   ]
  },
  {
   "cell_type": "code",
   "execution_count": 34,
   "metadata": {},
   "outputs": [
    {
     "data": {
      "text/plain": [
       "['Australia',\n",
       " 'Canada',\n",
       " 'Czech Republic',\n",
       " 'South Korea',\n",
       " 'Slovakia',\n",
       " 'United States']"
      ]
     },
     "execution_count": 34,
     "metadata": {},
     "output_type": "execute_result"
    }
   ],
   "source": [
    "Ax_oecd = [x for x in Ax if x in L]\n",
    "len(Ax_oecd)\n",
    "not_found = [x for x in L if not x in Ax]\n",
    "not_found"
   ]
  },
  {
   "cell_type": "code",
   "execution_count": 37,
   "metadata": {},
   "outputs": [
    {
     "data": {
      "text/plain": [
       "[]"
      ]
     },
     "execution_count": 37,
     "metadata": {},
     "output_type": "execute_result"
    }
   ],
   "source": [
    "A3=[]\n",
    "for t in not_found :\n",
    "    for x in Ax:\n",
    "        if x.find(t)>-1:\n",
    "            A3.append(x)\n",
    "A3"
   ]
  },
  {
   "cell_type": "code",
   "execution_count": 39,
   "metadata": {},
   "outputs": [
    {
     "data": {
      "text/plain": [
       "{'Afghanistan',\n",
       " 'Albania',\n",
       " 'Algeria',\n",
       " 'Andorra',\n",
       " 'Angola',\n",
       " 'Argentina',\n",
       " 'Austria',\n",
       " 'Azerbaijan',\n",
       " 'Bahrain',\n",
       " 'Bangladesh',\n",
       " 'Barbados',\n",
       " 'Belarus',\n",
       " 'Belgium',\n",
       " 'Belize',\n",
       " 'Benin',\n",
       " 'Bhutan',\n",
       " 'Bolivia',\n",
       " 'Bosnia and Herzegovina',\n",
       " 'Botswana',\n",
       " 'Brazil',\n",
       " 'Brunei',\n",
       " 'Bulgaria',\n",
       " 'Burkina Faso',\n",
       " 'Burundi',\n",
       " 'Cambodia',\n",
       " 'Cameroon',\n",
       " 'Central African Republic',\n",
       " 'Chad',\n",
       " 'Chile',\n",
       " 'Colombia',\n",
       " 'Costa Rica',\n",
       " \"Cote d'Ivoire\",\n",
       " 'Croatia',\n",
       " 'Cuba',\n",
       " 'Cyprus',\n",
       " 'Denmark',\n",
       " 'Djibouti',\n",
       " 'Dominica',\n",
       " 'Dominican Republic',\n",
       " 'Ecuador',\n",
       " 'Egypt',\n",
       " 'El Salvador',\n",
       " 'Eritrea',\n",
       " 'Estonia',\n",
       " 'Eswatini',\n",
       " 'Ethiopia',\n",
       " 'Fiji',\n",
       " 'Finland',\n",
       " 'France',\n",
       " 'Gabon',\n",
       " 'Gambia',\n",
       " 'Georgia',\n",
       " 'Germany',\n",
       " 'Ghana',\n",
       " 'Greece',\n",
       " 'Guatemala',\n",
       " 'Guinea',\n",
       " 'Guyana',\n",
       " 'Haiti',\n",
       " 'Honduras',\n",
       " 'Hungary',\n",
       " 'Iceland',\n",
       " 'India',\n",
       " 'Indonesia',\n",
       " 'Iran',\n",
       " 'Iraq',\n",
       " 'Ireland',\n",
       " 'Israel',\n",
       " 'Italy',\n",
       " 'Jamaica',\n",
       " 'Japan',\n",
       " 'Jordan',\n",
       " 'Kazakhstan',\n",
       " 'Kenya',\n",
       " 'Kosovo',\n",
       " 'Kuwait',\n",
       " 'Laos',\n",
       " 'Latvia',\n",
       " 'Lebanon',\n",
       " 'Lesotho',\n",
       " 'Liberia',\n",
       " 'Libya',\n",
       " 'Lithuania',\n",
       " 'Luxembourg',\n",
       " 'Madagascar',\n",
       " 'Malawi',\n",
       " 'Malaysia',\n",
       " 'Mali',\n",
       " 'Mauritania',\n",
       " 'Mauritius',\n",
       " 'Mexico',\n",
       " 'Moldova',\n",
       " 'Mongolia',\n",
       " 'Morocco',\n",
       " 'Mozambique',\n",
       " 'Namibia',\n",
       " 'Nepal',\n",
       " 'Netherlands',\n",
       " 'New Zealand',\n",
       " 'Nicaragua',\n",
       " 'Niger',\n",
       " 'Nigeria',\n",
       " 'Norway',\n",
       " 'Oman',\n",
       " 'Pakistan',\n",
       " 'Panama',\n",
       " 'Papua New Guinea',\n",
       " 'Paraguay',\n",
       " 'Peru',\n",
       " 'Philippines',\n",
       " 'Poland',\n",
       " 'Portugal',\n",
       " 'Qatar',\n",
       " 'Romania',\n",
       " 'Russia',\n",
       " 'Rwanda',\n",
       " 'San Marino',\n",
       " 'Saudi Arabia',\n",
       " 'Senegal',\n",
       " 'Serbia',\n",
       " 'Seychelles',\n",
       " 'Sierra Leone',\n",
       " 'Singapore',\n",
       " 'Slovenia',\n",
       " 'Solomon Islands',\n",
       " 'Somalia',\n",
       " 'South Africa',\n",
       " 'South Sudan',\n",
       " 'Spain',\n",
       " 'Sri Lanka',\n",
       " 'Sudan',\n",
       " 'Suriname',\n",
       " 'Sweden',\n",
       " 'Switzerland',\n",
       " 'Syria',\n",
       " 'Tajikistan',\n",
       " 'Tanzania',\n",
       " 'Thailand',\n",
       " 'Timor-Leste',\n",
       " 'Togo',\n",
       " 'Trinidad and Tobago',\n",
       " 'Tunisia',\n",
       " 'Turkey',\n",
       " 'Uganda',\n",
       " 'Ukraine',\n",
       " 'United Arab Emirates',\n",
       " 'United Kingdom',\n",
       " 'Uruguay',\n",
       " 'Uzbekistan',\n",
       " 'Venezuela',\n",
       " 'Vietnam',\n",
       " 'Yemen',\n",
       " 'Zambia',\n",
       " 'Zimbabwe'}"
      ]
     },
     "execution_count": 39,
     "metadata": {},
     "output_type": "execute_result"
    }
   ],
   "source": [
    "Ax"
   ]
  },
  {
   "cell_type": "code",
   "execution_count": 42,
   "metadata": {},
   "outputs": [],
   "source": [
    "#d1 = df1.set_index(\"index\")[\"val\"].to_dict()\n",
    "#d2 = df2.set_index(\"index\")[\"val\"].to_dict()\n",
    "d1s = set([eval(k)[0] for k in d1.keys()])\n",
    "d2s = set([eval(k)[0] for k in d2.keys()])"
   ]
  },
  {
   "cell_type": "code",
   "execution_count": 43,
   "metadata": {},
   "outputs": [
    {
     "data": {
      "text/plain": [
       "(326, 188)"
      ]
     },
     "execution_count": 43,
     "metadata": {},
     "output_type": "execute_result"
    }
   ],
   "source": [
    "len(d1s),len(d2s)"
   ]
  },
  {
   "cell_type": "code",
   "execution_count": 44,
   "metadata": {},
   "outputs": [
    {
     "data": {
      "text/plain": [
       "['Australia', 'Canada', 'Czech Republic', 'South Korea', 'United States']"
      ]
     },
     "execution_count": 44,
     "metadata": {},
     "output_type": "execute_result"
    }
   ],
   "source": [
    "\n",
    "not_found = [x for x in L if not x in d1s]\n",
    "not_found"
   ]
  },
  {
   "cell_type": "code",
   "execution_count": 46,
   "metadata": {},
   "outputs": [
    {
     "data": {
      "text/plain": [
       "['Australia_Australian Capital Territory',\n",
       " 'Australia_Queensland',\n",
       " 'Australia_South Australia',\n",
       " 'Australia_Tasmania',\n",
       " 'Australia_Western Australia',\n",
       " 'Australia_Victoria',\n",
       " 'Australia_Northern Territory',\n",
       " 'Australia_New South Wales',\n",
       " 'Canada_Prince Edward Island',\n",
       " 'Canada_New Brunswick',\n",
       " 'Canada_Manitoba',\n",
       " 'Canada_Saskatchewan',\n",
       " 'Canada_Yukon',\n",
       " 'Canada_Quebec',\n",
       " 'Canada_Northwest Territories',\n",
       " 'Canada_Nova Scotia',\n",
       " 'Canada_Diamond Princess',\n",
       " 'Canada_Ontario',\n",
       " 'Canada_Grand Princess',\n",
       " 'Canada_Newfoundland and Labrador',\n",
       " 'Canada_British Columbia',\n",
       " 'Canada_Alberta']"
      ]
     },
     "execution_count": 46,
     "metadata": {},
     "output_type": "execute_result"
    }
   ],
   "source": [
    "A3=[]\n",
    "for t in not_found :\n",
    "    for x in d1s:\n",
    "        if x.find(t)>-1:\n",
    "            A3.append(x)\n",
    "A3"
   ]
  },
  {
   "cell_type": "code",
   "execution_count": 47,
   "metadata": {
    "scrolled": true
   },
   "outputs": [
    {
     "data": {
      "text/plain": [
       "['.DS_Store',\n",
       " 'OxCGRT_latest.csv',\n",
       " 'OxCGRT_latest_allchanges.csv',\n",
       " 'OxCGRT_latest_responses.csv',\n",
       " 'OxCGRT_latest_withnotes.csv',\n",
       " 'timeseries']"
      ]
     },
     "execution_count": 47,
     "metadata": {},
     "output_type": "execute_result"
    }
   ],
   "source": [
    "os.listdir(\"../covid-policy-tracker/data\")"
   ]
  },
  {
   "cell_type": "code",
   "execution_count": 48,
   "metadata": {},
   "outputs": [
    {
     "name": "stderr",
     "output_type": "stream",
     "text": [
      "/anaconda3/lib/python3.6/site-packages/IPython/core/interactiveshell.py:3063: DtypeWarning: Columns (2,3) have mixed types.Specify dtype option on import or set low_memory=False.\n",
      "  interactivity=interactivity, compiler=compiler, result=result)\n"
     ]
    }
   ],
   "source": [
    "OxWorld = pd.read_csv(\"../covid-policy-tracker/data/OxCGRT_latest.csv\")"
   ]
  },
  {
   "cell_type": "code",
   "execution_count": 49,
   "metadata": {},
   "outputs": [
    {
     "data": {
      "text/plain": [
       "['CountryName',\n",
       " 'CountryCode',\n",
       " 'RegionName',\n",
       " 'RegionCode',\n",
       " 'Date',\n",
       " 'C1_School closing',\n",
       " 'C1_Flag',\n",
       " 'C2_Workplace closing',\n",
       " 'C2_Flag',\n",
       " 'C3_Cancel public events',\n",
       " 'C3_Flag',\n",
       " 'C4_Restrictions on gatherings',\n",
       " 'C4_Flag',\n",
       " 'C5_Close public transport',\n",
       " 'C5_Flag',\n",
       " 'C6_Stay at home requirements',\n",
       " 'C6_Flag',\n",
       " 'C7_Restrictions on internal movement',\n",
       " 'C7_Flag',\n",
       " 'C8_International travel controls',\n",
       " 'E1_Income support',\n",
       " 'E1_Flag',\n",
       " 'E2_Debt/contract relief',\n",
       " 'E3_Fiscal measures',\n",
       " 'E4_International support',\n",
       " 'H1_Public information campaigns',\n",
       " 'H1_Flag',\n",
       " 'H2_Testing policy',\n",
       " 'H3_Contact tracing',\n",
       " 'H4_Emergency investment in healthcare',\n",
       " 'H5_Investment in vaccines',\n",
       " 'H6_Facial Coverings',\n",
       " 'H6_Flag',\n",
       " 'M1_Wildcard',\n",
       " 'ConfirmedCases',\n",
       " 'ConfirmedDeaths',\n",
       " 'StringencyIndex',\n",
       " 'StringencyIndexForDisplay',\n",
       " 'StringencyLegacyIndex',\n",
       " 'StringencyLegacyIndexForDisplay',\n",
       " 'GovernmentResponseIndex',\n",
       " 'GovernmentResponseIndexForDisplay',\n",
       " 'ContainmentHealthIndex',\n",
       " 'ContainmentHealthIndexForDisplay',\n",
       " 'EconomicSupportIndex',\n",
       " 'EconomicSupportIndexForDisplay']"
      ]
     },
     "execution_count": 49,
     "metadata": {},
     "output_type": "execute_result"
    }
   ],
   "source": [
    "list(OxWorld.columns)"
   ]
  },
  {
   "cell_type": "code",
   "execution_count": 53,
   "metadata": {},
   "outputs": [
    {
     "data": {
      "text/plain": [
       "(307, 46)"
      ]
     },
     "execution_count": 53,
     "metadata": {},
     "output_type": "execute_result"
    }
   ],
   "source": [
    "#set (OxWorld['RegionName'].astype(str) )\n",
    "OxWorld[OxWorld['RegionName']==\"Alabama\"].shape"
   ]
  },
  {
   "cell_type": "code",
   "execution_count": 56,
   "metadata": {},
   "outputs": [],
   "source": [
    "def add_st(s):\n",
    "    if len(s)==1:\n",
    "        return \"0\"+s\n",
    "    return s\n",
    "def convert_dates(dt):\n",
    "    spl = parse(dt,dayfirst=False)\n",
    "    return str(spl.year)+\"-\"+add_st(str(spl.month))+\"-\"+add_st(str(spl.day))\n",
    "OxWorld[\"Date\"] = OxWorld.apply(lambda r: convert_dates(str(r[\"Date\"])),axis=1 )"
   ]
  },
  {
   "cell_type": "code",
   "execution_count": 57,
   "metadata": {},
   "outputs": [
    {
     "data": {
      "text/plain": [
       "0    2020-01-01\n",
       "1    2020-01-02\n",
       "2    2020-01-03\n",
       "3    2020-01-04\n",
       "4    2020-01-05\n",
       "Name: Date, dtype: object"
      ]
     },
     "execution_count": 57,
     "metadata": {},
     "output_type": "execute_result"
    }
   ],
   "source": [
    "OxWorld[\"Date\"].head()"
   ]
  },
  {
   "cell_type": "code",
   "execution_count": 61,
   "metadata": {},
   "outputs": [
    {
     "data": {
      "text/plain": [
       "{'0.0', '1.0', '2.0', '3.0', 'nan'}"
      ]
     },
     "execution_count": 61,
     "metadata": {},
     "output_type": "execute_result"
    }
   ],
   "source": [
    "set(OxWorld[\"C2_Workplace closing\"].astype(str))"
   ]
  },
  {
   "cell_type": "code",
   "execution_count": 66,
   "metadata": {},
   "outputs": [
    {
     "data": {
      "text/plain": [
       "2889"
      ]
     },
     "execution_count": 66,
     "metadata": {},
     "output_type": "execute_result"
    }
   ],
   "source": [
    "list(OxWorld[\"C2_Workplace closing\"].astype(str)).count('nan')"
   ]
  },
  {
   "cell_type": "code",
   "execution_count": 91,
   "metadata": {},
   "outputs": [
    {
     "data": {
      "text/plain": [
       "(177,\n",
       " 187,\n",
       " {'Belarus',\n",
       "  'Burundi',\n",
       "  'Comoros',\n",
       "  'Macao',\n",
       "  'Nicaragua',\n",
       "  'Niger',\n",
       "  'Pitcairn Islands',\n",
       "  'Taiwan',\n",
       "  'Tanzania',\n",
       "  'United States Virgin Islands'})"
      ]
     },
     "execution_count": 91,
     "metadata": {},
     "output_type": "execute_result"
    }
   ],
   "source": [
    "OxWorld2 = OxWorld[OxWorld[\"Date\"]>\"2020-03-01\"]\n",
    "S1 = set(OxWorld2[OxWorld2.apply(lambda r: str(r[\"C2_Flag\"]) !='nan',axis=1)][\"CountryName\"])\n",
    "S2 = set(OxWorld2[\"CountryName\"])\n",
    "Germany = OxWorld2[OxWorld2[\"CountryName\"]==\"Germany\"]\n",
    "len(S1),len(S2),(S2-S1)\n"
   ]
  },
  {
   "cell_type": "code",
   "execution_count": 100,
   "metadata": {},
   "outputs": [
    {
     "data": {
      "text/html": [
       "<div>\n",
       "<style scoped>\n",
       "    .dataframe tbody tr th:only-of-type {\n",
       "        vertical-align: middle;\n",
       "    }\n",
       "\n",
       "    .dataframe tbody tr th {\n",
       "        vertical-align: top;\n",
       "    }\n",
       "\n",
       "    .dataframe thead th {\n",
       "        text-align: right;\n",
       "    }\n",
       "</style>\n",
       "<table border=\"1\" class=\"dataframe\">\n",
       "  <thead>\n",
       "    <tr style=\"text-align: right;\">\n",
       "      <th></th>\n",
       "      <th>CountryName</th>\n",
       "      <th>CountryCode</th>\n",
       "      <th>RegionName</th>\n",
       "      <th>RegionCode</th>\n",
       "      <th>Date</th>\n",
       "      <th>C1_School closing</th>\n",
       "      <th>C1_Flag</th>\n",
       "      <th>C2_Workplace closing</th>\n",
       "      <th>C2_Flag</th>\n",
       "      <th>C3_Cancel public events</th>\n",
       "      <th>...</th>\n",
       "      <th>StringencyIndex</th>\n",
       "      <th>StringencyIndexForDisplay</th>\n",
       "      <th>StringencyLegacyIndex</th>\n",
       "      <th>StringencyLegacyIndexForDisplay</th>\n",
       "      <th>GovernmentResponseIndex</th>\n",
       "      <th>GovernmentResponseIndexForDisplay</th>\n",
       "      <th>ContainmentHealthIndex</th>\n",
       "      <th>ContainmentHealthIndexForDisplay</th>\n",
       "      <th>EconomicSupportIndex</th>\n",
       "      <th>EconomicSupportIndexForDisplay</th>\n",
       "    </tr>\n",
       "  </thead>\n",
       "  <tbody>\n",
       "    <tr>\n",
       "      <th>13876</th>\n",
       "      <td>Germany</td>\n",
       "      <td>DEU</td>\n",
       "      <td>NaN</td>\n",
       "      <td>NaN</td>\n",
       "      <td>2020-03-02</td>\n",
       "      <td>2.0</td>\n",
       "      <td>0.0</td>\n",
       "      <td>0.0</td>\n",
       "      <td>NaN</td>\n",
       "      <td>1.0</td>\n",
       "      <td>...</td>\n",
       "      <td>25.0</td>\n",
       "      <td>25.0</td>\n",
       "      <td>34.52</td>\n",
       "      <td>34.52</td>\n",
       "      <td>25.6</td>\n",
       "      <td>25.6</td>\n",
       "      <td>29.86</td>\n",
       "      <td>29.86</td>\n",
       "      <td>0.0</td>\n",
       "      <td>0.0</td>\n",
       "    </tr>\n",
       "    <tr>\n",
       "      <th>13877</th>\n",
       "      <td>Germany</td>\n",
       "      <td>DEU</td>\n",
       "      <td>NaN</td>\n",
       "      <td>NaN</td>\n",
       "      <td>2020-03-03</td>\n",
       "      <td>2.0</td>\n",
       "      <td>0.0</td>\n",
       "      <td>0.0</td>\n",
       "      <td>NaN</td>\n",
       "      <td>1.0</td>\n",
       "      <td>...</td>\n",
       "      <td>25.0</td>\n",
       "      <td>25.0</td>\n",
       "      <td>34.52</td>\n",
       "      <td>34.52</td>\n",
       "      <td>25.6</td>\n",
       "      <td>25.6</td>\n",
       "      <td>29.86</td>\n",
       "      <td>29.86</td>\n",
       "      <td>0.0</td>\n",
       "      <td>0.0</td>\n",
       "    </tr>\n",
       "    <tr>\n",
       "      <th>13878</th>\n",
       "      <td>Germany</td>\n",
       "      <td>DEU</td>\n",
       "      <td>NaN</td>\n",
       "      <td>NaN</td>\n",
       "      <td>2020-03-04</td>\n",
       "      <td>2.0</td>\n",
       "      <td>0.0</td>\n",
       "      <td>0.0</td>\n",
       "      <td>NaN</td>\n",
       "      <td>1.0</td>\n",
       "      <td>...</td>\n",
       "      <td>25.0</td>\n",
       "      <td>25.0</td>\n",
       "      <td>34.52</td>\n",
       "      <td>34.52</td>\n",
       "      <td>25.6</td>\n",
       "      <td>25.6</td>\n",
       "      <td>29.86</td>\n",
       "      <td>29.86</td>\n",
       "      <td>0.0</td>\n",
       "      <td>0.0</td>\n",
       "    </tr>\n",
       "    <tr>\n",
       "      <th>13879</th>\n",
       "      <td>Germany</td>\n",
       "      <td>DEU</td>\n",
       "      <td>NaN</td>\n",
       "      <td>NaN</td>\n",
       "      <td>2020-03-05</td>\n",
       "      <td>2.0</td>\n",
       "      <td>0.0</td>\n",
       "      <td>0.0</td>\n",
       "      <td>NaN</td>\n",
       "      <td>1.0</td>\n",
       "      <td>...</td>\n",
       "      <td>25.0</td>\n",
       "      <td>25.0</td>\n",
       "      <td>34.52</td>\n",
       "      <td>34.52</td>\n",
       "      <td>25.6</td>\n",
       "      <td>25.6</td>\n",
       "      <td>29.86</td>\n",
       "      <td>29.86</td>\n",
       "      <td>0.0</td>\n",
       "      <td>0.0</td>\n",
       "    </tr>\n",
       "    <tr>\n",
       "      <th>13880</th>\n",
       "      <td>Germany</td>\n",
       "      <td>DEU</td>\n",
       "      <td>NaN</td>\n",
       "      <td>NaN</td>\n",
       "      <td>2020-03-06</td>\n",
       "      <td>2.0</td>\n",
       "      <td>0.0</td>\n",
       "      <td>0.0</td>\n",
       "      <td>NaN</td>\n",
       "      <td>1.0</td>\n",
       "      <td>...</td>\n",
       "      <td>25.0</td>\n",
       "      <td>25.0</td>\n",
       "      <td>34.52</td>\n",
       "      <td>34.52</td>\n",
       "      <td>25.6</td>\n",
       "      <td>25.6</td>\n",
       "      <td>29.86</td>\n",
       "      <td>29.86</td>\n",
       "      <td>0.0</td>\n",
       "      <td>0.0</td>\n",
       "    </tr>\n",
       "  </tbody>\n",
       "</table>\n",
       "<p>5 rows × 46 columns</p>\n",
       "</div>"
      ],
      "text/plain": [
       "      CountryName CountryCode RegionName RegionCode        Date  \\\n",
       "13876     Germany         DEU        NaN        NaN  2020-03-02   \n",
       "13877     Germany         DEU        NaN        NaN  2020-03-03   \n",
       "13878     Germany         DEU        NaN        NaN  2020-03-04   \n",
       "13879     Germany         DEU        NaN        NaN  2020-03-05   \n",
       "13880     Germany         DEU        NaN        NaN  2020-03-06   \n",
       "\n",
       "       C1_School closing  C1_Flag  C2_Workplace closing  C2_Flag  \\\n",
       "13876                2.0      0.0                   0.0      NaN   \n",
       "13877                2.0      0.0                   0.0      NaN   \n",
       "13878                2.0      0.0                   0.0      NaN   \n",
       "13879                2.0      0.0                   0.0      NaN   \n",
       "13880                2.0      0.0                   0.0      NaN   \n",
       "\n",
       "       C3_Cancel public events  ...  StringencyIndex  \\\n",
       "13876                      1.0  ...             25.0   \n",
       "13877                      1.0  ...             25.0   \n",
       "13878                      1.0  ...             25.0   \n",
       "13879                      1.0  ...             25.0   \n",
       "13880                      1.0  ...             25.0   \n",
       "\n",
       "       StringencyIndexForDisplay  StringencyLegacyIndex  \\\n",
       "13876                       25.0                  34.52   \n",
       "13877                       25.0                  34.52   \n",
       "13878                       25.0                  34.52   \n",
       "13879                       25.0                  34.52   \n",
       "13880                       25.0                  34.52   \n",
       "\n",
       "       StringencyLegacyIndexForDisplay  GovernmentResponseIndex  \\\n",
       "13876                            34.52                     25.6   \n",
       "13877                            34.52                     25.6   \n",
       "13878                            34.52                     25.6   \n",
       "13879                            34.52                     25.6   \n",
       "13880                            34.52                     25.6   \n",
       "\n",
       "       GovernmentResponseIndexForDisplay  ContainmentHealthIndex  \\\n",
       "13876                               25.6                   29.86   \n",
       "13877                               25.6                   29.86   \n",
       "13878                               25.6                   29.86   \n",
       "13879                               25.6                   29.86   \n",
       "13880                               25.6                   29.86   \n",
       "\n",
       "       ContainmentHealthIndexForDisplay  EconomicSupportIndex  \\\n",
       "13876                             29.86                   0.0   \n",
       "13877                             29.86                   0.0   \n",
       "13878                             29.86                   0.0   \n",
       "13879                             29.86                   0.0   \n",
       "13880                             29.86                   0.0   \n",
       "\n",
       "       EconomicSupportIndexForDisplay  \n",
       "13876                             0.0  \n",
       "13877                             0.0  \n",
       "13878                             0.0  \n",
       "13879                             0.0  \n",
       "13880                             0.0  \n",
       "\n",
       "[5 rows x 46 columns]"
      ]
     },
     "execution_count": 100,
     "metadata": {},
     "output_type": "execute_result"
    }
   ],
   "source": [
    "#Germany[Germany[\"C1_Flag\"] =='nan'].shape\n",
    "Alabama = OxWorld2[OxWorld2[\"RegionName\"]==\"Alabama\"]\n",
    "NewYork = OxWorld2[OxWorld2[\"RegionName\"]==\"New York\"]\n",
    "Germany.head()\n"
   ]
  },
  {
   "cell_type": "code",
   "execution_count": 98,
   "metadata": {},
   "outputs": [
    {
     "data": {
      "text/html": [
       "<div>\n",
       "<style scoped>\n",
       "    .dataframe tbody tr th:only-of-type {\n",
       "        vertical-align: middle;\n",
       "    }\n",
       "\n",
       "    .dataframe tbody tr th {\n",
       "        vertical-align: top;\n",
       "    }\n",
       "\n",
       "    .dataframe thead th {\n",
       "        text-align: right;\n",
       "    }\n",
       "</style>\n",
       "<table border=\"1\" class=\"dataframe\">\n",
       "  <thead>\n",
       "    <tr style=\"text-align: right;\">\n",
       "      <th></th>\n",
       "      <th>CountryName</th>\n",
       "      <th>CountryCode</th>\n",
       "      <th>RegionName</th>\n",
       "      <th>RegionCode</th>\n",
       "      <th>Date</th>\n",
       "      <th>C1_School closing</th>\n",
       "      <th>C1_Flag</th>\n",
       "      <th>C2_Workplace closing</th>\n",
       "      <th>C2_Flag</th>\n",
       "      <th>C3_Cancel public events</th>\n",
       "      <th>...</th>\n",
       "      <th>StringencyIndex</th>\n",
       "      <th>StringencyIndexForDisplay</th>\n",
       "      <th>StringencyLegacyIndex</th>\n",
       "      <th>StringencyLegacyIndexForDisplay</th>\n",
       "      <th>GovernmentResponseIndex</th>\n",
       "      <th>GovernmentResponseIndexForDisplay</th>\n",
       "      <th>ContainmentHealthIndex</th>\n",
       "      <th>ContainmentHealthIndexForDisplay</th>\n",
       "      <th>EconomicSupportIndex</th>\n",
       "      <th>EconomicSupportIndexForDisplay</th>\n",
       "    </tr>\n",
       "  </thead>\n",
       "  <tbody>\n",
       "    <tr>\n",
       "      <th>55935</th>\n",
       "      <td>United States</td>\n",
       "      <td>USA</td>\n",
       "      <td>Alabama</td>\n",
       "      <td>US_AL</td>\n",
       "      <td>2020-03-02</td>\n",
       "      <td>0.0</td>\n",
       "      <td>NaN</td>\n",
       "      <td>0.0</td>\n",
       "      <td>NaN</td>\n",
       "      <td>0.0</td>\n",
       "      <td>...</td>\n",
       "      <td>8.33</td>\n",
       "      <td>8.33</td>\n",
       "      <td>10.71</td>\n",
       "      <td>10.71</td>\n",
       "      <td>11.31</td>\n",
       "      <td>11.31</td>\n",
       "      <td>13.19</td>\n",
       "      <td>13.19</td>\n",
       "      <td>0.0</td>\n",
       "      <td>0.0</td>\n",
       "    </tr>\n",
       "    <tr>\n",
       "      <th>55936</th>\n",
       "      <td>United States</td>\n",
       "      <td>USA</td>\n",
       "      <td>Alabama</td>\n",
       "      <td>US_AL</td>\n",
       "      <td>2020-03-03</td>\n",
       "      <td>0.0</td>\n",
       "      <td>NaN</td>\n",
       "      <td>0.0</td>\n",
       "      <td>NaN</td>\n",
       "      <td>0.0</td>\n",
       "      <td>...</td>\n",
       "      <td>8.33</td>\n",
       "      <td>8.33</td>\n",
       "      <td>10.71</td>\n",
       "      <td>10.71</td>\n",
       "      <td>11.31</td>\n",
       "      <td>11.31</td>\n",
       "      <td>13.19</td>\n",
       "      <td>13.19</td>\n",
       "      <td>0.0</td>\n",
       "      <td>0.0</td>\n",
       "    </tr>\n",
       "    <tr>\n",
       "      <th>55937</th>\n",
       "      <td>United States</td>\n",
       "      <td>USA</td>\n",
       "      <td>Alabama</td>\n",
       "      <td>US_AL</td>\n",
       "      <td>2020-03-04</td>\n",
       "      <td>0.0</td>\n",
       "      <td>NaN</td>\n",
       "      <td>0.0</td>\n",
       "      <td>NaN</td>\n",
       "      <td>0.0</td>\n",
       "      <td>...</td>\n",
       "      <td>8.33</td>\n",
       "      <td>8.33</td>\n",
       "      <td>10.71</td>\n",
       "      <td>10.71</td>\n",
       "      <td>11.31</td>\n",
       "      <td>11.31</td>\n",
       "      <td>13.19</td>\n",
       "      <td>13.19</td>\n",
       "      <td>0.0</td>\n",
       "      <td>0.0</td>\n",
       "    </tr>\n",
       "    <tr>\n",
       "      <th>55938</th>\n",
       "      <td>United States</td>\n",
       "      <td>USA</td>\n",
       "      <td>Alabama</td>\n",
       "      <td>US_AL</td>\n",
       "      <td>2020-03-05</td>\n",
       "      <td>0.0</td>\n",
       "      <td>NaN</td>\n",
       "      <td>0.0</td>\n",
       "      <td>NaN</td>\n",
       "      <td>0.0</td>\n",
       "      <td>...</td>\n",
       "      <td>8.33</td>\n",
       "      <td>8.33</td>\n",
       "      <td>10.71</td>\n",
       "      <td>10.71</td>\n",
       "      <td>11.31</td>\n",
       "      <td>11.31</td>\n",
       "      <td>13.19</td>\n",
       "      <td>13.19</td>\n",
       "      <td>0.0</td>\n",
       "      <td>0.0</td>\n",
       "    </tr>\n",
       "    <tr>\n",
       "      <th>55939</th>\n",
       "      <td>United States</td>\n",
       "      <td>USA</td>\n",
       "      <td>Alabama</td>\n",
       "      <td>US_AL</td>\n",
       "      <td>2020-03-06</td>\n",
       "      <td>0.0</td>\n",
       "      <td>NaN</td>\n",
       "      <td>0.0</td>\n",
       "      <td>NaN</td>\n",
       "      <td>0.0</td>\n",
       "      <td>...</td>\n",
       "      <td>8.33</td>\n",
       "      <td>8.33</td>\n",
       "      <td>10.71</td>\n",
       "      <td>10.71</td>\n",
       "      <td>13.69</td>\n",
       "      <td>13.69</td>\n",
       "      <td>15.97</td>\n",
       "      <td>15.97</td>\n",
       "      <td>0.0</td>\n",
       "      <td>0.0</td>\n",
       "    </tr>\n",
       "  </tbody>\n",
       "</table>\n",
       "<p>5 rows × 46 columns</p>\n",
       "</div>"
      ],
      "text/plain": [
       "         CountryName CountryCode RegionName RegionCode        Date  \\\n",
       "55935  United States         USA    Alabama      US_AL  2020-03-02   \n",
       "55936  United States         USA    Alabama      US_AL  2020-03-03   \n",
       "55937  United States         USA    Alabama      US_AL  2020-03-04   \n",
       "55938  United States         USA    Alabama      US_AL  2020-03-05   \n",
       "55939  United States         USA    Alabama      US_AL  2020-03-06   \n",
       "\n",
       "       C1_School closing  C1_Flag  C2_Workplace closing  C2_Flag  \\\n",
       "55935                0.0      NaN                   0.0      NaN   \n",
       "55936                0.0      NaN                   0.0      NaN   \n",
       "55937                0.0      NaN                   0.0      NaN   \n",
       "55938                0.0      NaN                   0.0      NaN   \n",
       "55939                0.0      NaN                   0.0      NaN   \n",
       "\n",
       "       C3_Cancel public events  ...  StringencyIndex  \\\n",
       "55935                      0.0  ...             8.33   \n",
       "55936                      0.0  ...             8.33   \n",
       "55937                      0.0  ...             8.33   \n",
       "55938                      0.0  ...             8.33   \n",
       "55939                      0.0  ...             8.33   \n",
       "\n",
       "       StringencyIndexForDisplay  StringencyLegacyIndex  \\\n",
       "55935                       8.33                  10.71   \n",
       "55936                       8.33                  10.71   \n",
       "55937                       8.33                  10.71   \n",
       "55938                       8.33                  10.71   \n",
       "55939                       8.33                  10.71   \n",
       "\n",
       "       StringencyLegacyIndexForDisplay  GovernmentResponseIndex  \\\n",
       "55935                            10.71                    11.31   \n",
       "55936                            10.71                    11.31   \n",
       "55937                            10.71                    11.31   \n",
       "55938                            10.71                    11.31   \n",
       "55939                            10.71                    13.69   \n",
       "\n",
       "       GovernmentResponseIndexForDisplay  ContainmentHealthIndex  \\\n",
       "55935                              11.31                   13.19   \n",
       "55936                              11.31                   13.19   \n",
       "55937                              11.31                   13.19   \n",
       "55938                              11.31                   13.19   \n",
       "55939                              13.69                   15.97   \n",
       "\n",
       "       ContainmentHealthIndexForDisplay  EconomicSupportIndex  \\\n",
       "55935                             13.19                   0.0   \n",
       "55936                             13.19                   0.0   \n",
       "55937                             13.19                   0.0   \n",
       "55938                             13.19                   0.0   \n",
       "55939                             15.97                   0.0   \n",
       "\n",
       "       EconomicSupportIndexForDisplay  \n",
       "55935                             0.0  \n",
       "55936                             0.0  \n",
       "55937                             0.0  \n",
       "55938                             0.0  \n",
       "55939                             0.0  \n",
       "\n",
       "[5 rows x 46 columns]"
      ]
     },
     "execution_count": 98,
     "metadata": {},
     "output_type": "execute_result"
    }
   ],
   "source": [
    "Alabama.head()"
   ]
  },
  {
   "cell_type": "code",
   "execution_count": 101,
   "metadata": {},
   "outputs": [
    {
     "data": {
      "text/html": [
       "<div>\n",
       "<style scoped>\n",
       "    .dataframe tbody tr th:only-of-type {\n",
       "        vertical-align: middle;\n",
       "    }\n",
       "\n",
       "    .dataframe tbody tr th {\n",
       "        vertical-align: top;\n",
       "    }\n",
       "\n",
       "    .dataframe thead th {\n",
       "        text-align: right;\n",
       "    }\n",
       "</style>\n",
       "<table border=\"1\" class=\"dataframe\">\n",
       "  <thead>\n",
       "    <tr style=\"text-align: right;\">\n",
       "      <th></th>\n",
       "      <th>CountryName</th>\n",
       "      <th>CountryCode</th>\n",
       "      <th>RegionName</th>\n",
       "      <th>RegionCode</th>\n",
       "      <th>Date</th>\n",
       "      <th>C1_School closing</th>\n",
       "      <th>C1_Flag</th>\n",
       "      <th>C2_Workplace closing</th>\n",
       "      <th>C2_Flag</th>\n",
       "      <th>C3_Cancel public events</th>\n",
       "      <th>...</th>\n",
       "      <th>StringencyIndex</th>\n",
       "      <th>StringencyIndexForDisplay</th>\n",
       "      <th>StringencyLegacyIndex</th>\n",
       "      <th>StringencyLegacyIndexForDisplay</th>\n",
       "      <th>GovernmentResponseIndex</th>\n",
       "      <th>GovernmentResponseIndexForDisplay</th>\n",
       "      <th>ContainmentHealthIndex</th>\n",
       "      <th>ContainmentHealthIndexForDisplay</th>\n",
       "      <th>EconomicSupportIndex</th>\n",
       "      <th>EconomicSupportIndexForDisplay</th>\n",
       "    </tr>\n",
       "  </thead>\n",
       "  <tbody>\n",
       "    <tr>\n",
       "      <th>66116</th>\n",
       "      <td>United States</td>\n",
       "      <td>USA</td>\n",
       "      <td>New York</td>\n",
       "      <td>US_NY</td>\n",
       "      <td>2020-04-21</td>\n",
       "      <td>3.0</td>\n",
       "      <td>1.0</td>\n",
       "      <td>3.0</td>\n",
       "      <td>1.0</td>\n",
       "      <td>2.0</td>\n",
       "      <td>...</td>\n",
       "      <td>82.41</td>\n",
       "      <td>82.41</td>\n",
       "      <td>88.1</td>\n",
       "      <td>88.1</td>\n",
       "      <td>78.57</td>\n",
       "      <td>78.57</td>\n",
       "      <td>75.00</td>\n",
       "      <td>75.00</td>\n",
       "      <td>100.0</td>\n",
       "      <td>100.0</td>\n",
       "    </tr>\n",
       "    <tr>\n",
       "      <th>66117</th>\n",
       "      <td>United States</td>\n",
       "      <td>USA</td>\n",
       "      <td>New York</td>\n",
       "      <td>US_NY</td>\n",
       "      <td>2020-04-22</td>\n",
       "      <td>3.0</td>\n",
       "      <td>1.0</td>\n",
       "      <td>3.0</td>\n",
       "      <td>1.0</td>\n",
       "      <td>2.0</td>\n",
       "      <td>...</td>\n",
       "      <td>82.41</td>\n",
       "      <td>82.41</td>\n",
       "      <td>88.1</td>\n",
       "      <td>88.1</td>\n",
       "      <td>82.14</td>\n",
       "      <td>82.14</td>\n",
       "      <td>79.17</td>\n",
       "      <td>79.17</td>\n",
       "      <td>100.0</td>\n",
       "      <td>100.0</td>\n",
       "    </tr>\n",
       "    <tr>\n",
       "      <th>66118</th>\n",
       "      <td>United States</td>\n",
       "      <td>USA</td>\n",
       "      <td>New York</td>\n",
       "      <td>US_NY</td>\n",
       "      <td>2020-04-23</td>\n",
       "      <td>3.0</td>\n",
       "      <td>1.0</td>\n",
       "      <td>3.0</td>\n",
       "      <td>1.0</td>\n",
       "      <td>2.0</td>\n",
       "      <td>...</td>\n",
       "      <td>82.41</td>\n",
       "      <td>82.41</td>\n",
       "      <td>88.1</td>\n",
       "      <td>88.1</td>\n",
       "      <td>82.14</td>\n",
       "      <td>82.14</td>\n",
       "      <td>79.17</td>\n",
       "      <td>79.17</td>\n",
       "      <td>100.0</td>\n",
       "      <td>100.0</td>\n",
       "    </tr>\n",
       "    <tr>\n",
       "      <th>66119</th>\n",
       "      <td>United States</td>\n",
       "      <td>USA</td>\n",
       "      <td>New York</td>\n",
       "      <td>US_NY</td>\n",
       "      <td>2020-04-24</td>\n",
       "      <td>3.0</td>\n",
       "      <td>1.0</td>\n",
       "      <td>3.0</td>\n",
       "      <td>1.0</td>\n",
       "      <td>2.0</td>\n",
       "      <td>...</td>\n",
       "      <td>82.41</td>\n",
       "      <td>82.41</td>\n",
       "      <td>88.1</td>\n",
       "      <td>88.1</td>\n",
       "      <td>82.14</td>\n",
       "      <td>82.14</td>\n",
       "      <td>79.17</td>\n",
       "      <td>79.17</td>\n",
       "      <td>100.0</td>\n",
       "      <td>100.0</td>\n",
       "    </tr>\n",
       "    <tr>\n",
       "      <th>66120</th>\n",
       "      <td>United States</td>\n",
       "      <td>USA</td>\n",
       "      <td>New York</td>\n",
       "      <td>US_NY</td>\n",
       "      <td>2020-04-25</td>\n",
       "      <td>3.0</td>\n",
       "      <td>1.0</td>\n",
       "      <td>3.0</td>\n",
       "      <td>1.0</td>\n",
       "      <td>2.0</td>\n",
       "      <td>...</td>\n",
       "      <td>82.41</td>\n",
       "      <td>82.41</td>\n",
       "      <td>88.1</td>\n",
       "      <td>88.1</td>\n",
       "      <td>84.52</td>\n",
       "      <td>84.52</td>\n",
       "      <td>81.94</td>\n",
       "      <td>81.94</td>\n",
       "      <td>100.0</td>\n",
       "      <td>100.0</td>\n",
       "    </tr>\n",
       "  </tbody>\n",
       "</table>\n",
       "<p>5 rows × 46 columns</p>\n",
       "</div>"
      ],
      "text/plain": [
       "         CountryName CountryCode RegionName RegionCode        Date  \\\n",
       "66116  United States         USA   New York      US_NY  2020-04-21   \n",
       "66117  United States         USA   New York      US_NY  2020-04-22   \n",
       "66118  United States         USA   New York      US_NY  2020-04-23   \n",
       "66119  United States         USA   New York      US_NY  2020-04-24   \n",
       "66120  United States         USA   New York      US_NY  2020-04-25   \n",
       "\n",
       "       C1_School closing  C1_Flag  C2_Workplace closing  C2_Flag  \\\n",
       "66116                3.0      1.0                   3.0      1.0   \n",
       "66117                3.0      1.0                   3.0      1.0   \n",
       "66118                3.0      1.0                   3.0      1.0   \n",
       "66119                3.0      1.0                   3.0      1.0   \n",
       "66120                3.0      1.0                   3.0      1.0   \n",
       "\n",
       "       C3_Cancel public events  ...  StringencyIndex  \\\n",
       "66116                      2.0  ...            82.41   \n",
       "66117                      2.0  ...            82.41   \n",
       "66118                      2.0  ...            82.41   \n",
       "66119                      2.0  ...            82.41   \n",
       "66120                      2.0  ...            82.41   \n",
       "\n",
       "       StringencyIndexForDisplay  StringencyLegacyIndex  \\\n",
       "66116                      82.41                   88.1   \n",
       "66117                      82.41                   88.1   \n",
       "66118                      82.41                   88.1   \n",
       "66119                      82.41                   88.1   \n",
       "66120                      82.41                   88.1   \n",
       "\n",
       "       StringencyLegacyIndexForDisplay  GovernmentResponseIndex  \\\n",
       "66116                             88.1                    78.57   \n",
       "66117                             88.1                    82.14   \n",
       "66118                             88.1                    82.14   \n",
       "66119                             88.1                    82.14   \n",
       "66120                             88.1                    84.52   \n",
       "\n",
       "       GovernmentResponseIndexForDisplay  ContainmentHealthIndex  \\\n",
       "66116                              78.57                   75.00   \n",
       "66117                              82.14                   79.17   \n",
       "66118                              82.14                   79.17   \n",
       "66119                              82.14                   79.17   \n",
       "66120                              84.52                   81.94   \n",
       "\n",
       "       ContainmentHealthIndexForDisplay  EconomicSupportIndex  \\\n",
       "66116                             75.00                 100.0   \n",
       "66117                             79.17                 100.0   \n",
       "66118                             79.17                 100.0   \n",
       "66119                             79.17                 100.0   \n",
       "66120                             81.94                 100.0   \n",
       "\n",
       "       EconomicSupportIndexForDisplay  \n",
       "66116                           100.0  \n",
       "66117                           100.0  \n",
       "66118                           100.0  \n",
       "66119                           100.0  \n",
       "66120                           100.0  \n",
       "\n",
       "[5 rows x 46 columns]"
      ]
     },
     "execution_count": 101,
     "metadata": {},
     "output_type": "execute_result"
    }
   ],
   "source": [
    "NewYork[50:].head()"
   ]
  },
  {
   "cell_type": "code",
   "execution_count": 112,
   "metadata": {},
   "outputs": [
    {
     "name": "stderr",
     "output_type": "stream",
     "text": [
      "/anaconda3/lib/python3.6/site-packages/ipykernel_launcher.py:11: SettingWithCopyWarning: \n",
      "A value is trying to be set on a copy of a slice from a DataFrame.\n",
      "Try using .loc[row_indexer,col_indexer] = value instead\n",
      "\n",
      "See the caveats in the documentation: https://pandas.pydata.org/pandas-docs/stable/user_guide/indexing.html#returning-a-view-versus-a-copy\n",
      "  # This is added back by InteractiveShellApp.init_path()\n"
     ]
    }
   ],
   "source": [
    "def c_func(cols):\n",
    "    #str(r[country_col])+(\"_\"+str(r[province_col])).replace(\"_nan\",\"\")\n",
    "    def lm(r):\n",
    "        s = str(r[cols[0]]).replace(\"United States\",\"US\")\n",
    "        for c in cols[1:]:\n",
    "            s+= (\"_\"+str(r[c])).replace(\"_nan\",\"\")\n",
    "        return s\n",
    "    return lm\n",
    "key_cols2 = ['CountryName','RegionName']\n",
    "key_cols_func = c_func\n",
    "OxWorld2[\"key\"] = OxWorld2.apply(lambda r: key_cols_func(key_cols2)(r),axis=1)"
   ]
  },
  {
   "cell_type": "code",
   "execution_count": 113,
   "metadata": {},
   "outputs": [
    {
     "data": {
      "text/plain": [
       "['Laos',\n",
       " 'US_Indiana',\n",
       " 'US',\n",
       " 'US_Ohio',\n",
       " 'Algeria',\n",
       " 'Guam',\n",
       " 'Turks and Caicos Islands',\n",
       " 'Finland',\n",
       " \"Cote d'Ivoire\",\n",
       " 'Chile',\n",
       " 'US_Kansas',\n",
       " 'Eritrea',\n",
       " 'US_New Mexico',\n",
       " 'US_Nevada',\n",
       " 'US_Pennsylvania',\n",
       " 'Turkey',\n",
       " 'Zambia',\n",
       " 'Hungary',\n",
       " 'Croatia',\n",
       " 'Cyprus']"
      ]
     },
     "execution_count": 113,
     "metadata": {},
     "output_type": "execute_result"
    }
   ],
   "source": [
    "list(set(OxWorld2[\"key\"]))[:20]"
   ]
  },
  {
   "cell_type": "code",
   "execution_count": 114,
   "metadata": {},
   "outputs": [],
   "source": [
    "A = set([eval(k)[0] for k in d1.keys()])"
   ]
  },
  {
   "cell_type": "code",
   "execution_count": 115,
   "metadata": {},
   "outputs": [
    {
     "data": {
      "text/plain": [
       "(326, 243)"
      ]
     },
     "execution_count": 115,
     "metadata": {},
     "output_type": "execute_result"
    }
   ],
   "source": [
    "B= set(OxWorld2[\"key\"])\n",
    "len(A),len(B)"
   ]
  },
  {
   "cell_type": "code",
   "execution_count": 119,
   "metadata": {},
   "outputs": [
    {
     "data": {
      "text/plain": [
       "207"
      ]
     },
     "execution_count": 119,
     "metadata": {},
     "output_type": "execute_result"
    }
   ],
   "source": [
    "intersect= A.intersection(B)\n",
    "len(intersect)"
   ]
  },
  {
   "cell_type": "code",
   "execution_count": 117,
   "metadata": {},
   "outputs": [
    {
     "data": {
      "text/plain": [
       "['Guam',\n",
       " 'Turks and Caicos Islands',\n",
       " 'United Kingdom_Wales',\n",
       " 'Palestine',\n",
       " 'Democratic Republic of Congo',\n",
       " 'United Kingdom_England',\n",
       " 'Falkland Islands',\n",
       " 'Slovak Republic',\n",
       " 'British Virgin Islands',\n",
       " 'Taiwan',\n",
       " 'United Kingdom_Northern Ireland',\n",
       " 'Myanmar',\n",
       " 'Canada',\n",
       " 'Macao',\n",
       " 'China',\n",
       " 'Pitcairn Islands',\n",
       " 'Vanuatu',\n",
       " 'US Virgin Islands',\n",
       " 'Puerto Rico',\n",
       " 'Aruba',\n",
       " 'Anguilla',\n",
       " 'US_Washington DC',\n",
       " 'Bermuda',\n",
       " 'Czech Republic',\n",
       " 'Congo',\n",
       " 'Cayman Islands',\n",
       " 'Hong Kong',\n",
       " 'Kyrgyz Republic',\n",
       " 'Gibraltar',\n",
       " 'Australia',\n",
       " 'Greenland',\n",
       " 'Turkmenistan',\n",
       " 'South Korea',\n",
       " 'United Kingdom_Scotland',\n",
       " 'Cape Verde',\n",
       " 'Montserrat']"
      ]
     },
     "execution_count": 117,
     "metadata": {},
     "output_type": "execute_result"
    }
   ],
   "source": [
    "list([x for x in B  if not x in A])"
   ]
  },
  {
   "cell_type": "code",
   "execution_count": 118,
   "metadata": {},
   "outputs": [
    {
     "data": {
      "text/plain": [
       "['MS Zaandam',\n",
       " 'Congo (Brazzaville)',\n",
       " 'China_Macau',\n",
       " 'Grenada',\n",
       " 'China_Hunan',\n",
       " 'Canada_Prince Edward Island',\n",
       " 'China_Xinjiang',\n",
       " 'Maldives',\n",
       " 'Holy See',\n",
       " 'Monaco',\n",
       " 'China_Jiangsu',\n",
       " 'China_Shanghai',\n",
       " 'Canada_New Brunswick',\n",
       " 'Australia_Australian Capital Territory',\n",
       " 'Taiwan*',\n",
       " 'China_Fujian',\n",
       " 'United Kingdom_Bermuda',\n",
       " 'Canada_Manitoba',\n",
       " 'China_Guangdong',\n",
       " 'Congo (Kinshasa)',\n",
       " 'United Kingdom_Falkland Islands (Malvinas)',\n",
       " 'France_French Guiana',\n",
       " 'France_Guadeloupe',\n",
       " 'US_Northern Mariana Islands',\n",
       " 'US_Diamond Princess',\n",
       " 'France_Saint Pierre and Miquelon',\n",
       " 'China_Hubei',\n",
       " 'Netherlands_Bonaire, Sint Eustatius and Saba',\n",
       " 'Antigua and Barbuda',\n",
       " 'Canada_Saskatchewan',\n",
       " 'Armenia',\n",
       " 'Netherlands_Sint Maarten',\n",
       " 'US_American Samoa',\n",
       " 'France_Reunion',\n",
       " 'West Bank and Gaza',\n",
       " 'United Kingdom_Turks and Caicos Islands',\n",
       " 'United Kingdom_Channel Islands',\n",
       " 'China_Tibet',\n",
       " 'Denmark_Greenland',\n",
       " 'Czechia',\n",
       " 'Australia_Queensland',\n",
       " 'China_Hong Kong',\n",
       " 'China_Qinghai',\n",
       " 'China_Jilin',\n",
       " 'China_Guizhou',\n",
       " 'Canada_Yukon',\n",
       " 'China_Shaanxi',\n",
       " 'North Macedonia',\n",
       " 'China_Guangxi',\n",
       " 'Canada_Quebec',\n",
       " 'Canada_Northwest Territories',\n",
       " 'Canada_Nova Scotia',\n",
       " 'Malta',\n",
       " 'Canada_Diamond Princess',\n",
       " 'China_Henan',\n",
       " 'Guinea-Bissau',\n",
       " 'United Kingdom_Gibraltar',\n",
       " 'China_Shanxi',\n",
       " 'US_Puerto Rico',\n",
       " 'Bahamas',\n",
       " 'Kyrgyzstan',\n",
       " 'Australia_South Australia',\n",
       " 'China_Anhui',\n",
       " 'China_Shandong',\n",
       " 'Denmark_Faroe Islands',\n",
       " 'China_Heilongjiang',\n",
       " 'China_Sichuan',\n",
       " 'Saint Vincent and the Grenadines',\n",
       " 'Saint Kitts and Nevis',\n",
       " 'United Kingdom_Cayman Islands',\n",
       " 'Korea, South',\n",
       " 'China_Hebei',\n",
       " 'China_Chongqing',\n",
       " 'Canada_Ontario',\n",
       " 'Slovakia',\n",
       " 'France_Martinique',\n",
       " 'Marshall Islands',\n",
       " 'Cabo Verde',\n",
       " 'Netherlands_Aruba',\n",
       " 'Australia_Tasmania',\n",
       " 'Equatorial Guinea',\n",
       " 'Saint Lucia',\n",
       " 'United Kingdom_Anguilla',\n",
       " 'Canada_Grand Princess',\n",
       " 'France_Mayotte',\n",
       " 'United Kingdom_British Virgin Islands',\n",
       " 'China_Yunnan',\n",
       " 'Australia_Western Australia',\n",
       " 'Diamond Princess',\n",
       " 'United Kingdom_Isle of Man',\n",
       " 'Australia_Victoria',\n",
       " 'Canada_Newfoundland and Labrador',\n",
       " 'US_Grand Princess',\n",
       " 'China_Zhejiang',\n",
       " 'US_Guam',\n",
       " 'Canada_British Columbia',\n",
       " 'US_District of Columbia',\n",
       " 'Montenegro',\n",
       " 'France_French Polynesia',\n",
       " 'Australia_Northern Territory',\n",
       " 'Liechtenstein',\n",
       " 'China_Gansu',\n",
       " 'China_Ningxia',\n",
       " 'China_Tianjin',\n",
       " 'Burma',\n",
       " 'United Kingdom_Montserrat',\n",
       " 'China_Hainan',\n",
       " 'China_Jiangxi',\n",
       " 'Canada_Alberta',\n",
       " 'France_Saint Barthelemy',\n",
       " 'Netherlands_Curacao',\n",
       " 'Western Sahara',\n",
       " 'China_Liaoning',\n",
       " 'Australia_New South Wales',\n",
       " 'France_New Caledonia',\n",
       " 'China_Beijing',\n",
       " 'France_St Martin',\n",
       " 'China_Inner Mongolia',\n",
       " 'Sao Tome and Principe']"
      ]
     },
     "execution_count": 118,
     "metadata": {},
     "output_type": "execute_result"
    }
   ],
   "source": [
    "list([x for x in A  if not x in B])"
   ]
  },
  {
   "cell_type": "code",
   "execution_count": 120,
   "metadata": {},
   "outputs": [
    {
     "data": {
      "text/plain": [
       "['Laos',\n",
       " 'US_Indiana',\n",
       " 'US',\n",
       " 'US_Ohio',\n",
       " 'Algeria',\n",
       " 'Finland',\n",
       " \"Cote d'Ivoire\",\n",
       " 'Chile',\n",
       " 'US_Kansas',\n",
       " 'Eritrea']"
      ]
     },
     "execution_count": 120,
     "metadata": {},
     "output_type": "execute_result"
    }
   ],
   "source": [
    "list(intersect)[:10]"
   ]
  },
  {
   "cell_type": "code",
   "execution_count": 125,
   "metadata": {},
   "outputs": [
    {
     "data": {
      "text/plain": [
       "([], 31, 51)"
      ]
     },
     "execution_count": 125,
     "metadata": {},
     "output_type": "execute_result"
    }
   ],
   "source": [
    "[x for x in Ax_oecd if not x in intersect],len(Ax_oecd),len([x for x in intersect if x.find(\"US_\")>-1])"
   ]
  },
  {
   "cell_type": "code",
   "execution_count": 126,
   "metadata": {},
   "outputs": [],
   "source": [
    "OxWG = {k:v for k,v in OxWorld2.groupby(\"key\")}"
   ]
  },
  {
   "cell_type": "code",
   "execution_count": 127,
   "metadata": {},
   "outputs": [
    {
     "data": {
      "text/html": [
       "<div>\n",
       "<style scoped>\n",
       "    .dataframe tbody tr th:only-of-type {\n",
       "        vertical-align: middle;\n",
       "    }\n",
       "\n",
       "    .dataframe tbody tr th {\n",
       "        vertical-align: top;\n",
       "    }\n",
       "\n",
       "    .dataframe thead th {\n",
       "        text-align: right;\n",
       "    }\n",
       "</style>\n",
       "<table border=\"1\" class=\"dataframe\">\n",
       "  <thead>\n",
       "    <tr style=\"text-align: right;\">\n",
       "      <th></th>\n",
       "      <th>CountryName</th>\n",
       "      <th>CountryCode</th>\n",
       "      <th>RegionName</th>\n",
       "      <th>RegionCode</th>\n",
       "      <th>Date</th>\n",
       "      <th>C1_School closing</th>\n",
       "      <th>C1_Flag</th>\n",
       "      <th>C2_Workplace closing</th>\n",
       "      <th>C2_Flag</th>\n",
       "      <th>C3_Cancel public events</th>\n",
       "      <th>...</th>\n",
       "      <th>StringencyIndexForDisplay</th>\n",
       "      <th>StringencyLegacyIndex</th>\n",
       "      <th>StringencyLegacyIndexForDisplay</th>\n",
       "      <th>GovernmentResponseIndex</th>\n",
       "      <th>GovernmentResponseIndexForDisplay</th>\n",
       "      <th>ContainmentHealthIndex</th>\n",
       "      <th>ContainmentHealthIndexForDisplay</th>\n",
       "      <th>EconomicSupportIndex</th>\n",
       "      <th>EconomicSupportIndexForDisplay</th>\n",
       "      <th>key</th>\n",
       "    </tr>\n",
       "  </thead>\n",
       "  <tbody>\n",
       "    <tr>\n",
       "      <th>13876</th>\n",
       "      <td>Germany</td>\n",
       "      <td>DEU</td>\n",
       "      <td>NaN</td>\n",
       "      <td>NaN</td>\n",
       "      <td>2020-03-02</td>\n",
       "      <td>2.0</td>\n",
       "      <td>0.0</td>\n",
       "      <td>0.0</td>\n",
       "      <td>NaN</td>\n",
       "      <td>1.0</td>\n",
       "      <td>...</td>\n",
       "      <td>25.0</td>\n",
       "      <td>34.52</td>\n",
       "      <td>34.52</td>\n",
       "      <td>25.6</td>\n",
       "      <td>25.6</td>\n",
       "      <td>29.86</td>\n",
       "      <td>29.86</td>\n",
       "      <td>0.0</td>\n",
       "      <td>0.0</td>\n",
       "      <td>Germany</td>\n",
       "    </tr>\n",
       "    <tr>\n",
       "      <th>13877</th>\n",
       "      <td>Germany</td>\n",
       "      <td>DEU</td>\n",
       "      <td>NaN</td>\n",
       "      <td>NaN</td>\n",
       "      <td>2020-03-03</td>\n",
       "      <td>2.0</td>\n",
       "      <td>0.0</td>\n",
       "      <td>0.0</td>\n",
       "      <td>NaN</td>\n",
       "      <td>1.0</td>\n",
       "      <td>...</td>\n",
       "      <td>25.0</td>\n",
       "      <td>34.52</td>\n",
       "      <td>34.52</td>\n",
       "      <td>25.6</td>\n",
       "      <td>25.6</td>\n",
       "      <td>29.86</td>\n",
       "      <td>29.86</td>\n",
       "      <td>0.0</td>\n",
       "      <td>0.0</td>\n",
       "      <td>Germany</td>\n",
       "    </tr>\n",
       "    <tr>\n",
       "      <th>13878</th>\n",
       "      <td>Germany</td>\n",
       "      <td>DEU</td>\n",
       "      <td>NaN</td>\n",
       "      <td>NaN</td>\n",
       "      <td>2020-03-04</td>\n",
       "      <td>2.0</td>\n",
       "      <td>0.0</td>\n",
       "      <td>0.0</td>\n",
       "      <td>NaN</td>\n",
       "      <td>1.0</td>\n",
       "      <td>...</td>\n",
       "      <td>25.0</td>\n",
       "      <td>34.52</td>\n",
       "      <td>34.52</td>\n",
       "      <td>25.6</td>\n",
       "      <td>25.6</td>\n",
       "      <td>29.86</td>\n",
       "      <td>29.86</td>\n",
       "      <td>0.0</td>\n",
       "      <td>0.0</td>\n",
       "      <td>Germany</td>\n",
       "    </tr>\n",
       "    <tr>\n",
       "      <th>13879</th>\n",
       "      <td>Germany</td>\n",
       "      <td>DEU</td>\n",
       "      <td>NaN</td>\n",
       "      <td>NaN</td>\n",
       "      <td>2020-03-05</td>\n",
       "      <td>2.0</td>\n",
       "      <td>0.0</td>\n",
       "      <td>0.0</td>\n",
       "      <td>NaN</td>\n",
       "      <td>1.0</td>\n",
       "      <td>...</td>\n",
       "      <td>25.0</td>\n",
       "      <td>34.52</td>\n",
       "      <td>34.52</td>\n",
       "      <td>25.6</td>\n",
       "      <td>25.6</td>\n",
       "      <td>29.86</td>\n",
       "      <td>29.86</td>\n",
       "      <td>0.0</td>\n",
       "      <td>0.0</td>\n",
       "      <td>Germany</td>\n",
       "    </tr>\n",
       "    <tr>\n",
       "      <th>13880</th>\n",
       "      <td>Germany</td>\n",
       "      <td>DEU</td>\n",
       "      <td>NaN</td>\n",
       "      <td>NaN</td>\n",
       "      <td>2020-03-06</td>\n",
       "      <td>2.0</td>\n",
       "      <td>0.0</td>\n",
       "      <td>0.0</td>\n",
       "      <td>NaN</td>\n",
       "      <td>1.0</td>\n",
       "      <td>...</td>\n",
       "      <td>25.0</td>\n",
       "      <td>34.52</td>\n",
       "      <td>34.52</td>\n",
       "      <td>25.6</td>\n",
       "      <td>25.6</td>\n",
       "      <td>29.86</td>\n",
       "      <td>29.86</td>\n",
       "      <td>0.0</td>\n",
       "      <td>0.0</td>\n",
       "      <td>Germany</td>\n",
       "    </tr>\n",
       "  </tbody>\n",
       "</table>\n",
       "<p>5 rows × 47 columns</p>\n",
       "</div>"
      ],
      "text/plain": [
       "      CountryName CountryCode RegionName RegionCode        Date  \\\n",
       "13876     Germany         DEU        NaN        NaN  2020-03-02   \n",
       "13877     Germany         DEU        NaN        NaN  2020-03-03   \n",
       "13878     Germany         DEU        NaN        NaN  2020-03-04   \n",
       "13879     Germany         DEU        NaN        NaN  2020-03-05   \n",
       "13880     Germany         DEU        NaN        NaN  2020-03-06   \n",
       "\n",
       "       C1_School closing  C1_Flag  C2_Workplace closing  C2_Flag  \\\n",
       "13876                2.0      0.0                   0.0      NaN   \n",
       "13877                2.0      0.0                   0.0      NaN   \n",
       "13878                2.0      0.0                   0.0      NaN   \n",
       "13879                2.0      0.0                   0.0      NaN   \n",
       "13880                2.0      0.0                   0.0      NaN   \n",
       "\n",
       "       C3_Cancel public events  ...  StringencyIndexForDisplay  \\\n",
       "13876                      1.0  ...                       25.0   \n",
       "13877                      1.0  ...                       25.0   \n",
       "13878                      1.0  ...                       25.0   \n",
       "13879                      1.0  ...                       25.0   \n",
       "13880                      1.0  ...                       25.0   \n",
       "\n",
       "       StringencyLegacyIndex  StringencyLegacyIndexForDisplay  \\\n",
       "13876                  34.52                            34.52   \n",
       "13877                  34.52                            34.52   \n",
       "13878                  34.52                            34.52   \n",
       "13879                  34.52                            34.52   \n",
       "13880                  34.52                            34.52   \n",
       "\n",
       "       GovernmentResponseIndex  GovernmentResponseIndexForDisplay  \\\n",
       "13876                     25.6                               25.6   \n",
       "13877                     25.6                               25.6   \n",
       "13878                     25.6                               25.6   \n",
       "13879                     25.6                               25.6   \n",
       "13880                     25.6                               25.6   \n",
       "\n",
       "       ContainmentHealthIndex  ContainmentHealthIndexForDisplay  \\\n",
       "13876                   29.86                             29.86   \n",
       "13877                   29.86                             29.86   \n",
       "13878                   29.86                             29.86   \n",
       "13879                   29.86                             29.86   \n",
       "13880                   29.86                             29.86   \n",
       "\n",
       "       EconomicSupportIndex  EconomicSupportIndexForDisplay      key  \n",
       "13876                   0.0                             0.0  Germany  \n",
       "13877                   0.0                             0.0  Germany  \n",
       "13878                   0.0                             0.0  Germany  \n",
       "13879                   0.0                             0.0  Germany  \n",
       "13880                   0.0                             0.0  Germany  \n",
       "\n",
       "[5 rows x 47 columns]"
      ]
     },
     "execution_count": 127,
     "metadata": {},
     "output_type": "execute_result"
    }
   ],
   "source": [
    "OxWG[\"Germany\"].head()"
   ]
  },
  {
   "cell_type": "code",
   "execution_count": 147,
   "metadata": {},
   "outputs": [],
   "source": [
    "from collections import OrderedDict\n",
    "def prep_data_with_dt(file_name,col_name,key_cols,key_cols_func):\n",
    "    df = pd.read_csv(file_name)\n",
    "    #df.dropna(subset=[\"C1_School closing\"],axis=0)\n",
    "    df = df[df[\"C1_School closing\"].astype(str)!=\"nan\"]\n",
    "    df[\"Date\"] = OxWorld.apply(lambda r: convert_dates(str(r[\"Date\"])),axis=1 )\n",
    "    df = df.set_index(\"Date\")\n",
    "    df[\"key\"] = df.apply(lambda r: key_cols_func(key_cols)(r),axis=1)\n",
    "    return OrderedDict([(k,v) for k,v  in df.groupby(\"key\")])\n",
    "    \n",
    "    \n",
    "    \n"
   ]
  },
  {
   "cell_type": "code",
   "execution_count": 148,
   "metadata": {},
   "outputs": [
    {
     "name": "stderr",
     "output_type": "stream",
     "text": [
      "/anaconda3/lib/python3.6/site-packages/IPython/core/interactiveshell.py:3254: DtypeWarning: Columns (2,3) have mixed types.Specify dtype option on import or set low_memory=False.\n",
      "  if (await self.run_code(code, result,  async_=asy)):\n"
     ]
    }
   ],
   "source": [
    "file_name = \"../covid-policy-tracker/data/OxCGRT_latest.csv\"\n",
    "col_name =\"\"\n",
    "OxWN = prep_data_with_dt(file_name,col_name,key_cols2,key_cols_func)"
   ]
  },
  {
   "cell_type": "code",
   "execution_count": 145,
   "metadata": {
    "scrolled": true
   },
   "outputs": [
    {
     "data": {
      "text/plain": [
       "(305, 46)"
      ]
     },
     "execution_count": 145,
     "metadata": {},
     "output_type": "execute_result"
    }
   ],
   "source": [
    "OxWN[\"Israel\"].shape"
   ]
  },
  {
   "cell_type": "code",
   "execution_count": 146,
   "metadata": {},
   "outputs": [],
   "source": [
    "from FeatureGenerator import *"
   ]
  },
  {
   "cell_type": "code",
   "execution_count": 150,
   "metadata": {},
   "outputs": [
    {
     "name": "stderr",
     "output_type": "stream",
     "text": [
      "/anaconda3/lib/python3.6/site-packages/IPython/core/interactiveshell.py:3331: DtypeWarning: Columns (2,3) have mixed types.Specify dtype option on import or set low_memory=False.\n",
      "  exec(code_obj, self.user_global_ns, self.user_ns)\n"
     ]
    }
   ],
   "source": [
    "col_name = \"C1_School closing\"\n",
    "dct1= create_df_dict(file_name=file_name,col_name=col_name,key_cols=key_cols2,key_cols_func=key_cols_func,prep_data=prep_data_with_dt,rep_indexes=False,dict_indexes={})"
   ]
  },
  {
   "cell_type": "code",
   "execution_count": 154,
   "metadata": {},
   "outputs": [
    {
     "name": "stderr",
     "output_type": "stream",
     "text": [
      "/anaconda3/lib/python3.6/site-packages/ipykernel_launcher.py:5: DtypeWarning: Columns (2,3) have mixed types.Specify dtype option on import or set low_memory=False.\n",
      "  \"\"\"\n"
     ]
    },
    {
     "name": "stdout",
     "output_type": "stream",
     "text": [
      "17.06\n",
      "0.0\n",
      "16.95\n",
      "1.26\n",
      "start2: 0.08\n",
      "start2: 0.02\n",
      "start2: 0.02\n",
      "start2: 0.02\n",
      "start2: 0.03\n",
      "0.18\n"
     ]
    },
    {
     "name": "stderr",
     "output_type": "stream",
     "text": [
      "  0%|          | 0/25 [00:00<?, ?it/s]\n",
      "  0%|          | 0/242 [00:00<?, ?it/s]\u001b[A\n",
      "  5%|▍         | 11/242 [00:00<00:02, 108.28it/s]\u001b[A\n",
      " 10%|▉         | 24/242 [00:00<00:01, 113.20it/s]\u001b[A\n",
      " 17%|█▋        | 40/242 [00:00<00:01, 123.03it/s]\u001b[A\n",
      " 21%|██▏       | 52/242 [00:00<00:01, 120.16it/s]\u001b[A\n",
      " 28%|██▊       | 67/242 [00:00<00:01, 127.32it/s]\u001b[A\n",
      " 35%|███▍      | 84/242 [00:00<00:01, 137.63it/s]\u001b[A\n",
      " 41%|████      | 99/242 [00:00<00:01, 140.47it/s]\u001b[A\n",
      " 48%|████▊     | 116/242 [00:00<00:00, 147.98it/s]\u001b[A\n",
      " 54%|█████▍    | 131/242 [00:00<00:00, 147.28it/s]\u001b[A\n",
      " 60%|██████    | 146/242 [00:01<00:00, 144.67it/s]\u001b[A\n",
      " 67%|██████▋   | 161/242 [00:01<00:00, 145.42it/s]\u001b[A\n",
      " 74%|███████▍  | 179/242 [00:01<00:00, 152.10it/s]\u001b[A\n",
      " 81%|████████  | 195/242 [00:01<00:00, 149.74it/s]\u001b[A\n",
      " 87%|████████▋ | 211/242 [00:01<00:00, 151.19it/s]\u001b[A\n",
      " 94%|█████████▍| 227/242 [00:01<00:00, 147.06it/s]\u001b[A\n",
      "100%|██████████| 242/242 [00:01<00:00, 144.79it/s]\u001b[A\n",
      "  4%|▍         | 1/25 [00:01<00:43,  1.80s/it]\n",
      "  0%|          | 0/242 [00:00<?, ?it/s]\u001b[A\n",
      "  6%|▌         | 14/242 [00:00<00:01, 135.81it/s]\u001b[A"
     ]
    },
    {
     "name": "stdout",
     "output_type": "stream",
     "text": [
      "start2: 0.12\n"
     ]
    },
    {
     "name": "stderr",
     "output_type": "stream",
     "text": [
      "\n",
      " 12%|█▏        | 30/242 [00:00<00:01, 140.49it/s]\u001b[A\n",
      " 19%|█▉        | 47/242 [00:00<00:01, 147.35it/s]\u001b[A\n",
      " 25%|██▌       | 61/242 [00:00<00:01, 142.96it/s]\u001b[A\n",
      " 32%|███▏      | 78/242 [00:00<00:01, 149.55it/s]\u001b[A\n",
      " 39%|███▉      | 94/242 [00:00<00:00, 152.38it/s]\u001b[A\n",
      " 45%|████▌     | 109/242 [00:00<00:00, 149.94it/s]\u001b[A\n",
      " 52%|█████▏    | 127/242 [00:00<00:00, 156.10it/s]\u001b[A\n",
      " 59%|█████▉    | 143/242 [00:00<00:00, 156.90it/s]\u001b[A\n",
      " 66%|██████▌   | 159/242 [00:01<00:00, 152.42it/s]\u001b[A\n",
      " 73%|███████▎  | 176/242 [00:01<00:00, 156.77it/s]\u001b[A\n",
      " 79%|███████▉  | 192/242 [00:01<00:00, 151.66it/s]\u001b[A\n",
      " 86%|████████▌ | 208/242 [00:01<00:00, 147.36it/s]\u001b[A\n",
      " 93%|█████████▎| 224/242 [00:01<00:00, 150.21it/s]\u001b[A\n",
      "100%|██████████| 242/242 [00:01<00:00, 151.85it/s]\u001b[A\n",
      "  8%|▊         | 2/25 [00:03<00:40,  1.78s/it]\n",
      "  0%|          | 0/242 [00:00<?, ?it/s]\u001b[A\n",
      "  6%|▌         | 14/242 [00:00<00:01, 139.49it/s]\u001b[A"
     ]
    },
    {
     "name": "stdout",
     "output_type": "stream",
     "text": [
      "start2: 0.12\n"
     ]
    },
    {
     "name": "stderr",
     "output_type": "stream",
     "text": [
      "\n",
      " 10%|█         | 25/242 [00:00<00:01, 128.57it/s]\u001b[A\n",
      " 16%|█▌        | 38/242 [00:00<00:01, 128.27it/s]\u001b[A\n",
      " 21%|██▏       | 52/242 [00:00<00:01, 130.94it/s]\u001b[A\n",
      " 27%|██▋       | 66/242 [00:00<00:01, 132.17it/s]\u001b[A\n",
      " 34%|███▍      | 82/242 [00:00<00:01, 137.44it/s]\u001b[A\n",
      " 40%|████      | 98/242 [00:00<00:01, 140.36it/s]\u001b[A\n",
      " 46%|████▋     | 112/242 [00:00<00:00, 140.20it/s]\u001b[A\n",
      " 54%|█████▎    | 130/242 [00:00<00:00, 150.06it/s]\u001b[A\n",
      " 60%|██████    | 146/242 [00:01<00:00, 150.65it/s]\u001b[A\n",
      " 67%|██████▋   | 161/242 [00:01<00:00, 142.36it/s]\u001b[A\n",
      " 74%|███████▍  | 179/242 [00:01<00:00, 151.48it/s]\u001b[A\n",
      " 81%|████████  | 195/242 [00:01<00:00, 148.72it/s]\u001b[A\n",
      " 87%|████████▋ | 210/242 [00:01<00:00, 144.70it/s]\u001b[A\n",
      "100%|██████████| 242/242 [00:01<00:00, 143.92it/s]\u001b[A\n",
      " 12%|█▏        | 3/25 [00:05<00:39,  1.78s/it]\n",
      "  0%|          | 0/242 [00:00<?, ?it/s]\u001b[A\n",
      "  0%|          | 1/242 [00:00<00:29,  8.12it/s]\u001b[A"
     ]
    },
    {
     "name": "stdout",
     "output_type": "stream",
     "text": [
      "start2: 0.11\n"
     ]
    },
    {
     "name": "stderr",
     "output_type": "stream",
     "text": [
      "\n",
      "  7%|▋         | 16/242 [00:00<00:19, 11.31it/s]\u001b[A\n",
      " 13%|█▎        | 31/242 [00:00<00:13, 15.64it/s]\u001b[A\n",
      " 19%|█▊        | 45/242 [00:00<00:09, 21.27it/s]\u001b[A\n",
      " 26%|██▌       | 63/242 [00:00<00:06, 28.87it/s]\u001b[A\n",
      " 33%|███▎      | 80/242 [00:00<00:04, 38.37it/s]\u001b[A\n",
      " 39%|███▉      | 95/242 [00:00<00:02, 49.35it/s]\u001b[A\n",
      " 45%|████▌     | 109/242 [00:00<00:02, 61.04it/s]\u001b[A\n",
      " 52%|█████▏    | 125/242 [00:00<00:01, 74.91it/s]\u001b[A\n",
      " 58%|█████▊    | 141/242 [00:01<00:01, 88.44it/s]\u001b[A\n",
      " 65%|██████▍   | 157/242 [00:01<00:00, 101.28it/s]\u001b[A\n",
      " 73%|███████▎  | 176/242 [00:01<00:00, 117.72it/s]\u001b[A\n",
      " 80%|███████▉  | 193/242 [00:01<00:00, 125.60it/s]\u001b[A\n",
      " 87%|████████▋ | 210/242 [00:01<00:00, 136.22it/s]\u001b[A\n",
      "100%|██████████| 242/242 [00:01<00:00, 142.44it/s]\u001b[A\n",
      " 16%|█▌        | 4/25 [00:07<00:42,  2.02s/it]\n",
      "  0%|          | 0/242 [00:00<?, ?it/s]\u001b[A"
     ]
    },
    {
     "name": "stdout",
     "output_type": "stream",
     "text": [
      "start2: 0.86\n"
     ]
    },
    {
     "name": "stderr",
     "output_type": "stream",
     "text": [
      "\n",
      "  0%|          | 1/242 [00:00<01:46,  2.27it/s]\u001b[A\n",
      "  5%|▍         | 11/242 [00:00<01:12,  3.21it/s]\u001b[A\n",
      "  8%|▊         | 20/242 [00:00<00:49,  4.51it/s]\u001b[A\n",
      " 13%|█▎        | 31/242 [00:00<00:33,  6.32it/s]\u001b[A\n",
      " 17%|█▋        | 41/242 [00:00<00:22,  8.78it/s]\u001b[A\n",
      " 22%|██▏       | 53/242 [00:00<00:15, 12.14it/s]\u001b[A\n",
      " 27%|██▋       | 66/242 [00:01<00:10, 16.67it/s]\u001b[A\n",
      " 33%|███▎      | 80/242 [00:01<00:07, 22.63it/s]\u001b[A\n",
      " 38%|███▊      | 91/242 [00:01<00:05, 29.25it/s]\u001b[A\n",
      " 44%|████▍     | 106/242 [00:01<00:03, 38.49it/s]\u001b[A\n",
      " 50%|████▉     | 120/242 [00:01<00:02, 49.13it/s]\u001b[A\n",
      " 56%|█████▌    | 135/242 [00:01<00:01, 61.54it/s]\u001b[A\n",
      " 62%|██████▏   | 149/242 [00:01<00:01, 73.05it/s]\u001b[A\n",
      " 68%|██████▊   | 164/242 [00:01<00:00, 85.65it/s]\u001b[A\n",
      " 74%|███████▍  | 179/242 [00:01<00:00, 97.87it/s]\u001b[A\n",
      " 80%|███████▉  | 193/242 [00:02<00:00, 106.98it/s]\u001b[A\n",
      " 86%|████████▌ | 207/242 [00:02<00:00, 113.24it/s]\u001b[A\n",
      " 92%|█████████▏| 222/242 [00:02<00:00, 122.09it/s]\u001b[A\n",
      "100%|██████████| 242/242 [00:02<00:00, 102.86it/s]\u001b[A\n",
      " 20%|██        | 5/25 [00:10<00:43,  2.16s/it]\n",
      "  0%|          | 0/242 [00:00<?, ?it/s]\u001b[A\n",
      "  8%|▊         | 19/242 [00:00<00:01, 183.15it/s]\u001b[A"
     ]
    },
    {
     "name": "stdout",
     "output_type": "stream",
     "text": [
      "start2: 0.13\n"
     ]
    },
    {
     "name": "stderr",
     "output_type": "stream",
     "text": [
      "\n",
      " 15%|█▍        | 36/242 [00:00<00:01, 176.53it/s]\u001b[A\n",
      " 22%|██▏       | 54/242 [00:00<00:01, 176.79it/s]\u001b[A\n",
      " 30%|███       | 73/242 [00:00<00:00, 179.87it/s]\u001b[A\n",
      " 38%|███▊      | 91/242 [00:00<00:00, 177.93it/s]\u001b[A\n",
      " 45%|████▌     | 110/242 [00:00<00:00, 179.35it/s]\u001b[A\n",
      " 53%|█████▎    | 128/242 [00:00<00:00, 179.07it/s]\u001b[A\n",
      " 60%|█████▉    | 145/242 [00:00<00:00, 175.56it/s]\u001b[A\n",
      " 67%|██████▋   | 163/242 [00:00<00:00, 176.12it/s]\u001b[A\n",
      " 75%|███████▍  | 181/242 [00:01<00:00, 175.59it/s]\u001b[A\n",
      " 82%|████████▏ | 199/242 [00:01<00:00, 173.80it/s]\u001b[A\n",
      " 90%|█████████ | 218/242 [00:01<00:00, 177.12it/s]\u001b[A\n",
      "100%|██████████| 242/242 [00:01<00:00, 176.27it/s]\u001b[A\n",
      " 24%|██▍       | 6/25 [00:11<00:37,  1.96s/it]\n",
      "  0%|          | 0/242 [00:00<?, ?it/s]\u001b[A\n",
      "  8%|▊         | 20/242 [00:00<00:01, 193.60it/s]\u001b[A"
     ]
    },
    {
     "name": "stdout",
     "output_type": "stream",
     "text": [
      "start2: 0.13\n"
     ]
    },
    {
     "name": "stderr",
     "output_type": "stream",
     "text": [
      "\n",
      " 15%|█▍        | 36/242 [00:00<00:01, 179.74it/s]\u001b[A\n",
      " 22%|██▏       | 53/242 [00:00<00:01, 174.71it/s]\u001b[A\n",
      " 30%|███       | 73/242 [00:00<00:00, 179.73it/s]\u001b[A\n",
      " 36%|███▋      | 88/242 [00:00<00:00, 169.17it/s]\u001b[A\n",
      " 45%|████▍     | 108/242 [00:00<00:00, 177.03it/s]\u001b[A\n",
      " 52%|█████▏    | 127/242 [00:00<00:00, 179.81it/s]\u001b[A\n",
      " 60%|█████▉    | 144/242 [00:00<00:00, 170.81it/s]\u001b[A\n",
      " 67%|██████▋   | 161/242 [00:00<00:00, 167.49it/s]\u001b[A\n",
      " 74%|███████▍  | 179/242 [00:01<00:00, 170.22it/s]\u001b[A\n",
      " 81%|████████  | 196/242 [00:01<00:00, 165.28it/s]\u001b[A\n",
      " 89%|████████▉ | 215/242 [00:01<00:00, 170.11it/s]\u001b[A\n",
      "100%|██████████| 242/242 [00:01<00:00, 169.82it/s]\u001b[A\n",
      " 28%|██▊       | 7/25 [00:13<00:33,  1.84s/it]\n",
      "  0%|          | 0/242 [00:00<?, ?it/s]\u001b[A\n",
      "  7%|▋         | 18/242 [00:00<00:01, 177.00it/s]\u001b[A"
     ]
    },
    {
     "name": "stdout",
     "output_type": "stream",
     "text": [
      "start2: 0.11\n"
     ]
    },
    {
     "name": "stderr",
     "output_type": "stream",
     "text": [
      "\n",
      " 14%|█▎        | 33/242 [00:00<00:01, 166.33it/s]\u001b[A\n",
      " 21%|██        | 51/242 [00:00<00:01, 168.01it/s]\u001b[A\n",
      " 29%|██▊       | 69/242 [00:00<00:01, 170.33it/s]\u001b[A\n",
      " 35%|███▌      | 85/242 [00:00<00:00, 166.86it/s]\u001b[A\n",
      " 43%|████▎     | 104/242 [00:00<00:00, 170.90it/s]\u001b[A\n",
      " 50%|████▉     | 120/242 [00:00<00:00, 163.44it/s]\u001b[A\n",
      " 56%|█████▌    | 136/242 [00:00<00:00, 158.61it/s]\u001b[A\n",
      " 64%|██████▎   | 154/242 [00:00<00:00, 163.01it/s]\u001b[A\n",
      " 71%|███████   | 171/242 [00:01<00:00, 165.03it/s]\u001b[A\n",
      " 78%|███████▊  | 188/242 [00:01<00:00, 165.40it/s]\u001b[A\n",
      " 86%|████████▌ | 207/242 [00:01<00:00, 171.58it/s]\u001b[A\n",
      "100%|██████████| 242/242 [00:01<00:00, 167.65it/s]\u001b[A\n",
      " 32%|███▏      | 8/25 [00:14<00:29,  1.76s/it]\n",
      "  0%|          | 0/242 [00:00<?, ?it/s]\u001b[A\n",
      "  8%|▊         | 19/242 [00:00<00:01, 183.28it/s]\u001b[A"
     ]
    },
    {
     "name": "stdout",
     "output_type": "stream",
     "text": [
      "start2: 0.11\n"
     ]
    },
    {
     "name": "stderr",
     "output_type": "stream",
     "text": [
      "\n",
      " 15%|█▌        | 37/242 [00:00<00:01, 182.22it/s]\u001b[A\n",
      " 23%|██▎       | 56/242 [00:00<00:01, 182.20it/s]\u001b[A\n",
      " 31%|███       | 74/242 [00:00<00:00, 178.95it/s]\u001b[A\n",
      " 39%|███▉      | 95/242 [00:00<00:00, 186.27it/s]\u001b[A\n",
      " 47%|████▋     | 114/242 [00:00<00:00, 185.92it/s]\u001b[A\n",
      " 55%|█████▍    | 132/242 [00:00<00:00, 182.43it/s]\u001b[A\n",
      " 62%|██████▏   | 151/242 [00:00<00:00, 183.56it/s]\u001b[A\n",
      " 70%|██████▉   | 169/242 [00:00<00:00, 181.46it/s]\u001b[A\n",
      " 77%|███████▋  | 187/242 [00:01<00:00, 175.19it/s]\u001b[A\n",
      " 85%|████████▍ | 205/242 [00:01<00:00, 173.77it/s]\u001b[A\n",
      "100%|██████████| 242/242 [00:01<00:00, 179.59it/s]\u001b[A\n",
      " 36%|███▌      | 9/25 [00:16<00:26,  1.67s/it]\n",
      "  0%|          | 0/242 [00:00<?, ?it/s]\u001b[A\n",
      "  7%|▋         | 16/242 [00:00<00:01, 158.56it/s]\u001b[A"
     ]
    },
    {
     "name": "stdout",
     "output_type": "stream",
     "text": [
      "start2: 0.11\n"
     ]
    },
    {
     "name": "stderr",
     "output_type": "stream",
     "text": [
      "\n",
      " 12%|█▏        | 29/242 [00:00<00:01, 146.10it/s]\u001b[A\n",
      " 19%|█▉        | 47/242 [00:00<00:01, 153.12it/s]\u001b[A\n",
      " 26%|██▌       | 62/242 [00:00<00:01, 150.45it/s]\u001b[A\n",
      " 32%|███▏      | 77/242 [00:00<00:01, 148.82it/s]\u001b[A\n",
      " 38%|███▊      | 92/242 [00:00<00:01, 149.04it/s]\u001b[A\n",
      " 44%|████▍     | 107/242 [00:00<00:00, 148.65it/s]\u001b[A\n",
      " 50%|█████     | 121/242 [00:00<00:00, 140.03it/s]\u001b[A\n",
      " 57%|█████▋    | 137/242 [00:00<00:00, 143.92it/s]\u001b[A\n",
      " 63%|██████▎   | 152/242 [00:01<00:00, 144.41it/s]\u001b[A\n",
      " 69%|██████▉   | 167/242 [00:01<00:00, 139.89it/s]\u001b[A\n",
      " 75%|███████▍  | 181/242 [00:01<00:00, 136.17it/s]\u001b[A\n",
      " 81%|████████  | 195/242 [00:01<00:00, 127.88it/s]\u001b[A\n",
      " 86%|████████▌ | 208/242 [00:01<00:00, 91.33it/s] \u001b[A\n",
      " 92%|█████████▏| 223/242 [00:01<00:00, 102.34it/s]\u001b[A\n",
      "100%|██████████| 242/242 [00:01<00:00, 129.98it/s]\u001b[A\n",
      " 40%|████      | 10/25 [00:18<00:26,  1.77s/it]\n",
      "  0%|          | 0/242 [00:00<?, ?it/s]\u001b[A\n",
      "  7%|▋         | 18/242 [00:00<00:01, 178.48it/s]\u001b[A"
     ]
    },
    {
     "name": "stdout",
     "output_type": "stream",
     "text": [
      "start2: 0.13\n"
     ]
    },
    {
     "name": "stderr",
     "output_type": "stream",
     "text": [
      "\n",
      " 14%|█▎        | 33/242 [00:00<00:01, 167.10it/s]\u001b[A\n",
      " 19%|█▉        | 47/242 [00:00<00:01, 156.74it/s]\u001b[A\n",
      " 27%|██▋       | 65/242 [00:00<00:01, 162.95it/s]\u001b[A\n",
      " 34%|███▍      | 83/242 [00:00<00:00, 166.70it/s]\u001b[A\n",
      " 40%|████      | 98/242 [00:00<00:00, 158.68it/s]\u001b[A\n",
      " 48%|████▊     | 117/242 [00:00<00:00, 166.12it/s]\u001b[A\n",
      " 56%|█████▌    | 136/242 [00:00<00:00, 170.18it/s]\u001b[A\n",
      " 63%|██████▎   | 153/242 [00:00<00:00, 166.50it/s]\u001b[A\n",
      " 71%|███████   | 171/242 [00:01<00:00, 168.83it/s]\u001b[A\n",
      " 78%|███████▊  | 188/242 [00:01<00:00, 164.86it/s]\u001b[A\n",
      " 85%|████████▍ | 205/242 [00:01<00:00, 164.49it/s]\u001b[A\n",
      "100%|██████████| 242/242 [00:01<00:00, 164.58it/s]\u001b[A\n",
      " 44%|████▍     | 11/25 [00:20<00:23,  1.71s/it]\n",
      "  0%|          | 0/242 [00:00<?, ?it/s]\u001b[A\n",
      "  7%|▋         | 17/242 [00:00<00:01, 166.93it/s]\u001b[A"
     ]
    },
    {
     "name": "stdout",
     "output_type": "stream",
     "text": [
      "start2: 0.11\n"
     ]
    },
    {
     "name": "stderr",
     "output_type": "stream",
     "text": [
      "\n",
      " 13%|█▎        | 32/242 [00:00<00:01, 160.70it/s]\u001b[A\n",
      " 21%|██        | 51/242 [00:00<00:01, 166.47it/s]\u001b[A\n",
      " 29%|██▊       | 69/242 [00:00<00:01, 168.97it/s]\u001b[A\n",
      " 36%|███▌      | 87/242 [00:00<00:00, 170.82it/s]\u001b[A\n",
      " 43%|████▎     | 105/242 [00:00<00:00, 172.11it/s]\u001b[A\n",
      " 52%|█████▏    | 125/242 [00:00<00:00, 177.61it/s]\u001b[A\n",
      " 59%|█████▊    | 142/242 [00:00<00:00, 173.26it/s]\u001b[A\n",
      " 67%|██████▋   | 161/242 [00:00<00:00, 176.38it/s]\u001b[A\n",
      " 74%|███████▍  | 180/242 [00:01<00:00, 178.73it/s]\u001b[A\n",
      " 82%|████████▏ | 198/242 [00:01<00:00, 172.74it/s]\u001b[A\n",
      " 89%|████████▉ | 216/242 [00:01<00:00, 174.67it/s]\u001b[A\n",
      "100%|██████████| 242/242 [00:01<00:00, 172.01it/s]\u001b[A\n",
      " 48%|████▊     | 12/25 [00:21<00:21,  1.66s/it]\n",
      "  0%|          | 0/242 [00:00<?, ?it/s]\u001b[A\n",
      "  7%|▋         | 16/242 [00:00<00:01, 157.32it/s]\u001b[A"
     ]
    },
    {
     "name": "stdout",
     "output_type": "stream",
     "text": [
      "start2: 0.12\n"
     ]
    },
    {
     "name": "stderr",
     "output_type": "stream",
     "text": [
      "\n",
      " 14%|█▎        | 33/242 [00:00<00:01, 158.69it/s]\u001b[A\n",
      " 21%|██        | 51/242 [00:00<00:01, 163.64it/s]\u001b[A\n",
      " 28%|██▊       | 67/242 [00:00<00:01, 161.27it/s]\u001b[A\n",
      " 34%|███▍      | 83/242 [00:00<00:00, 160.10it/s]\u001b[A\n",
      " 42%|████▏     | 102/242 [00:00<00:00, 165.76it/s]\u001b[A\n",
      " 49%|████▉     | 119/242 [00:00<00:00, 163.58it/s]\u001b[A\n",
      " 56%|█████▌    | 136/242 [00:00<00:00, 163.66it/s]\u001b[A\n",
      " 64%|██████▎   | 154/242 [00:00<00:00, 167.05it/s]\u001b[A\n",
      " 71%|███████   | 171/242 [00:01<00:00, 165.29it/s]\u001b[A\n",
      " 78%|███████▊  | 188/242 [00:01<00:00, 166.60it/s]\u001b[A\n",
      " 85%|████████▌ | 206/242 [00:01<00:00, 170.25it/s]\u001b[A\n",
      " 92%|█████████▏| 223/242 [00:01<00:00, 169.64it/s]\u001b[A\n",
      "100%|██████████| 242/242 [00:01<00:00, 165.36it/s]\u001b[A\n",
      " 52%|█████▏    | 13/25 [00:23<00:19,  1.63s/it]\n",
      "  0%|          | 0/242 [00:00<?, ?it/s]\u001b[A\n",
      "  7%|▋         | 17/242 [00:00<00:01, 165.41it/s]\u001b[A"
     ]
    },
    {
     "name": "stdout",
     "output_type": "stream",
     "text": [
      "start2: 0.11\n"
     ]
    },
    {
     "name": "stderr",
     "output_type": "stream",
     "text": [
      "\n",
      " 15%|█▍        | 36/242 [00:00<00:01, 170.62it/s]\u001b[A\n",
      " 23%|██▎       | 56/242 [00:00<00:01, 177.04it/s]\u001b[A\n",
      " 30%|██▉       | 72/242 [00:00<00:00, 170.54it/s]\u001b[A\n",
      " 38%|███▊      | 92/242 [00:00<00:00, 177.88it/s]\u001b[A\n",
      " 46%|████▋     | 112/242 [00:00<00:00, 181.92it/s]\u001b[A\n",
      " 53%|█████▎    | 129/242 [00:00<00:00, 177.77it/s]\u001b[A\n",
      " 60%|██████    | 146/242 [00:00<00:00, 173.18it/s]\u001b[A\n",
      " 68%|██████▊   | 165/242 [00:00<00:00, 177.61it/s]\u001b[A\n",
      " 76%|███████▌  | 183/242 [00:01<00:00, 175.82it/s]\u001b[A\n",
      " 83%|████████▎ | 201/242 [00:01<00:00, 176.96it/s]\u001b[A\n",
      " 91%|█████████ | 220/242 [00:01<00:00, 180.36it/s]\u001b[A\n",
      "100%|██████████| 242/242 [00:01<00:00, 176.63it/s]\u001b[A\n",
      " 56%|█████▌    | 14/25 [00:24<00:17,  1.59s/it]\n",
      "  0%|          | 0/242 [00:00<?, ?it/s]\u001b[A\n",
      "  6%|▌         | 14/242 [00:00<00:01, 139.31it/s]\u001b[A"
     ]
    },
    {
     "name": "stdout",
     "output_type": "stream",
     "text": [
      "start2: 0.12\n"
     ]
    },
    {
     "name": "stderr",
     "output_type": "stream",
     "text": [
      "\n",
      " 12%|█▏        | 29/242 [00:00<00:01, 140.66it/s]\u001b[A\n",
      " 18%|█▊        | 44/242 [00:00<00:01, 143.04it/s]\u001b[A\n",
      " 24%|██▎       | 57/242 [00:00<00:01, 137.29it/s]\u001b[A\n",
      " 30%|███       | 73/242 [00:00<00:01, 142.96it/s]\u001b[A\n",
      " 36%|███▌      | 87/242 [00:00<00:01, 141.77it/s]\u001b[A\n",
      " 42%|████▏     | 102/242 [00:00<00:00, 142.53it/s]\u001b[A\n",
      " 48%|████▊     | 117/242 [00:00<00:00, 143.97it/s]\u001b[A\n",
      " 54%|█████▍    | 131/242 [00:00<00:00, 141.99it/s]\u001b[A\n",
      " 60%|█████▉    | 145/242 [00:01<00:00, 139.19it/s]\u001b[A\n",
      " 67%|██████▋   | 161/242 [00:01<00:00, 143.55it/s]\u001b[A\n",
      " 73%|███████▎  | 176/242 [00:01<00:00, 143.63it/s]\u001b[A\n",
      " 79%|███████▉  | 191/242 [00:01<00:00, 136.34it/s]\u001b[A\n",
      " 85%|████████▌ | 206/242 [00:01<00:00, 139.76it/s]\u001b[A\n",
      " 91%|█████████▏| 221/242 [00:01<00:00, 140.52it/s]\u001b[A\n",
      "100%|██████████| 242/242 [00:01<00:00, 141.01it/s]\u001b[A\n",
      " 60%|██████    | 15/25 [00:26<00:16,  1.67s/it]\n",
      "  0%|          | 0/242 [00:00<?, ?it/s]\u001b[A\n",
      "  6%|▌         | 15/242 [00:00<00:01, 147.21it/s]\u001b[A"
     ]
    },
    {
     "name": "stdout",
     "output_type": "stream",
     "text": [
      "start2: 0.11\n"
     ]
    },
    {
     "name": "stderr",
     "output_type": "stream",
     "text": [
      "\n",
      " 12%|█▏        | 30/242 [00:00<00:01, 145.37it/s]\u001b[A\n",
      " 19%|█▉        | 47/242 [00:00<00:01, 151.93it/s]\u001b[A\n",
      " 26%|██▌       | 63/242 [00:00<00:01, 153.01it/s]\u001b[A\n",
      " 33%|███▎      | 81/242 [00:00<00:01, 159.78it/s]\u001b[A\n",
      " 41%|████▏     | 100/242 [00:00<00:00, 166.10it/s]\u001b[A\n",
      " 48%|████▊     | 116/242 [00:00<00:00, 159.51it/s]\u001b[A\n",
      " 54%|█████▍    | 131/242 [00:00<00:00, 151.88it/s]\u001b[A\n",
      " 61%|██████    | 148/242 [00:00<00:00, 154.75it/s]\u001b[A\n",
      " 69%|██████▉   | 167/242 [00:01<00:00, 161.54it/s]\u001b[A\n",
      " 76%|███████▋  | 185/242 [00:01<00:00, 164.52it/s]\u001b[A\n",
      " 83%|████████▎ | 202/242 [00:01<00:00, 164.91it/s]\u001b[A\n",
      " 91%|█████████▏| 221/242 [00:01<00:00, 171.50it/s]\u001b[A\n",
      "100%|██████████| 242/242 [00:01<00:00, 164.14it/s]\u001b[A\n",
      " 64%|██████▍   | 16/25 [00:28<00:15,  1.71s/it]\n",
      "  0%|          | 0/242 [00:00<?, ?it/s]\u001b[A\n",
      "  6%|▌         | 14/242 [00:00<00:01, 136.63it/s]\u001b[A"
     ]
    },
    {
     "name": "stdout",
     "output_type": "stream",
     "text": [
      "start2: 0.34\n"
     ]
    },
    {
     "name": "stderr",
     "output_type": "stream",
     "text": [
      "\n",
      " 11%|█         | 27/242 [00:00<00:01, 130.02it/s]\u001b[A\n",
      " 16%|█▌        | 38/242 [00:00<00:01, 120.29it/s]\u001b[A\n",
      " 21%|██▏       | 52/242 [00:00<00:01, 124.35it/s]\u001b[A\n",
      " 29%|██▉       | 71/242 [00:00<00:01, 137.27it/s]\u001b[A\n",
      " 36%|███▌      | 87/242 [00:00<00:01, 143.37it/s]\u001b[A\n",
      " 44%|████▍     | 106/242 [00:00<00:00, 153.50it/s]\u001b[A\n",
      " 52%|█████▏    | 125/242 [00:00<00:00, 160.72it/s]\u001b[A\n",
      " 58%|█████▊    | 141/242 [00:00<00:00, 159.24it/s]\u001b[A\n",
      " 66%|██████▌   | 159/242 [00:01<00:00, 163.79it/s]\u001b[A\n",
      " 74%|███████▎  | 178/242 [00:01<00:00, 169.57it/s]\u001b[A\n",
      " 81%|████████  | 195/242 [00:01<00:00, 160.55it/s]\u001b[A\n",
      " 88%|████████▊ | 212/242 [00:01<00:00, 157.34it/s]\u001b[A\n",
      "100%|██████████| 242/242 [00:01<00:00, 155.26it/s]\u001b[A\n",
      " 68%|██████▊   | 17/25 [00:30<00:13,  1.71s/it]\n",
      "  0%|          | 0/242 [00:00<?, ?it/s]\u001b[A\n",
      "  8%|▊         | 19/242 [00:00<00:01, 183.61it/s]\u001b[A"
     ]
    },
    {
     "name": "stdout",
     "output_type": "stream",
     "text": [
      "start2: 0.11\n"
     ]
    },
    {
     "name": "stderr",
     "output_type": "stream",
     "text": [
      "\n",
      " 14%|█▍        | 35/242 [00:00<00:01, 174.00it/s]\u001b[A\n",
      " 22%|██▏       | 53/242 [00:00<00:01, 173.02it/s]\u001b[A\n",
      " 29%|██▉       | 71/242 [00:00<00:00, 172.97it/s]\u001b[A\n",
      " 36%|███▋      | 88/242 [00:00<00:00, 170.08it/s]\u001b[A\n",
      " 44%|████▍     | 106/242 [00:00<00:00, 171.88it/s]\u001b[A\n",
      " 50%|█████     | 122/242 [00:00<00:00, 164.57it/s]\u001b[A\n",
      " 57%|█████▋    | 139/242 [00:00<00:00, 165.44it/s]\u001b[A\n",
      " 65%|██████▌   | 158/242 [00:00<00:00, 170.51it/s]\u001b[A\n",
      " 72%|███████▏  | 175/242 [00:01<00:00, 166.62it/s]\u001b[A\n",
      " 79%|███████▉  | 192/242 [00:01<00:00, 166.33it/s]\u001b[A\n",
      " 87%|████████▋ | 210/242 [00:01<00:00, 170.14it/s]\u001b[A\n",
      "100%|██████████| 242/242 [00:01<00:00, 167.88it/s]\u001b[A\n",
      " 72%|███████▏  | 18/25 [00:31<00:11,  1.66s/it]\n",
      "  0%|          | 0/242 [00:00<?, ?it/s]\u001b[A\n",
      "  7%|▋         | 18/242 [00:00<00:01, 172.09it/s]\u001b[A"
     ]
    },
    {
     "name": "stdout",
     "output_type": "stream",
     "text": [
      "start2: 0.11\n"
     ]
    },
    {
     "name": "stderr",
     "output_type": "stream",
     "text": [
      "\n",
      " 15%|█▍        | 36/242 [00:00<00:01, 174.08it/s]\u001b[A\n",
      " 23%|██▎       | 55/242 [00:00<00:01, 177.57it/s]\u001b[A\n",
      " 30%|███       | 73/242 [00:00<00:00, 176.81it/s]\u001b[A\n",
      " 38%|███▊      | 93/242 [00:00<00:00, 181.78it/s]\u001b[A\n",
      " 46%|████▋     | 112/242 [00:00<00:00, 183.77it/s]\u001b[A\n",
      " 53%|█████▎    | 129/242 [00:00<00:00, 175.84it/s]\u001b[A\n",
      " 61%|██████    | 148/242 [00:00<00:00, 177.93it/s]\u001b[A\n",
      " 69%|██████▉   | 167/242 [00:00<00:00, 179.97it/s]\u001b[A\n",
      " 76%|███████▋  | 185/242 [00:01<00:00, 177.39it/s]\u001b[A\n",
      " 84%|████████▍ | 204/242 [00:01<00:00, 180.66it/s]\u001b[A\n",
      "100%|██████████| 242/242 [00:01<00:00, 180.53it/s]\u001b[A\n",
      " 76%|███████▌  | 19/25 [00:33<00:09,  1.60s/it]\n",
      "  0%|          | 0/242 [00:00<?, ?it/s]\u001b[A\n",
      "  7%|▋         | 16/242 [00:00<00:01, 150.20it/s]\u001b[A"
     ]
    },
    {
     "name": "stdout",
     "output_type": "stream",
     "text": [
      "start2: 0.11\n"
     ]
    },
    {
     "name": "stderr",
     "output_type": "stream",
     "text": [
      "\n",
      " 12%|█▏        | 29/242 [00:00<00:01, 142.38it/s]\u001b[A\n",
      " 19%|█▊        | 45/242 [00:00<00:01, 145.36it/s]\u001b[A\n",
      " 24%|██▍       | 59/242 [00:00<00:01, 141.22it/s]\u001b[A\n",
      " 30%|███       | 73/242 [00:00<00:01, 139.56it/s]\u001b[A\n",
      " 36%|███▌      | 87/242 [00:00<00:01, 138.87it/s]\u001b[A\n",
      " 42%|████▏     | 101/242 [00:00<00:01, 138.55it/s]\u001b[A\n",
      " 48%|████▊     | 117/242 [00:00<00:00, 142.39it/s]\u001b[A\n",
      " 55%|█████▍    | 133/242 [00:00<00:00, 145.67it/s]\u001b[A\n",
      " 61%|██████    | 148/242 [00:01<00:00, 144.93it/s]\u001b[A\n",
      " 67%|██████▋   | 163/242 [00:01<00:00, 143.63it/s]\u001b[A\n",
      " 74%|███████▎  | 178/242 [00:01<00:00, 140.32it/s]\u001b[A\n",
      " 80%|███████▉  | 193/242 [00:01<00:00, 142.41it/s]\u001b[A\n",
      " 86%|████████▌ | 208/242 [00:01<00:00, 140.43it/s]\u001b[A\n",
      " 92%|█████████▏| 223/242 [00:01<00:00, 141.92it/s]\u001b[A\n",
      "100%|██████████| 242/242 [00:01<00:00, 140.29it/s]\u001b[A\n",
      " 80%|████████  | 20/25 [00:34<00:08,  1.68s/it]\n",
      "  0%|          | 0/242 [00:00<?, ?it/s]\u001b[A\n",
      "  8%|▊         | 19/242 [00:00<00:01, 183.46it/s]\u001b[A"
     ]
    },
    {
     "name": "stdout",
     "output_type": "stream",
     "text": [
      "start2: 0.12\n"
     ]
    },
    {
     "name": "stderr",
     "output_type": "stream",
     "text": [
      "\n",
      " 16%|█▌        | 38/242 [00:00<00:01, 183.15it/s]\u001b[A\n",
      " 23%|██▎       | 56/242 [00:00<00:01, 181.34it/s]\u001b[A\n",
      " 30%|███       | 73/242 [00:00<00:00, 176.85it/s]\u001b[A\n",
      " 38%|███▊      | 92/242 [00:00<00:00, 178.82it/s]\u001b[A\n",
      " 45%|████▌     | 110/242 [00:00<00:00, 178.69it/s]\u001b[A\n",
      " 52%|█████▏    | 126/242 [00:00<00:00, 170.24it/s]\u001b[A\n",
      " 59%|█████▊    | 142/242 [00:00<00:00, 140.11it/s]\u001b[A\n",
      " 64%|██████▍   | 156/242 [00:01<00:00, 106.45it/s]\u001b[A\n",
      " 71%|███████   | 172/242 [00:01<00:00, 116.88it/s]\u001b[A\n",
      " 76%|███████▋  | 185/242 [00:01<00:00, 102.45it/s]\u001b[A\n",
      " 81%|████████▏ | 197/242 [00:01<00:00, 106.49it/s]\u001b[A\n",
      " 86%|████████▋ | 209/242 [00:01<00:00, 107.36it/s]\u001b[A\n",
      " 91%|█████████▏| 221/242 [00:01<00:00, 102.78it/s]\u001b[A\n",
      "100%|██████████| 242/242 [00:01<00:00, 127.37it/s]\u001b[A\n",
      " 84%|████████▍ | 21/25 [00:36<00:07,  1.79s/it]\n",
      "  0%|          | 0/242 [00:00<?, ?it/s]\u001b[A\n",
      "  5%|▍         | 11/242 [00:00<00:02, 103.07it/s]\u001b[A"
     ]
    },
    {
     "name": "stdout",
     "output_type": "stream",
     "text": [
      "start2: 0.16\n"
     ]
    },
    {
     "name": "stderr",
     "output_type": "stream",
     "text": [
      "\n",
      " 10%|▉         | 23/242 [00:00<00:02, 106.75it/s]\u001b[A\n",
      " 14%|█▍        | 35/242 [00:00<00:01, 110.13it/s]\u001b[A\n",
      " 18%|█▊        | 44/242 [00:00<00:01, 102.19it/s]\u001b[A\n",
      " 23%|██▎       | 55/242 [00:00<00:01, 102.65it/s]\u001b[A\n",
      " 28%|██▊       | 67/242 [00:00<00:01, 105.79it/s]\u001b[A\n",
      " 33%|███▎      | 79/242 [00:00<00:01, 106.81it/s]\u001b[A\n",
      " 37%|███▋      | 89/242 [00:00<00:01, 102.36it/s]\u001b[A\n",
      " 41%|████▏     | 100/242 [00:00<00:01, 102.11it/s]\u001b[A\n",
      " 45%|████▌     | 110/242 [00:01<00:01, 99.03it/s] \u001b[A\n",
      " 50%|█████     | 121/242 [00:01<00:01, 99.88it/s]\u001b[A\n",
      " 55%|█████▍    | 133/242 [00:01<00:01, 105.03it/s]\u001b[A\n",
      " 60%|█████▉    | 145/242 [00:01<00:00, 107.05it/s]\u001b[A\n",
      " 67%|██████▋   | 161/242 [00:01<00:00, 118.19it/s]\u001b[A\n",
      " 73%|███████▎  | 177/242 [00:01<00:00, 127.85it/s]\u001b[A\n",
      " 79%|███████▉  | 191/242 [00:01<00:00, 129.22it/s]\u001b[A\n",
      " 85%|████████▍ | 205/242 [00:01<00:00, 126.47it/s]\u001b[A\n",
      " 90%|█████████ | 218/242 [00:01<00:00, 116.65it/s]\u001b[A\n",
      " 95%|█████████▌| 230/242 [00:02<00:00, 107.24it/s]\u001b[A\n",
      "100%|██████████| 242/242 [00:02<00:00, 110.62it/s]\u001b[A\n",
      " 88%|████████▊ | 22/25 [00:39<00:06,  2.01s/it]\n",
      "  0%|          | 0/242 [00:00<?, ?it/s]\u001b[A\n",
      "  4%|▎         | 9/242 [00:00<00:02, 81.35it/s]\u001b[A"
     ]
    },
    {
     "name": "stdout",
     "output_type": "stream",
     "text": [
      "start2: 0.31\n"
     ]
    },
    {
     "name": "stderr",
     "output_type": "stream",
     "text": [
      "\n",
      "  9%|▊         | 21/242 [00:00<00:02, 89.38it/s]\u001b[A\n",
      " 12%|█▏        | 29/242 [00:00<00:02, 85.46it/s]\u001b[A\n",
      " 16%|█▌        | 38/242 [00:00<00:02, 85.17it/s]\u001b[A\n",
      " 21%|██        | 50/242 [00:00<00:02, 91.18it/s]\u001b[A\n",
      " 24%|██▍       | 59/242 [00:00<00:02, 87.61it/s]\u001b[A\n",
      " 28%|██▊       | 67/242 [00:00<00:02, 77.85it/s]\u001b[A\n",
      " 31%|███       | 75/242 [00:00<00:02, 77.03it/s]\u001b[A\n",
      " 36%|███▋      | 88/242 [00:00<00:01, 85.85it/s]\u001b[A\n",
      " 44%|████▍     | 107/242 [00:01<00:01, 101.74it/s]\u001b[A\n",
      " 49%|████▉     | 119/242 [00:01<00:01, 103.79it/s]\u001b[A\n",
      " 56%|█████▌    | 135/242 [00:01<00:00, 115.79it/s]\u001b[A\n",
      " 62%|██████▏   | 149/242 [00:01<00:00, 120.99it/s]\u001b[A\n",
      " 67%|██████▋   | 162/242 [00:01<00:00, 115.15it/s]\u001b[A\n",
      " 72%|███████▏  | 175/242 [00:01<00:00, 104.74it/s]\u001b[A\n",
      " 77%|███████▋  | 187/242 [00:01<00:00, 98.03it/s] \u001b[A\n",
      " 82%|████████▏ | 198/242 [00:01<00:00, 94.30it/s]\u001b[A\n",
      " 86%|████████▋ | 209/242 [00:02<00:00, 96.30it/s]\u001b[A\n",
      " 90%|█████████ | 219/242 [00:02<00:00, 86.92it/s]\u001b[A\n",
      " 95%|█████████▍| 229/242 [00:02<00:00, 82.63it/s]\u001b[A\n",
      "100%|██████████| 242/242 [00:02<00:00, 97.29it/s]\u001b[A\n",
      " 92%|█████████▏| 23/25 [00:42<00:04,  2.23s/it]\n",
      "  0%|          | 0/242 [00:00<?, ?it/s]\u001b[A\n",
      "  2%|▏         | 5/242 [00:00<00:05, 43.39it/s]\u001b[A"
     ]
    },
    {
     "name": "stdout",
     "output_type": "stream",
     "text": [
      "start2: 0.21\n"
     ]
    },
    {
     "name": "stderr",
     "output_type": "stream",
     "text": [
      "\n",
      "  4%|▍         | 10/242 [00:00<00:05, 44.47it/s]\u001b[A\n",
      "  6%|▌         | 14/242 [00:00<00:05, 41.78it/s]\u001b[A\n",
      "  8%|▊         | 19/242 [00:00<00:05, 42.92it/s]\u001b[A\n",
      " 10%|▉         | 23/242 [00:00<00:05, 39.42it/s]\u001b[A\n",
      " 12%|█▏        | 28/242 [00:00<00:05, 42.07it/s]\u001b[A\n",
      " 14%|█▍        | 34/242 [00:00<00:04, 45.44it/s]\u001b[A\n",
      " 16%|█▌        | 39/242 [00:00<00:04, 46.61it/s]\u001b[A\n",
      " 19%|█▊        | 45/242 [00:00<00:03, 49.55it/s]\u001b[A\n",
      " 21%|██        | 51/242 [00:01<00:03, 51.91it/s]\u001b[A\n",
      " 24%|██▍       | 59/242 [00:01<00:03, 57.96it/s]\u001b[A\n",
      " 28%|██▊       | 68/242 [00:01<00:02, 64.52it/s]\u001b[A\n",
      " 32%|███▏      | 77/242 [00:01<00:02, 70.27it/s]\u001b[A\n",
      " 35%|███▌      | 85/242 [00:01<00:02, 72.08it/s]\u001b[A\n",
      " 38%|███▊      | 93/242 [00:01<00:02, 74.04it/s]\u001b[A\n",
      " 42%|████▏     | 102/242 [00:01<00:01, 78.05it/s]\u001b[A\n",
      " 46%|████▌     | 111/242 [00:01<00:01, 78.37it/s]\u001b[A\n",
      " 50%|████▉     | 120/242 [00:01<00:01, 80.04it/s]\u001b[A\n",
      " 53%|█████▎    | 129/242 [00:02<00:01, 82.34it/s]\u001b[A\n",
      " 57%|█████▋    | 138/242 [00:02<00:01, 80.78it/s]\u001b[A\n",
      " 61%|██████    | 147/242 [00:02<00:01, 82.49it/s]\u001b[A\n",
      " 64%|██████▍   | 156/242 [00:02<00:01, 82.10it/s]\u001b[A\n",
      " 68%|██████▊   | 165/242 [00:02<00:00, 77.82it/s]\u001b[A\n",
      " 72%|███████▏  | 174/242 [00:02<00:00, 80.07it/s]\u001b[A\n",
      " 76%|███████▌  | 183/242 [00:02<00:00, 78.34it/s]\u001b[A\n",
      " 79%|███████▉  | 191/242 [00:02<00:00, 76.04it/s]\u001b[A\n",
      " 82%|████████▏ | 199/242 [00:02<00:00, 76.15it/s]\u001b[A\n",
      " 86%|████████▌ | 207/242 [00:03<00:00, 72.70it/s]\u001b[A\n",
      " 89%|████████▉ | 216/242 [00:03<00:00, 75.20it/s]\u001b[A\n",
      " 93%|█████████▎| 225/242 [00:03<00:00, 77.55it/s]\u001b[A\n",
      " 96%|█████████▋| 233/242 [00:03<00:00, 75.43it/s]\u001b[A\n",
      "100%|██████████| 242/242 [00:03<00:00, 69.13it/s]\u001b[A\n",
      " 96%|█████████▌| 24/25 [00:46<00:02,  2.72s/it]\n",
      "  0%|          | 0/242 [00:00<?, ?it/s]\u001b[A\n",
      "  5%|▍         | 12/242 [00:00<00:01, 116.56it/s]\u001b[A"
     ]
    },
    {
     "name": "stdout",
     "output_type": "stream",
     "text": [
      "start2: 0.35\n"
     ]
    },
    {
     "name": "stderr",
     "output_type": "stream",
     "text": [
      "\n",
      " 11%|█         | 26/242 [00:00<00:01, 122.09it/s]\u001b[A\n",
      " 16%|█▌        | 38/242 [00:00<00:01, 119.10it/s]\u001b[A\n",
      " 21%|██        | 51/242 [00:00<00:01, 121.17it/s]\u001b[A\n",
      " 27%|██▋       | 65/242 [00:00<00:01, 124.69it/s]\u001b[A\n",
      " 32%|███▏      | 78/242 [00:00<00:01, 126.04it/s]\u001b[A\n",
      " 38%|███▊      | 93/242 [00:00<00:01, 131.20it/s]\u001b[A\n",
      " 45%|████▍     | 108/242 [00:00<00:00, 134.18it/s]\u001b[A\n",
      " 50%|█████     | 121/242 [00:00<00:00, 131.92it/s]\u001b[A\n",
      " 55%|█████▌    | 134/242 [00:01<00:01, 97.44it/s] \u001b[A\n",
      " 60%|█████▉    | 145/242 [00:01<00:01, 83.85it/s]\u001b[A\n",
      " 64%|██████▍   | 156/242 [00:01<00:00, 89.83it/s]\u001b[A\n",
      " 69%|██████▉   | 168/242 [00:01<00:00, 97.11it/s]\u001b[A\n",
      " 74%|███████▍  | 179/242 [00:01<00:00, 88.33it/s]\u001b[A\n",
      " 78%|███████▊  | 189/242 [00:01<00:00, 91.06it/s]\u001b[A\n",
      " 82%|████████▏ | 199/242 [00:01<00:00, 83.11it/s]\u001b[A\n",
      " 88%|████████▊ | 214/242 [00:02<00:00, 95.08it/s]\u001b[A\n",
      " 94%|█████████▍| 227/242 [00:02<00:00, 102.02it/s]\u001b[A\n",
      "100%|██████████| 242/242 [00:02<00:00, 107.30it/s]\u001b[A\n",
      "100%|██████████| 25/25 [00:48<00:00,  1.94s/it]\n"
     ]
    },
    {
     "name": "stdout",
     "output_type": "stream",
     "text": [
      "start2: 0.12\n",
      "48.49\n"
     ]
    }
   ],
   "source": [
    "lags = [1,7,14,28,56]\n",
    "lags2 = [7,14,28]\n",
    "col_tar = col_name\n",
    "add = 0\n",
    "DF4,dict_indexes = main_generator(file_name=file_name,col_name=col_name,lags=lags,lags2=lags2,col_tar=col_tar,add=add,key_cols=key_cols2,key_cols_func=key_cols_func,prep_data=prep_data_with_dt)"
   ]
  },
  {
   "cell_type": "code",
   "execution_count": 159,
   "metadata": {},
   "outputs": [
    {
     "data": {
      "text/html": [
       "<div>\n",
       "<style scoped>\n",
       "    .dataframe tbody tr th:only-of-type {\n",
       "        vertical-align: middle;\n",
       "    }\n",
       "\n",
       "    .dataframe tbody tr th {\n",
       "        vertical-align: top;\n",
       "    }\n",
       "\n",
       "    .dataframe thead th {\n",
       "        text-align: right;\n",
       "    }\n",
       "</style>\n",
       "<table border=\"1\" class=\"dataframe\">\n",
       "  <thead>\n",
       "    <tr style=\"text-align: right;\">\n",
       "      <th></th>\n",
       "      <th>CountryName</th>\n",
       "      <th>CountryCode</th>\n",
       "      <th>RegionName</th>\n",
       "      <th>RegionCode</th>\n",
       "      <th>C1_School closing</th>\n",
       "      <th>C1_Flag</th>\n",
       "      <th>C2_Workplace closing</th>\n",
       "      <th>C2_Flag</th>\n",
       "      <th>C3_Cancel public events</th>\n",
       "      <th>C3_Flag</th>\n",
       "      <th>...</th>\n",
       "      <th>daily_C1_School closing_std_56_lag_14</th>\n",
       "      <th>daily_C1_School closing_std_56_lag_28</th>\n",
       "      <th>daily_C1_School closing_diff_56</th>\n",
       "      <th>daily_C1_School closing_diff_56_lag_7</th>\n",
       "      <th>daily_C1_School closing_diff_56_lag_14</th>\n",
       "      <th>daily_C1_School closing_diff_56_lag_28</th>\n",
       "      <th>daily_C1_School closing_local_cvt_56</th>\n",
       "      <th>daily_C1_School closing_local_cvt_56_lag_7</th>\n",
       "      <th>daily_C1_School closing_local_cvt_56_lag_14</th>\n",
       "      <th>daily_C1_School closing_local_cvt_56_lag_28</th>\n",
       "    </tr>\n",
       "  </thead>\n",
       "  <tbody>\n",
       "    <tr>\n",
       "      <th>71801</th>\n",
       "      <td>Zimbabwe</td>\n",
       "      <td>ZWE</td>\n",
       "      <td>NaN</td>\n",
       "      <td>NaN</td>\n",
       "      <td>2.0</td>\n",
       "      <td>1.0</td>\n",
       "      <td>1.0</td>\n",
       "      <td>1.0</td>\n",
       "      <td>2.0</td>\n",
       "      <td>1.0</td>\n",
       "      <td>...</td>\n",
       "      <td>0.133631</td>\n",
       "      <td>0.133631</td>\n",
       "      <td>0.0</td>\n",
       "      <td>0.0</td>\n",
       "      <td>0.0</td>\n",
       "      <td>0.0</td>\n",
       "      <td>0.0</td>\n",
       "      <td>0.0</td>\n",
       "      <td>0.0</td>\n",
       "      <td>0.0</td>\n",
       "    </tr>\n",
       "    <tr>\n",
       "      <th>71802</th>\n",
       "      <td>Zimbabwe</td>\n",
       "      <td>ZWE</td>\n",
       "      <td>NaN</td>\n",
       "      <td>NaN</td>\n",
       "      <td>2.0</td>\n",
       "      <td>1.0</td>\n",
       "      <td>1.0</td>\n",
       "      <td>1.0</td>\n",
       "      <td>2.0</td>\n",
       "      <td>1.0</td>\n",
       "      <td>...</td>\n",
       "      <td>0.133631</td>\n",
       "      <td>0.133631</td>\n",
       "      <td>0.0</td>\n",
       "      <td>0.0</td>\n",
       "      <td>0.0</td>\n",
       "      <td>0.0</td>\n",
       "      <td>0.0</td>\n",
       "      <td>0.0</td>\n",
       "      <td>0.0</td>\n",
       "      <td>0.0</td>\n",
       "    </tr>\n",
       "    <tr>\n",
       "      <th>71803</th>\n",
       "      <td>Zimbabwe</td>\n",
       "      <td>ZWE</td>\n",
       "      <td>NaN</td>\n",
       "      <td>NaN</td>\n",
       "      <td>2.0</td>\n",
       "      <td>1.0</td>\n",
       "      <td>1.0</td>\n",
       "      <td>1.0</td>\n",
       "      <td>2.0</td>\n",
       "      <td>1.0</td>\n",
       "      <td>...</td>\n",
       "      <td>0.133631</td>\n",
       "      <td>0.133631</td>\n",
       "      <td>0.0</td>\n",
       "      <td>0.0</td>\n",
       "      <td>0.0</td>\n",
       "      <td>0.0</td>\n",
       "      <td>0.0</td>\n",
       "      <td>0.0</td>\n",
       "      <td>0.0</td>\n",
       "      <td>0.0</td>\n",
       "    </tr>\n",
       "    <tr>\n",
       "      <th>71804</th>\n",
       "      <td>Zimbabwe</td>\n",
       "      <td>ZWE</td>\n",
       "      <td>NaN</td>\n",
       "      <td>NaN</td>\n",
       "      <td>2.0</td>\n",
       "      <td>1.0</td>\n",
       "      <td>1.0</td>\n",
       "      <td>1.0</td>\n",
       "      <td>2.0</td>\n",
       "      <td>1.0</td>\n",
       "      <td>...</td>\n",
       "      <td>0.133631</td>\n",
       "      <td>0.133631</td>\n",
       "      <td>0.0</td>\n",
       "      <td>0.0</td>\n",
       "      <td>0.0</td>\n",
       "      <td>0.0</td>\n",
       "      <td>1.0</td>\n",
       "      <td>0.0</td>\n",
       "      <td>0.0</td>\n",
       "      <td>0.0</td>\n",
       "    </tr>\n",
       "    <tr>\n",
       "      <th>71805</th>\n",
       "      <td>Zimbabwe</td>\n",
       "      <td>ZWE</td>\n",
       "      <td>NaN</td>\n",
       "      <td>NaN</td>\n",
       "      <td>2.0</td>\n",
       "      <td>1.0</td>\n",
       "      <td>1.0</td>\n",
       "      <td>1.0</td>\n",
       "      <td>2.0</td>\n",
       "      <td>1.0</td>\n",
       "      <td>...</td>\n",
       "      <td>0.133631</td>\n",
       "      <td>0.133631</td>\n",
       "      <td>0.0</td>\n",
       "      <td>0.0</td>\n",
       "      <td>0.0</td>\n",
       "      <td>0.0</td>\n",
       "      <td>0.0</td>\n",
       "      <td>0.0</td>\n",
       "      <td>0.0</td>\n",
       "      <td>0.0</td>\n",
       "    </tr>\n",
       "  </tbody>\n",
       "</table>\n",
       "<p>5 rows × 154 columns</p>\n",
       "</div>"
      ],
      "text/plain": [
       "      CountryName CountryCode RegionName RegionCode  C1_School closing  \\\n",
       "71801    Zimbabwe         ZWE        NaN        NaN                2.0   \n",
       "71802    Zimbabwe         ZWE        NaN        NaN                2.0   \n",
       "71803    Zimbabwe         ZWE        NaN        NaN                2.0   \n",
       "71804    Zimbabwe         ZWE        NaN        NaN                2.0   \n",
       "71805    Zimbabwe         ZWE        NaN        NaN                2.0   \n",
       "\n",
       "       C1_Flag  C2_Workplace closing  C2_Flag  C3_Cancel public events  \\\n",
       "71801      1.0                   1.0      1.0                      2.0   \n",
       "71802      1.0                   1.0      1.0                      2.0   \n",
       "71803      1.0                   1.0      1.0                      2.0   \n",
       "71804      1.0                   1.0      1.0                      2.0   \n",
       "71805      1.0                   1.0      1.0                      2.0   \n",
       "\n",
       "       C3_Flag  ...  daily_C1_School closing_std_56_lag_14  \\\n",
       "71801      1.0  ...                               0.133631   \n",
       "71802      1.0  ...                               0.133631   \n",
       "71803      1.0  ...                               0.133631   \n",
       "71804      1.0  ...                               0.133631   \n",
       "71805      1.0  ...                               0.133631   \n",
       "\n",
       "       daily_C1_School closing_std_56_lag_28  daily_C1_School closing_diff_56  \\\n",
       "71801                               0.133631                              0.0   \n",
       "71802                               0.133631                              0.0   \n",
       "71803                               0.133631                              0.0   \n",
       "71804                               0.133631                              0.0   \n",
       "71805                               0.133631                              0.0   \n",
       "\n",
       "       daily_C1_School closing_diff_56_lag_7  \\\n",
       "71801                                    0.0   \n",
       "71802                                    0.0   \n",
       "71803                                    0.0   \n",
       "71804                                    0.0   \n",
       "71805                                    0.0   \n",
       "\n",
       "       daily_C1_School closing_diff_56_lag_14  \\\n",
       "71801                                     0.0   \n",
       "71802                                     0.0   \n",
       "71803                                     0.0   \n",
       "71804                                     0.0   \n",
       "71805                                     0.0   \n",
       "\n",
       "       daily_C1_School closing_diff_56_lag_28  \\\n",
       "71801                                     0.0   \n",
       "71802                                     0.0   \n",
       "71803                                     0.0   \n",
       "71804                                     0.0   \n",
       "71805                                     0.0   \n",
       "\n",
       "       daily_C1_School closing_local_cvt_56  \\\n",
       "71801                                   0.0   \n",
       "71802                                   0.0   \n",
       "71803                                   0.0   \n",
       "71804                                   1.0   \n",
       "71805                                   0.0   \n",
       "\n",
       "       daily_C1_School closing_local_cvt_56_lag_7  \\\n",
       "71801                                         0.0   \n",
       "71802                                         0.0   \n",
       "71803                                         0.0   \n",
       "71804                                         0.0   \n",
       "71805                                         0.0   \n",
       "\n",
       "       daily_C1_School closing_local_cvt_56_lag_14  \\\n",
       "71801                                          0.0   \n",
       "71802                                          0.0   \n",
       "71803                                          0.0   \n",
       "71804                                          0.0   \n",
       "71805                                          0.0   \n",
       "\n",
       "       daily_C1_School closing_local_cvt_56_lag_28  \n",
       "71801                                          0.0  \n",
       "71802                                          0.0  \n",
       "71803                                          0.0  \n",
       "71804                                          0.0  \n",
       "71805                                          0.0  \n",
       "\n",
       "[5 rows x 154 columns]"
      ]
     },
     "execution_count": 159,
     "metadata": {},
     "output_type": "execute_result"
    }
   ],
   "source": [
    "DF4.tail()"
   ]
  },
  {
   "cell_type": "code",
   "execution_count": 160,
   "metadata": {},
   "outputs": [
    {
     "data": {
      "text/plain": [
       "[('Australia', '2020-05-04'),\n",
       " ('Australia', '2020-05-05'),\n",
       " ('Australia', '2020-05-06'),\n",
       " ('Australia', '2020-05-07'),\n",
       " ('Australia', '2020-05-08'),\n",
       " ('Australia', '2020-05-09'),\n",
       " ('Australia', '2020-05-10'),\n",
       " ('Australia', '2020-05-11'),\n",
       " ('Australia', '2020-05-12'),\n",
       " ('Australia', '2020-05-13')]"
      ]
     },
     "execution_count": 160,
     "metadata": {},
     "output_type": "execute_result"
    }
   ],
   "source": [
    "list(dict_indexes.keys())[2500:2510]"
   ]
  },
  {
   "cell_type": "code",
   "execution_count": null,
   "metadata": {},
   "outputs": [],
   "source": []
  }
 ],
 "metadata": {
  "kernelspec": {
   "display_name": "Python 3",
   "language": "python",
   "name": "python3"
  },
  "language_info": {
   "codemirror_mode": {
    "name": "ipython",
    "version": 3
   },
   "file_extension": ".py",
   "mimetype": "text/x-python",
   "name": "python",
   "nbconvert_exporter": "python",
   "pygments_lexer": "ipython3",
   "version": "3.6.10"
  }
 },
 "nbformat": 4,
 "nbformat_minor": 4
}
