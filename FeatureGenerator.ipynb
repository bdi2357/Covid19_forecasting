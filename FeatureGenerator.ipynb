{
 "cells": [
  {
   "cell_type": "code",
   "execution_count": 2,
   "metadata": {},
   "outputs": [
    {
     "data": {
      "text/plain": [
       "'/Users/itaybendan/Covid19_forecasting'"
      ]
     },
     "execution_count": 2,
     "metadata": {},
     "output_type": "execute_result"
    }
   ],
   "source": [
    "import pandas as pd\n",
    "import os,sys,re\n",
    "import numpy as np\n",
    "from collections import OrderedDict\n",
    "os.getcwd()"
   ]
  },
  {
   "cell_type": "code",
   "execution_count": 22,
   "metadata": {},
   "outputs": [
    {
     "data": {
      "text/plain": [
       "('2020-11-01', '2020-09-24')"
      ]
     },
     "execution_count": 22,
     "metadata": {},
     "output_type": "execute_result"
    }
   ],
   "source": [
    "from dateutil.parser import parse\n",
    "parse(\"2/5/2019\", dayfirst=True)\n",
    "def dates_expr(d):\n",
    "    return len(re.findall('[0-9]+',d)) >2 \n",
    "def add_st(s):\n",
    "    if len(s)==1:\n",
    "        return \"0\"+s\n",
    "    return s\n",
    "\"\"\"\n",
    "def convert_dates(dt):\n",
    "    spl = dt.split(\"/\")\n",
    "    return spl[2]+\"-\"+add_st(spl[0])+\"-\"+add_st(spl[1])\n",
    "\"\"\"\n",
    "def convert_dates(dt):\n",
    "    spl = parse(dt,dayfirst=False)\n",
    "    return str(spl.year)+\"-\"+add_st(str(spl.month))+\"-\"+add_st(str(spl.day))\n",
    "\n",
    "convert_dates(\"11/1/20\"),convert_dates(\"24sep2020\")"
   ]
  },
  {
   "cell_type": "code",
   "execution_count": 23,
   "metadata": {},
   "outputs": [
    {
     "data": {
      "text/html": [
       "<div>\n",
       "<style scoped>\n",
       "    .dataframe tbody tr th:only-of-type {\n",
       "        vertical-align: middle;\n",
       "    }\n",
       "\n",
       "    .dataframe tbody tr th {\n",
       "        vertical-align: top;\n",
       "    }\n",
       "\n",
       "    .dataframe thead th {\n",
       "        text-align: right;\n",
       "    }\n",
       "</style>\n",
       "<table border=\"1\" class=\"dataframe\">\n",
       "  <thead>\n",
       "    <tr style=\"text-align: right;\">\n",
       "      <th></th>\n",
       "      <th>Unnamed: 0</th>\n",
       "      <th>Unnamed: 1</th>\n",
       "      <th>01jan2020</th>\n",
       "      <th>02jan2020</th>\n",
       "      <th>03jan2020</th>\n",
       "      <th>04jan2020</th>\n",
       "      <th>05jan2020</th>\n",
       "      <th>06jan2020</th>\n",
       "      <th>07jan2020</th>\n",
       "      <th>08jan2020</th>\n",
       "      <th>...</th>\n",
       "      <th>13oct2020</th>\n",
       "      <th>14oct2020</th>\n",
       "      <th>15oct2020</th>\n",
       "      <th>16oct2020</th>\n",
       "      <th>17oct2020</th>\n",
       "      <th>18oct2020</th>\n",
       "      <th>19oct2020</th>\n",
       "      <th>20oct2020</th>\n",
       "      <th>21oct2020</th>\n",
       "      <th>22oct2020</th>\n",
       "    </tr>\n",
       "  </thead>\n",
       "  <tbody>\n",
       "    <tr>\n",
       "      <th>0</th>\n",
       "      <td>Aruba</td>\n",
       "      <td>ABW</td>\n",
       "      <td>0</td>\n",
       "      <td>0</td>\n",
       "      <td>0</td>\n",
       "      <td>0</td>\n",
       "      <td>0</td>\n",
       "      <td>0</td>\n",
       "      <td>0</td>\n",
       "      <td>0</td>\n",
       "      <td>...</td>\n",
       "      <td>50.45999908</td>\n",
       "      <td>50.45999908</td>\n",
       "      <td>50.45999908</td>\n",
       "      <td>50.45999908</td>\n",
       "      <td>50.45999908</td>\n",
       "      <td>50.45999908</td>\n",
       "      <td>50.45999908</td>\n",
       "      <td>50.45999908</td>\n",
       "      <td>50.45999908</td>\n",
       "      <td>.</td>\n",
       "    </tr>\n",
       "    <tr>\n",
       "      <th>1</th>\n",
       "      <td>Afghanistan</td>\n",
       "      <td>AFG</td>\n",
       "      <td>0</td>\n",
       "      <td>0</td>\n",
       "      <td>0</td>\n",
       "      <td>0</td>\n",
       "      <td>0</td>\n",
       "      <td>0</td>\n",
       "      <td>0</td>\n",
       "      <td>0</td>\n",
       "      <td>...</td>\n",
       "      <td>.</td>\n",
       "      <td>.</td>\n",
       "      <td>.</td>\n",
       "      <td>.</td>\n",
       "      <td>.</td>\n",
       "      <td>.</td>\n",
       "      <td>.</td>\n",
       "      <td>.</td>\n",
       "      <td>.</td>\n",
       "      <td>.</td>\n",
       "    </tr>\n",
       "    <tr>\n",
       "      <th>2</th>\n",
       "      <td>Angola</td>\n",
       "      <td>AGO</td>\n",
       "      <td>0</td>\n",
       "      <td>0</td>\n",
       "      <td>0</td>\n",
       "      <td>0</td>\n",
       "      <td>0</td>\n",
       "      <td>0</td>\n",
       "      <td>0</td>\n",
       "      <td>0</td>\n",
       "      <td>...</td>\n",
       "      <td>71.30000305</td>\n",
       "      <td>71.30000305</td>\n",
       "      <td>71.30000305</td>\n",
       "      <td>71.30000305</td>\n",
       "      <td>71.30000305</td>\n",
       "      <td>71.30000305</td>\n",
       "      <td>71.30000305</td>\n",
       "      <td>71.30000305</td>\n",
       "      <td>.</td>\n",
       "      <td>71.30000305</td>\n",
       "    </tr>\n",
       "    <tr>\n",
       "      <th>3</th>\n",
       "      <td>Anguilla</td>\n",
       "      <td>AIA</td>\n",
       "      <td>0</td>\n",
       "      <td>0</td>\n",
       "      <td>0</td>\n",
       "      <td>0</td>\n",
       "      <td>0</td>\n",
       "      <td>0</td>\n",
       "      <td>0</td>\n",
       "      <td>0</td>\n",
       "      <td>...</td>\n",
       "      <td>.</td>\n",
       "      <td>.</td>\n",
       "      <td>.</td>\n",
       "      <td>.</td>\n",
       "      <td>.</td>\n",
       "      <td>.</td>\n",
       "      <td>.</td>\n",
       "      <td>.</td>\n",
       "      <td>.</td>\n",
       "      <td>.</td>\n",
       "    </tr>\n",
       "    <tr>\n",
       "      <th>4</th>\n",
       "      <td>Albania</td>\n",
       "      <td>ALB</td>\n",
       "      <td>0</td>\n",
       "      <td>0</td>\n",
       "      <td>0</td>\n",
       "      <td>0</td>\n",
       "      <td>0</td>\n",
       "      <td>0</td>\n",
       "      <td>0</td>\n",
       "      <td>0</td>\n",
       "      <td>...</td>\n",
       "      <td>.</td>\n",
       "      <td>.</td>\n",
       "      <td>.</td>\n",
       "      <td>.</td>\n",
       "      <td>.</td>\n",
       "      <td>.</td>\n",
       "      <td>.</td>\n",
       "      <td>.</td>\n",
       "      <td>35.18999863</td>\n",
       "      <td>.</td>\n",
       "    </tr>\n",
       "  </tbody>\n",
       "</table>\n",
       "<p>5 rows × 298 columns</p>\n",
       "</div>"
      ],
      "text/plain": [
       "    Unnamed: 0 Unnamed: 1 01jan2020 02jan2020 03jan2020 04jan2020 05jan2020  \\\n",
       "0        Aruba        ABW         0         0         0         0         0   \n",
       "1  Afghanistan        AFG         0         0         0         0         0   \n",
       "2       Angola        AGO         0         0         0         0         0   \n",
       "3     Anguilla        AIA         0         0         0         0         0   \n",
       "4      Albania        ALB         0         0         0         0         0   \n",
       "\n",
       "  06jan2020 07jan2020 08jan2020  ...    13oct2020    14oct2020    15oct2020  \\\n",
       "0         0         0         0  ...  50.45999908  50.45999908  50.45999908   \n",
       "1         0         0         0  ...            .            .            .   \n",
       "2         0         0         0  ...  71.30000305  71.30000305  71.30000305   \n",
       "3         0         0         0  ...            .            .            .   \n",
       "4         0         0         0  ...            .            .            .   \n",
       "\n",
       "     16oct2020    17oct2020    18oct2020    19oct2020    20oct2020  \\\n",
       "0  50.45999908  50.45999908  50.45999908  50.45999908  50.45999908   \n",
       "1            .            .            .            .            .   \n",
       "2  71.30000305  71.30000305  71.30000305  71.30000305  71.30000305   \n",
       "3            .            .            .            .            .   \n",
       "4            .            .            .            .            .   \n",
       "\n",
       "     21oct2020    22oct2020  \n",
       "0  50.45999908            .  \n",
       "1            .            .  \n",
       "2            .  71.30000305  \n",
       "3            .            .  \n",
       "4  35.18999863            .  \n",
       "\n",
       "[5 rows x 298 columns]"
      ]
     },
     "execution_count": 23,
     "metadata": {},
     "output_type": "execute_result"
    }
   ],
   "source": [
    "stringency = pd.read_csv(\"/Users/itaybendan/covid-policy-tracker/data/timeseries/index_stringency.csv\")\n",
    "stringency.head()"
   ]
  },
  {
   "cell_type": "code",
   "execution_count": 21,
   "metadata": {},
   "outputs": [
    {
     "name": "stdout",
     "output_type": "stream",
     "text": [
      "2020-11-02\n",
      "file exists\n",
      "['Unnamed: 0', 'Unnamed: 1', '01jan2020', '02jan2020', '03jan2020', '04jan2020', '05jan2020', '06jan2020', '07jan2020', '08jan2020', '09jan2020', '10jan2020', '11jan2020', '12jan2020', '13jan2020', '14jan2020', '15jan2020', '16jan2020', '17jan2020', '18jan2020', '19jan2020', '20jan2020', '21jan2020', '22jan2020', '23jan2020', '24jan2020', '25jan2020', '26jan2020', '27jan2020', '28jan2020', '29jan2020', '30jan2020', '31jan2020', '01feb2020', '02feb2020', '03feb2020', '04feb2020', '05feb2020', '06feb2020', '07feb2020', '08feb2020', '09feb2020', '10feb2020', '11feb2020', '12feb2020', '13feb2020', '14feb2020', '15feb2020', '16feb2020', '17feb2020', '18feb2020', '19feb2020', '20feb2020', '21feb2020', '22feb2020', '23feb2020', '24feb2020', '25feb2020', '26feb2020', '27feb2020', '28feb2020', '29feb2020', '01mar2020', '02mar2020', '03mar2020', '04mar2020', '05mar2020', '06mar2020', '07mar2020', '08mar2020', '09mar2020', '10mar2020', '11mar2020', '12mar2020', '13mar2020', '14mar2020', '15mar2020', '16mar2020', '17mar2020', '18mar2020', '19mar2020', '20mar2020', '21mar2020', '22mar2020', '23mar2020', '24mar2020', '25mar2020', '26mar2020', '27mar2020', '28mar2020', '29mar2020', '30mar2020', '31mar2020', '01apr2020', '02apr2020', '03apr2020', '04apr2020', '05apr2020', '06apr2020', '07apr2020', '08apr2020', '09apr2020', '10apr2020', '11apr2020', '12apr2020', '13apr2020', '14apr2020', '15apr2020', '16apr2020', '17apr2020', '18apr2020', '19apr2020', '20apr2020', '21apr2020', '22apr2020', '23apr2020', '24apr2020', '25apr2020', '26apr2020', '27apr2020', '28apr2020', '29apr2020', '30apr2020', '01may2020', '02may2020', '03may2020', '04may2020', '05may2020', '06may2020', '07may2020', '08may2020', '09may2020', '10may2020', '11may2020', '12may2020', '13may2020', '14may2020', '15may2020', '16may2020', '17may2020', '18may2020', '19may2020', '20may2020', '21may2020', '22may2020', '23may2020', '24may2020', '25may2020', '26may2020', '27may2020', '28may2020', '29may2020', '30may2020', '31may2020', '01jun2020', '02jun2020', '03jun2020', '04jun2020', '05jun2020', '06jun2020', '07jun2020', '08jun2020', '09jun2020', '10jun2020', '11jun2020', '12jun2020', '13jun2020', '14jun2020', '15jun2020', '16jun2020', '17jun2020', '18jun2020', '19jun2020', '20jun2020', '21jun2020', '22jun2020', '23jun2020', '24jun2020', '25jun2020', '26jun2020', '27jun2020', '28jun2020', '29jun2020', '30jun2020', '01jul2020', '02jul2020', '03jul2020', '04jul2020', '05jul2020', '06jul2020', '07jul2020', '08jul2020', '09jul2020', '10jul2020', '11jul2020', '12jul2020', '13jul2020', '14jul2020', '15jul2020', '16jul2020', '17jul2020', '18jul2020', '19jul2020', '20jul2020', '21jul2020', '22jul2020', '23jul2020', '24jul2020', '25jul2020', '26jul2020', '27jul2020', '28jul2020', '29jul2020', '30jul2020', '31jul2020', '01aug2020', '02aug2020', '03aug2020', '04aug2020', '05aug2020', '06aug2020', '07aug2020', '08aug2020', '09aug2020', '10aug2020', '11aug2020', '12aug2020', '13aug2020', '14aug2020', '15aug2020', '16aug2020', '17aug2020', '18aug2020', '19aug2020', '20aug2020', '21aug2020', '22aug2020', '23aug2020', '24aug2020', '25aug2020', '26aug2020', '27aug2020', '28aug2020', '29aug2020', '30aug2020', '31aug2020', '01sep2020', '02sep2020', '03sep2020', '04sep2020', '05sep2020', '06sep2020', '07sep2020', '08sep2020', '09sep2020', '10sep2020', '11sep2020', '12sep2020', '13sep2020', '14sep2020', '15sep2020', '16sep2020', '17sep2020', '18sep2020', '19sep2020', '20sep2020', '21sep2020', '22sep2020', '23sep2020', '24sep2020', '25sep2020', '26sep2020', '27sep2020', '28sep2020', '29sep2020', '30sep2020', '01oct2020', '02oct2020', '03oct2020', '04oct2020', '05oct2020', '06oct2020', '07oct2020', '08oct2020', '09oct2020', '10oct2020', '11oct2020', '12oct2020', '13oct2020', '14oct2020', '15oct2020', '16oct2020', '17oct2020', '18oct2020', '19oct2020', '20oct2020', '21oct2020', '22oct2020']\n",
      "01jan2020\n",
      "2020-01-01 00:00:00\n",
      "02jan2020\n",
      "2020-01-02 00:00:00\n",
      "03jan2020\n",
      "2020-01-03 00:00:00\n",
      "04jan2020\n",
      "2020-01-04 00:00:00\n",
      "05jan2020\n",
      "2020-01-05 00:00:00\n",
      "06jan2020\n",
      "2020-01-06 00:00:00\n",
      "07jan2020\n",
      "2020-01-07 00:00:00\n",
      "08jan2020\n",
      "2020-01-08 00:00:00\n",
      "09jan2020\n",
      "2020-01-09 00:00:00\n",
      "10jan2020\n",
      "2020-01-10 00:00:00\n",
      "11jan2020\n",
      "2020-01-11 00:00:00\n",
      "12jan2020\n",
      "2020-01-12 00:00:00\n",
      "13jan2020\n",
      "2020-01-13 00:00:00\n",
      "14jan2020\n",
      "2020-01-14 00:00:00\n",
      "15jan2020\n",
      "2020-01-15 00:00:00\n",
      "16jan2020\n",
      "2020-01-16 00:00:00\n",
      "17jan2020\n",
      "2020-01-17 00:00:00\n",
      "18jan2020\n",
      "2020-01-18 00:00:00\n",
      "19jan2020\n",
      "2020-01-19 00:00:00\n",
      "20jan2020\n",
      "2020-01-20 00:00:00\n",
      "21jan2020\n",
      "2020-01-21 00:00:00\n",
      "22jan2020\n",
      "2020-01-22 00:00:00\n",
      "23jan2020\n",
      "2020-01-23 00:00:00\n",
      "24jan2020\n",
      "2020-01-24 00:00:00\n",
      "25jan2020\n",
      "2020-01-25 00:00:00\n",
      "26jan2020\n",
      "2020-01-26 00:00:00\n",
      "27jan2020\n",
      "2020-01-27 00:00:00\n",
      "28jan2020\n",
      "2020-01-28 00:00:00\n",
      "29jan2020\n",
      "2020-01-29 00:00:00\n",
      "30jan2020\n",
      "2020-01-30 00:00:00\n",
      "31jan2020\n",
      "2020-01-31 00:00:00\n",
      "01feb2020\n",
      "2020-02-01 00:00:00\n",
      "02feb2020\n",
      "2020-02-02 00:00:00\n",
      "03feb2020\n",
      "2020-02-03 00:00:00\n",
      "04feb2020\n",
      "2020-02-04 00:00:00\n",
      "05feb2020\n",
      "2020-02-05 00:00:00\n",
      "06feb2020\n",
      "2020-02-06 00:00:00\n",
      "07feb2020\n",
      "2020-02-07 00:00:00\n",
      "08feb2020\n",
      "2020-02-08 00:00:00\n",
      "09feb2020\n",
      "2020-02-09 00:00:00\n",
      "10feb2020\n",
      "2020-02-10 00:00:00\n",
      "11feb2020\n",
      "2020-02-11 00:00:00\n",
      "12feb2020\n",
      "2020-02-12 00:00:00\n",
      "13feb2020\n",
      "2020-02-13 00:00:00\n",
      "14feb2020\n",
      "2020-02-14 00:00:00\n",
      "15feb2020\n",
      "2020-02-15 00:00:00\n",
      "16feb2020\n",
      "2020-02-16 00:00:00\n",
      "17feb2020\n",
      "2020-02-17 00:00:00\n",
      "18feb2020\n",
      "2020-02-18 00:00:00\n",
      "19feb2020\n",
      "2020-02-19 00:00:00\n",
      "20feb2020\n",
      "2020-02-20 00:00:00\n",
      "21feb2020\n",
      "2020-02-21 00:00:00\n",
      "22feb2020\n",
      "2020-02-22 00:00:00\n",
      "23feb2020\n",
      "2020-02-23 00:00:00\n",
      "24feb2020\n",
      "2020-02-24 00:00:00\n",
      "25feb2020\n",
      "2020-02-25 00:00:00\n",
      "26feb2020\n",
      "2020-02-26 00:00:00\n",
      "27feb2020\n",
      "2020-02-27 00:00:00\n",
      "28feb2020\n",
      "2020-02-28 00:00:00\n",
      "29feb2020\n",
      "2020-02-29 00:00:00\n",
      "01mar2020\n",
      "2020-03-01 00:00:00\n",
      "02mar2020\n",
      "2020-03-02 00:00:00\n",
      "03mar2020\n",
      "2020-03-03 00:00:00\n",
      "04mar2020\n",
      "2020-03-04 00:00:00\n",
      "05mar2020\n",
      "2020-03-05 00:00:00\n",
      "06mar2020\n",
      "2020-03-06 00:00:00\n",
      "07mar2020\n",
      "2020-03-07 00:00:00\n",
      "08mar2020\n",
      "2020-03-08 00:00:00\n",
      "09mar2020\n",
      "2020-03-09 00:00:00\n",
      "10mar2020\n",
      "2020-03-10 00:00:00\n",
      "11mar2020\n",
      "2020-03-11 00:00:00\n",
      "12mar2020\n",
      "2020-03-12 00:00:00\n",
      "13mar2020\n",
      "2020-03-13 00:00:00\n",
      "14mar2020\n",
      "2020-03-14 00:00:00\n",
      "15mar2020\n",
      "2020-03-15 00:00:00\n",
      "16mar2020\n",
      "2020-03-16 00:00:00\n",
      "17mar2020\n",
      "2020-03-17 00:00:00\n",
      "18mar2020\n",
      "2020-03-18 00:00:00\n",
      "19mar2020\n",
      "2020-03-19 00:00:00\n",
      "20mar2020\n",
      "2020-03-20 00:00:00\n",
      "21mar2020\n",
      "2020-03-21 00:00:00\n",
      "22mar2020\n",
      "2020-03-22 00:00:00\n",
      "23mar2020\n",
      "2020-03-23 00:00:00\n",
      "24mar2020\n",
      "2020-03-24 00:00:00\n",
      "25mar2020\n",
      "2020-03-25 00:00:00\n",
      "26mar2020\n",
      "2020-03-26 00:00:00\n",
      "27mar2020\n",
      "2020-03-27 00:00:00\n",
      "28mar2020\n",
      "2020-03-28 00:00:00\n",
      "29mar2020\n",
      "2020-03-29 00:00:00\n",
      "30mar2020\n",
      "2020-03-30 00:00:00\n",
      "31mar2020\n",
      "2020-03-31 00:00:00\n",
      "01apr2020\n",
      "2020-04-01 00:00:00\n",
      "02apr2020\n",
      "2020-04-02 00:00:00\n",
      "03apr2020\n",
      "2020-04-03 00:00:00\n",
      "04apr2020\n",
      "2020-04-04 00:00:00\n",
      "05apr2020\n",
      "2020-04-05 00:00:00\n",
      "06apr2020\n",
      "2020-04-06 00:00:00\n",
      "07apr2020\n",
      "2020-04-07 00:00:00\n",
      "08apr2020\n",
      "2020-04-08 00:00:00\n",
      "09apr2020\n",
      "2020-04-09 00:00:00\n",
      "10apr2020\n",
      "2020-04-10 00:00:00\n",
      "11apr2020\n",
      "2020-04-11 00:00:00\n",
      "12apr2020\n",
      "2020-04-12 00:00:00\n",
      "13apr2020\n",
      "2020-04-13 00:00:00\n",
      "14apr2020\n",
      "2020-04-14 00:00:00\n",
      "15apr2020\n",
      "2020-04-15 00:00:00\n",
      "16apr2020\n",
      "2020-04-16 00:00:00\n",
      "17apr2020\n",
      "2020-04-17 00:00:00\n",
      "18apr2020\n",
      "2020-04-18 00:00:00\n",
      "19apr2020\n",
      "2020-04-19 00:00:00\n",
      "20apr2020\n",
      "2020-04-20 00:00:00\n",
      "21apr2020\n",
      "2020-04-21 00:00:00\n",
      "22apr2020\n",
      "2020-04-22 00:00:00\n",
      "23apr2020\n",
      "2020-04-23 00:00:00\n",
      "24apr2020\n",
      "2020-04-24 00:00:00\n",
      "25apr2020\n",
      "2020-04-25 00:00:00\n",
      "26apr2020\n",
      "2020-04-26 00:00:00\n",
      "27apr2020\n",
      "2020-04-27 00:00:00\n",
      "28apr2020\n",
      "2020-04-28 00:00:00\n",
      "29apr2020\n",
      "2020-04-29 00:00:00\n",
      "30apr2020\n",
      "2020-04-30 00:00:00\n",
      "01may2020\n",
      "2020-05-01 00:00:00\n",
      "02may2020\n",
      "2020-05-02 00:00:00\n",
      "03may2020\n",
      "2020-05-03 00:00:00\n",
      "04may2020\n",
      "2020-05-04 00:00:00\n",
      "05may2020\n",
      "2020-05-05 00:00:00\n",
      "06may2020\n",
      "2020-05-06 00:00:00\n",
      "07may2020\n",
      "2020-05-07 00:00:00\n",
      "08may2020\n",
      "2020-05-08 00:00:00\n",
      "09may2020\n",
      "2020-05-09 00:00:00\n",
      "10may2020\n",
      "2020-05-10 00:00:00\n",
      "11may2020\n",
      "2020-05-11 00:00:00\n",
      "12may2020\n",
      "2020-05-12 00:00:00\n",
      "13may2020\n",
      "2020-05-13 00:00:00\n",
      "14may2020\n",
      "2020-05-14 00:00:00\n",
      "15may2020\n",
      "2020-05-15 00:00:00\n",
      "16may2020\n",
      "2020-05-16 00:00:00\n",
      "17may2020\n",
      "2020-05-17 00:00:00\n",
      "18may2020\n",
      "2020-05-18 00:00:00\n",
      "19may2020\n",
      "2020-05-19 00:00:00\n",
      "20may2020\n",
      "2020-05-20 00:00:00\n",
      "21may2020\n",
      "2020-05-21 00:00:00\n",
      "22may2020\n",
      "2020-05-22 00:00:00\n",
      "23may2020\n",
      "2020-05-23 00:00:00\n",
      "24may2020\n",
      "2020-05-24 00:00:00\n",
      "25may2020\n",
      "2020-05-25 00:00:00\n",
      "26may2020\n",
      "2020-05-26 00:00:00\n",
      "27may2020\n",
      "2020-05-27 00:00:00\n",
      "28may2020\n",
      "2020-05-28 00:00:00\n",
      "29may2020\n",
      "2020-05-29 00:00:00\n",
      "30may2020\n",
      "2020-05-30 00:00:00\n",
      "31may2020\n",
      "2020-05-31 00:00:00\n",
      "01jun2020\n",
      "2020-06-01 00:00:00\n",
      "02jun2020\n",
      "2020-06-02 00:00:00\n",
      "03jun2020\n",
      "2020-06-03 00:00:00\n",
      "04jun2020\n",
      "2020-06-04 00:00:00\n",
      "05jun2020\n",
      "2020-06-05 00:00:00\n",
      "06jun2020\n",
      "2020-06-06 00:00:00\n",
      "07jun2020\n",
      "2020-06-07 00:00:00\n",
      "08jun2020\n",
      "2020-06-08 00:00:00\n",
      "09jun2020\n",
      "2020-06-09 00:00:00\n",
      "10jun2020\n",
      "2020-06-10 00:00:00\n",
      "11jun2020\n",
      "2020-06-11 00:00:00\n",
      "12jun2020\n",
      "2020-06-12 00:00:00\n",
      "13jun2020\n",
      "2020-06-13 00:00:00\n",
      "14jun2020\n",
      "2020-06-14 00:00:00\n",
      "15jun2020\n",
      "2020-06-15 00:00:00\n",
      "16jun2020\n",
      "2020-06-16 00:00:00\n",
      "17jun2020\n",
      "2020-06-17 00:00:00\n",
      "18jun2020\n",
      "2020-06-18 00:00:00\n",
      "19jun2020\n",
      "2020-06-19 00:00:00\n",
      "20jun2020\n",
      "2020-06-20 00:00:00\n",
      "21jun2020\n",
      "2020-06-21 00:00:00\n",
      "22jun2020\n",
      "2020-06-22 00:00:00\n",
      "23jun2020\n",
      "2020-06-23 00:00:00\n",
      "24jun2020\n",
      "2020-06-24 00:00:00\n",
      "25jun2020\n",
      "2020-06-25 00:00:00\n",
      "26jun2020\n",
      "2020-06-26 00:00:00\n",
      "27jun2020\n",
      "2020-06-27 00:00:00\n",
      "28jun2020\n",
      "2020-06-28 00:00:00\n",
      "29jun2020\n",
      "2020-06-29 00:00:00\n",
      "30jun2020\n",
      "2020-06-30 00:00:00\n",
      "01jul2020\n",
      "2020-07-01 00:00:00\n",
      "02jul2020\n",
      "2020-07-02 00:00:00\n",
      "03jul2020\n",
      "2020-07-03 00:00:00\n",
      "04jul2020\n",
      "2020-07-04 00:00:00\n",
      "05jul2020\n",
      "2020-07-05 00:00:00\n",
      "06jul2020\n",
      "2020-07-06 00:00:00\n",
      "07jul2020\n",
      "2020-07-07 00:00:00\n",
      "08jul2020\n",
      "2020-07-08 00:00:00\n",
      "09jul2020\n",
      "2020-07-09 00:00:00\n",
      "10jul2020\n",
      "2020-07-10 00:00:00\n",
      "11jul2020\n",
      "2020-07-11 00:00:00\n",
      "12jul2020\n",
      "2020-07-12 00:00:00\n",
      "13jul2020\n",
      "2020-07-13 00:00:00\n",
      "14jul2020\n",
      "2020-07-14 00:00:00\n",
      "15jul2020\n",
      "2020-07-15 00:00:00\n",
      "16jul2020\n",
      "2020-07-16 00:00:00\n",
      "17jul2020\n",
      "2020-07-17 00:00:00\n",
      "18jul2020\n",
      "2020-07-18 00:00:00\n",
      "19jul2020\n",
      "2020-07-19 00:00:00\n",
      "20jul2020\n",
      "2020-07-20 00:00:00\n",
      "21jul2020\n",
      "2020-07-21 00:00:00\n",
      "22jul2020\n",
      "2020-07-22 00:00:00\n",
      "23jul2020\n",
      "2020-07-23 00:00:00\n",
      "24jul2020\n",
      "2020-07-24 00:00:00\n",
      "25jul2020\n",
      "2020-07-25 00:00:00\n",
      "26jul2020\n",
      "2020-07-26 00:00:00\n",
      "27jul2020\n",
      "2020-07-27 00:00:00\n",
      "28jul2020\n",
      "2020-07-28 00:00:00\n",
      "29jul2020\n",
      "2020-07-29 00:00:00\n",
      "30jul2020\n",
      "2020-07-30 00:00:00\n",
      "31jul2020\n",
      "2020-07-31 00:00:00\n",
      "01aug2020\n",
      "2020-08-01 00:00:00\n",
      "02aug2020\n",
      "2020-08-02 00:00:00\n",
      "03aug2020\n",
      "2020-08-03 00:00:00\n",
      "04aug2020\n",
      "2020-08-04 00:00:00\n",
      "05aug2020\n",
      "2020-08-05 00:00:00\n",
      "06aug2020\n",
      "2020-08-06 00:00:00\n",
      "07aug2020\n",
      "2020-08-07 00:00:00\n",
      "08aug2020\n",
      "2020-08-08 00:00:00\n",
      "09aug2020\n",
      "2020-08-09 00:00:00\n",
      "10aug2020\n",
      "2020-08-10 00:00:00\n",
      "11aug2020\n",
      "2020-08-11 00:00:00\n",
      "12aug2020\n",
      "2020-08-12 00:00:00\n",
      "13aug2020\n",
      "2020-08-13 00:00:00\n",
      "14aug2020\n",
      "2020-08-14 00:00:00\n",
      "15aug2020\n",
      "2020-08-15 00:00:00\n",
      "16aug2020\n",
      "2020-08-16 00:00:00\n",
      "17aug2020\n",
      "2020-08-17 00:00:00\n",
      "18aug2020\n",
      "2020-08-18 00:00:00\n",
      "19aug2020\n",
      "2020-08-19 00:00:00\n",
      "20aug2020\n",
      "2020-08-20 00:00:00\n",
      "21aug2020\n",
      "2020-08-21 00:00:00\n",
      "22aug2020\n",
      "2020-08-22 00:00:00\n",
      "23aug2020\n",
      "2020-08-23 00:00:00\n",
      "24aug2020\n",
      "2020-08-24 00:00:00\n",
      "25aug2020\n",
      "2020-08-25 00:00:00\n",
      "26aug2020\n",
      "2020-08-26 00:00:00\n",
      "27aug2020\n",
      "2020-08-27 00:00:00\n",
      "28aug2020\n",
      "2020-08-28 00:00:00\n",
      "29aug2020\n",
      "2020-08-29 00:00:00\n",
      "30aug2020\n",
      "2020-08-30 00:00:00\n",
      "31aug2020\n",
      "2020-08-31 00:00:00\n",
      "01sep2020\n",
      "2020-09-01 00:00:00\n",
      "02sep2020\n",
      "2020-09-02 00:00:00\n",
      "03sep2020\n",
      "2020-09-03 00:00:00\n",
      "04sep2020\n",
      "2020-09-04 00:00:00\n",
      "05sep2020\n",
      "2020-09-05 00:00:00\n",
      "06sep2020\n",
      "2020-09-06 00:00:00\n",
      "07sep2020\n",
      "2020-09-07 00:00:00\n",
      "08sep2020\n",
      "2020-09-08 00:00:00\n",
      "09sep2020\n",
      "2020-09-09 00:00:00\n",
      "10sep2020\n",
      "2020-09-10 00:00:00\n",
      "11sep2020\n",
      "2020-09-11 00:00:00\n",
      "12sep2020\n",
      "2020-09-12 00:00:00\n",
      "13sep2020\n",
      "2020-09-13 00:00:00\n",
      "14sep2020\n",
      "2020-09-14 00:00:00\n",
      "15sep2020\n",
      "2020-09-15 00:00:00\n",
      "16sep2020\n",
      "2020-09-16 00:00:00\n",
      "17sep2020\n",
      "2020-09-17 00:00:00\n",
      "18sep2020\n",
      "2020-09-18 00:00:00\n",
      "19sep2020\n",
      "2020-09-19 00:00:00\n",
      "20sep2020\n",
      "2020-09-20 00:00:00\n",
      "21sep2020\n",
      "2020-09-21 00:00:00\n",
      "22sep2020\n",
      "2020-09-22 00:00:00\n",
      "23sep2020\n",
      "2020-09-23 00:00:00\n",
      "24sep2020\n",
      "2020-09-24 00:00:00\n",
      "25sep2020\n",
      "2020-09-25 00:00:00\n",
      "26sep2020\n",
      "2020-09-26 00:00:00\n",
      "27sep2020\n",
      "2020-09-27 00:00:00\n",
      "28sep2020\n",
      "2020-09-28 00:00:00\n",
      "29sep2020\n",
      "2020-09-29 00:00:00\n",
      "30sep2020\n",
      "2020-09-30 00:00:00\n",
      "01oct2020\n",
      "2020-10-01 00:00:00\n",
      "02oct2020\n",
      "2020-10-02 00:00:00\n",
      "03oct2020\n",
      "2020-10-03 00:00:00\n",
      "04oct2020\n",
      "2020-10-04 00:00:00\n",
      "05oct2020\n",
      "2020-10-05 00:00:00\n",
      "06oct2020\n",
      "2020-10-06 00:00:00\n",
      "07oct2020\n",
      "2020-10-07 00:00:00\n",
      "08oct2020\n",
      "2020-10-08 00:00:00\n",
      "09oct2020\n",
      "2020-10-09 00:00:00\n",
      "10oct2020\n",
      "2020-10-10 00:00:00\n",
      "11oct2020\n",
      "2020-10-11 00:00:00\n",
      "12oct2020\n",
      "2020-10-12 00:00:00\n",
      "13oct2020\n",
      "2020-10-13 00:00:00\n",
      "14oct2020\n",
      "2020-10-14 00:00:00\n",
      "15oct2020\n",
      "2020-10-15 00:00:00\n",
      "16oct2020\n",
      "2020-10-16 00:00:00\n",
      "17oct2020\n",
      "2020-10-17 00:00:00\n",
      "18oct2020\n",
      "2020-10-18 00:00:00\n",
      "19oct2020\n",
      "2020-10-19 00:00:00\n",
      "20oct2020\n",
      "2020-10-20 00:00:00\n",
      "21oct2020\n",
      "2020-10-21 00:00:00\n",
      "22oct2020\n",
      "2020-10-22 00:00:00\n"
     ]
    },
    {
     "ename": "ValueError",
     "evalue": "max() arg is an empty sequence",
     "output_type": "error",
     "traceback": [
      "\u001b[0;31m---------------------------------------------------------------------------\u001b[0m",
      "\u001b[0;31mValueError\u001b[0m                                Traceback (most recent call last)",
      "\u001b[0;32m<ipython-input-21-0d7079e25f5c>\u001b[0m in \u001b[0;36m<module>\u001b[0;34m\u001b[0m\n\u001b[1;32m     27\u001b[0m     \u001b[0mdate_cols\u001b[0m \u001b[0;34m=\u001b[0m \u001b[0;34m[\u001b[0m\u001b[0mc\u001b[0m \u001b[0;32mfor\u001b[0m \u001b[0mc\u001b[0m \u001b[0;32min\u001b[0m \u001b[0mdf_test\u001b[0m\u001b[0;34m.\u001b[0m\u001b[0mcolumns\u001b[0m \u001b[0;32mif\u001b[0m \u001b[0mdates_expr\u001b[0m\u001b[0;34m(\u001b[0m\u001b[0mc\u001b[0m\u001b[0;34m)\u001b[0m\u001b[0;34m]\u001b[0m\u001b[0;34m\u001b[0m\u001b[0;34m\u001b[0m\u001b[0m\n\u001b[1;32m     28\u001b[0m     \u001b[0mdates_cnvrtd\u001b[0m \u001b[0;34m=\u001b[0m \u001b[0;34m[\u001b[0m\u001b[0mconvert_dates\u001b[0m\u001b[0;34m(\u001b[0m\u001b[0md\u001b[0m\u001b[0;34m)\u001b[0m \u001b[0;32mfor\u001b[0m \u001b[0md\u001b[0m \u001b[0;32min\u001b[0m \u001b[0mdate_cols\u001b[0m\u001b[0;34m]\u001b[0m\u001b[0;34m\u001b[0m\u001b[0;34m\u001b[0m\u001b[0m\n\u001b[0;32m---> 29\u001b[0;31m     \u001b[0mprint\u001b[0m\u001b[0;34m(\u001b[0m\u001b[0mmax\u001b[0m\u001b[0;34m(\u001b[0m\u001b[0mdates_cnvrtd\u001b[0m\u001b[0;34m)\u001b[0m\u001b[0;34m)\u001b[0m\u001b[0;34m\u001b[0m\u001b[0;34m\u001b[0m\u001b[0m\n\u001b[0m\u001b[1;32m     30\u001b[0m     \u001b[0mlast_d\u001b[0m \u001b[0;34m=\u001b[0m \u001b[0mmax\u001b[0m\u001b[0;34m(\u001b[0m\u001b[0mdates_cnvrtd\u001b[0m\u001b[0;34m)\u001b[0m\u001b[0;34m\u001b[0m\u001b[0;34m\u001b[0m\u001b[0m\n\u001b[1;32m     31\u001b[0m     \u001b[0mspl\u001b[0m\u001b[0;34m=\u001b[0m\u001b[0mlast_d\u001b[0m\u001b[0;34m.\u001b[0m\u001b[0msplit\u001b[0m\u001b[0;34m(\u001b[0m\u001b[0;34m\"-\"\u001b[0m\u001b[0;34m)\u001b[0m\u001b[0;34m\u001b[0m\u001b[0;34m\u001b[0m\u001b[0m\n",
      "\u001b[0;31mValueError\u001b[0m: max() arg is an empty sequence"
     ]
    }
   ],
   "source": [
    "from datetime import datetime,date\n",
    "from dateutil.parser import parse\n",
    "days_diff =2\n",
    "covid_data_path= \"/Users/itaybd/covid19/COVID-19/new_covid/\"\n",
    "test_path = \"COVID-19/csse_covid_19_data/csse_covid_19_time_series/time_series_covid19_deaths_US.csv\"\n",
    "def dates_expr(d):\n",
    "    if len(re.findall('[0-9]+',d))>=2: #(d.find(\"Unnamed\") ==-1):\n",
    "        print(d)\n",
    "        print(parse(d))\n",
    "    return len(re.findall('[0-9]+/[0-9]+/[0-9]+',d)) >0 and d == re.findall('[0-9]+/[0-9]+/[0-9]+',d)[0]\n",
    "def add_st(s):\n",
    "    if len(s)==1:\n",
    "        return \"0\"+s\n",
    "    return s\n",
    "def convert_dates(dt):\n",
    "    spl = dt.split(\"/\")\n",
    "    return spl[2]+\"-\"+add_st(spl[0])+\"-\"+add_st(spl[1])\n",
    "print(datetime.now().strftime(\"%Y-%m-%d\"))\n",
    "dt1 = datetime.now().date()\n",
    "test_file_path = os.path.join(covid_data_path,test_path)\n",
    "#test_file_path =\"/Users/itaybendan/COVID-19/csse_covid_19_data/csse_covid_19_time_series/time_series_covid19_deaths_US.csv\"\n",
    "test_file_path = \"/Users/itaybendan/covid-policy-tracker/data/timeseries/index_stringency.csv\"\n",
    "if os.path.isfile(test_file_path):\n",
    "    print(\"file exists\")\n",
    "    df_test = pd.read_csv(test_file_path)\n",
    "    print(list(df_test.columns))\n",
    "    date_cols = [c for c in df_test.columns if dates_expr(c)]\n",
    "    dates_cnvrtd = [convert_dates(d) for d in date_cols]\n",
    "    print(max(dates_cnvrtd))\n",
    "    last_d = max(dates_cnvrtd)\n",
    "    spl=last_d.split(\"-\")\n",
    "    ldt= date( 2000 +int(spl[0]),int(spl[1]),int(spl[2]))\n",
    "    if days_diff < ( (dt1-ldt).days):\n",
    "        #os.system(\"cd %s\"%os.path.join(covid_data_path,\"COVID-19\"))\n",
    "        os.chdir(os.path.join(covid_data_path,\"COVID-19\"))\n",
    "        #print(os.getcwd())\n",
    "        #print(os.listdir(\".\"))\n",
    "        os.system(\"git pull\")\n",
    "    else:\n",
    "        print(\"up2date\")\n",
    "    \n"
   ]
  },
  {
   "cell_type": "code",
   "execution_count": 4,
   "metadata": {},
   "outputs": [],
   "source": [
    "def add_st(s):\n",
    "    if len(s)==1:\n",
    "        return \"0\"+s\n",
    "    return s\n",
    "def convert_dates(dt):\n",
    "    spl = dt.split(\"/\")\n",
    "    return spl[2]+\"-\"+add_st(spl[0])+\"-\"+add_st(spl[1])\n",
    "\n",
    "def convert_US(file_name):\n",
    "    df = pd.read_csv(file_name)\n",
    "    dfs = df.groupby(\"Province_State\").sum()\n",
    "    out1 = pd.read_csv(\"/Users/itaybd/output_covid/test_deathsNconfirmed_covid19.csv\",index_col=\"index\")\n",
    "    dfs2 = dfs[list(dfs.columns[10:])]\n",
    "    df_mod_t = dfs2.T\n",
    "    df_mod_t.index = df_mod_t.apply(lambda r: convert_dates(r.name),axis=1 )\n",
    "    DF_countries = {c:pd.DataFrame(df_mod_t[c]) for c in df_mod_t.columns}\n",
    "    return DF_countries"
   ]
  },
  {
   "cell_type": "code",
   "execution_count": 17,
   "metadata": {},
   "outputs": [],
   "source": [
    "def dates_expr(d):\n",
    "    return len(re.findall('[0-9]+/[0-9]+/[0-9]+',d)) >0 and d == re.findall('[0-9]+/[0-9]+/[0-9]+',d)[0]\n",
    "\n",
    "def create_df_dict(file_name,col_name,country_col='Country/Region',province_col='Province/State',rep_indexes=False,dict_indexes={}):\n",
    "    df = pd.read_csv(file_name)\n",
    "    df[\"key\"] = df.apply(lambda r: str(r[country_col])+(\"_\"+str(r[province_col])).replace(\"_nan\",\"\"),axis=1)\n",
    "    #df1 = df.set_index(\"key\")\n",
    "    df = df.groupby(\"key\").sum()\n",
    "    date_cols = [c for c in df.columns if dates_expr(c)]   \n",
    "    df_mod = df[date_cols]\n",
    "    df_mod_t = df_mod.T\n",
    "    df_mod_t.index = df_mod_t.apply(lambda r: convert_dates(r.name),axis=1 )\n",
    "    DF_countries = {c:pd.DataFrame(df_mod_t[c]) for c in df_mod_t.columns}\n",
    "    for c in DF_countries.keys():\n",
    "        DF_countries[c] = DF_countries[c].rename(columns={c:col_name})\n",
    "        if col_name.find(\"daily\") == -1:\n",
    "            #print(\"col_name is %s\"%col_name)\n",
    "            #print(DF_countries[c][col_name].shape)\n",
    "            #print(DF_countries[c][col_name].tail())\n",
    "            DF_countries[c][\"daily_\"+col_name] = DF_countries[c][col_name].diff(1).fillna(0)\n",
    "        DF_countries[c][\"Date\"] = DF_countries[c].index\n",
    "        DF_countries[c][\"Country_Province\"] = c \n",
    "        if rep_indexes:\n",
    "            print(list(dict_indexes.keys())[-20:])\n",
    "            DF_countries[c].index = DF_countries[c].apply(lambda r: dict_indexes[(c,r.name)],axis=1)\n",
    "        else:\n",
    "             DF_countries[c].index = DF_countries[c].apply(lambda r: (c,r.name),axis=1)\n",
    "    return DF_countries"
   ]
  },
  {
   "cell_type": "code",
   "execution_count": 10,
   "metadata": {},
   "outputs": [
    {
     "data": {
      "text/html": [
       "<div>\n",
       "<style scoped>\n",
       "    .dataframe tbody tr th:only-of-type {\n",
       "        vertical-align: middle;\n",
       "    }\n",
       "\n",
       "    .dataframe tbody tr th {\n",
       "        vertical-align: top;\n",
       "    }\n",
       "\n",
       "    .dataframe thead th {\n",
       "        text-align: right;\n",
       "    }\n",
       "</style>\n",
       "<table border=\"1\" class=\"dataframe\">\n",
       "  <thead>\n",
       "    <tr style=\"text-align: right;\">\n",
       "      <th></th>\n",
       "      <th>California</th>\n",
       "    </tr>\n",
       "  </thead>\n",
       "  <tbody>\n",
       "    <tr>\n",
       "      <th>20-10-13</th>\n",
       "      <td>16644</td>\n",
       "    </tr>\n",
       "    <tr>\n",
       "      <th>20-10-14</th>\n",
       "      <td>16729</td>\n",
       "    </tr>\n",
       "    <tr>\n",
       "      <th>20-10-15</th>\n",
       "      <td>16832</td>\n",
       "    </tr>\n",
       "    <tr>\n",
       "      <th>20-10-16</th>\n",
       "      <td>16910</td>\n",
       "    </tr>\n",
       "    <tr>\n",
       "      <th>20-10-17</th>\n",
       "      <td>16956</td>\n",
       "    </tr>\n",
       "  </tbody>\n",
       "</table>\n",
       "</div>"
      ],
      "text/plain": [
       "          California\n",
       "20-10-13       16644\n",
       "20-10-14       16729\n",
       "20-10-15       16832\n",
       "20-10-16       16910\n",
       "20-10-17       16956"
      ]
     },
     "execution_count": 10,
     "metadata": {},
     "output_type": "execute_result"
    }
   ],
   "source": [
    "file_name = \"/Users/itaybd/covid19/COVID-19/new_covid/COVID-19/csse_covid_19_data/csse_covid_19_time_series/time_series_covid19_deaths_US.csv\"\n",
    "dfs = convert_US(file_name)\n",
    "dfs[\"California\"].tail()"
   ]
  },
  {
   "cell_type": "code",
   "execution_count": 18,
   "metadata": {},
   "outputs": [
    {
     "data": {
      "text/plain": [
       "['US_Tennessee',\n",
       " 'US_Texas',\n",
       " 'US_Utah',\n",
       " 'US_Vermont',\n",
       " 'US_Virgin Islands',\n",
       " 'US_Virginia',\n",
       " 'US_Washington',\n",
       " 'US_West Virginia',\n",
       " 'US_Wisconsin',\n",
       " 'US_Wyoming']"
      ]
     },
     "execution_count": 18,
     "metadata": {},
     "output_type": "execute_result"
    }
   ],
   "source": [
    "col_name=\"deaths\"\n",
    "start_col =20\n",
    "D_x = create_df_dict(file_name,col_name,country_col='Country_Region',province_col='Province_State',rep_indexes=False,dict_indexes={})\n",
    "\n",
    "list(D_x.keys())[-10:]"
   ]
  },
  {
   "cell_type": "code",
   "execution_count": 135,
   "metadata": {},
   "outputs": [
    {
     "data": {
      "text/plain": [
       "Index(['Province/State', 'Country/Region', 'Lat', 'Long', '1/22/20', '1/23/20',\n",
       "       '1/24/20', '1/25/20', '1/26/20', '1/27/20',\n",
       "       ...\n",
       "       '10/8/20', '10/9/20', '10/10/20', '10/11/20', '10/12/20', '10/13/20',\n",
       "       '10/14/20', '10/15/20', '10/16/20', '10/17/20'],\n",
       "      dtype='object', length=274)"
      ]
     },
     "execution_count": 135,
     "metadata": {},
     "output_type": "execute_result"
    }
   ],
   "source": [
    "df = pd.read_csv(\"csse_covid_19_data/csse_covid_19_time_series/time_series_covid19_deaths_global.csv\")\n",
    "df.columns"
   ]
  },
  {
   "cell_type": "code",
   "execution_count": 136,
   "metadata": {},
   "outputs": [],
   "source": [
    "df[\"key\"] = df.apply(lambda r: str(r['Country/Region'])+(\"_\"+str(r['Province/State'])).replace(\"_nan\",\"\"),axis=1)\n",
    "df = df.set_index(\"key\")\n",
    "df_mod = df[df.columns[4:]]"
   ]
  },
  {
   "cell_type": "code",
   "execution_count": 137,
   "metadata": {},
   "outputs": [
    {
     "data": {
      "text/plain": [
       "(key      Afghanistan  Albania  Algeria  Andorra\n",
       " 1/22/20            0        0        0        0\n",
       " 1/23/20            0        0        0        0\n",
       " 1/24/20            0        0        0        0\n",
       " 1/25/20            0        0        0        0\n",
       " 1/26/20            0        0        0        0,\n",
       " key       Afghanistan  Albania  Algeria  Andorra\n",
       " 10/13/20         1480      429     1818       57\n",
       " 10/14/20         1481      434     1827       59\n",
       " 10/15/20         1481      439     1827       59\n",
       " 10/16/20         1485      443     1841       59\n",
       " 10/17/20         1488      448     1846       59)"
      ]
     },
     "execution_count": 137,
     "metadata": {},
     "output_type": "execute_result"
    }
   ],
   "source": [
    "df_mod_t = df_mod.T\n",
    "(df_mod_t[df_mod_t.columns[:4]]).head(),(df_mod_t[df_mod_t.columns[:4]]).tail()\n"
   ]
  },
  {
   "cell_type": "code",
   "execution_count": 138,
   "metadata": {},
   "outputs": [
    {
     "data": {
      "text/html": [
       "<div>\n",
       "<style scoped>\n",
       "    .dataframe tbody tr th:only-of-type {\n",
       "        vertical-align: middle;\n",
       "    }\n",
       "\n",
       "    .dataframe tbody tr th {\n",
       "        vertical-align: top;\n",
       "    }\n",
       "\n",
       "    .dataframe thead th {\n",
       "        text-align: right;\n",
       "    }\n",
       "</style>\n",
       "<table border=\"1\" class=\"dataframe\">\n",
       "  <thead>\n",
       "    <tr style=\"text-align: right;\">\n",
       "      <th></th>\n",
       "      <th>deaths</th>\n",
       "    </tr>\n",
       "  </thead>\n",
       "  <tbody>\n",
       "    <tr>\n",
       "      <th>(Zimbabwe, 9/5/20)</th>\n",
       "      <td>206</td>\n",
       "    </tr>\n",
       "    <tr>\n",
       "      <th>(Zimbabwe, 9/6/20)</th>\n",
       "      <td>206</td>\n",
       "    </tr>\n",
       "    <tr>\n",
       "      <th>(Zimbabwe, 9/7/20)</th>\n",
       "      <td>210</td>\n",
       "    </tr>\n",
       "    <tr>\n",
       "      <th>(Zimbabwe, 9/8/20)</th>\n",
       "      <td>218</td>\n",
       "    </tr>\n",
       "    <tr>\n",
       "      <th>(Zimbabwe, 9/9/20)</th>\n",
       "      <td>222</td>\n",
       "    </tr>\n",
       "  </tbody>\n",
       "</table>\n",
       "</div>"
      ],
      "text/plain": [
       "                    deaths\n",
       "(Zimbabwe, 9/5/20)     206\n",
       "(Zimbabwe, 9/6/20)     206\n",
       "(Zimbabwe, 9/7/20)     210\n",
       "(Zimbabwe, 9/8/20)     218\n",
       "(Zimbabwe, 9/9/20)     222"
      ]
     },
     "execution_count": 138,
     "metadata": {},
     "output_type": "execute_result"
    }
   ],
   "source": [
    "DF_countries = {c:pd.DataFrame(df_mod_t[c]) for c in df_mod_t.columns}\n",
    "DF_countries\n",
    "type(DF_countries[\"Albania\"]),DF_countries[\"Albania\"].tail()\n",
    "DF2 = DF_countries.copy()\n",
    "def prepare_covid(gf,column_rep):\n",
    "    for k in gf.keys():\n",
    "        gf[k] = gf[k].rename(columns={k:column_rep})\n",
    "        #gf[k][\"daily_\"+column_rep] = gf[k][column_rep].diff(1).fillna(0)\n",
    "        gf[k].index = gf[k].apply(lambda r: (k,r.name),axis=1)\n",
    "        \n",
    "    df_all =  pd.concat(gf.values())#, keys=gf.keys())\n",
    "    df_all  = df_all.sort_index()\n",
    "    #L  = list(df_all.index.values)\n",
    "    #E = list(enumerate(L))\n",
    "    #D_real_indexes_vals = {x[1]:x[0] for x in E}\n",
    "    #df_all.index = [x[0] for x in E]\n",
    "    #return D_real_indexes_vals,df_all\n",
    "    return df_all\n",
    "    \n",
    "#dict_indexes,DF3 = \n",
    "DF3 = prepare_covid(DF2,\"deaths\")\n",
    "DF3.tail()"
   ]
  },
  {
   "cell_type": "code",
   "execution_count": 139,
   "metadata": {},
   "outputs": [],
   "source": [
    "import random,time\n",
    "samp = random.sample(list(DF3.index.values),10000)\n",
    "\n",
    " \n",
    "#DF3.index.values[-2:],DF3.apply(lambda r: r.name,axis=1)[-2:]"
   ]
  },
  {
   "cell_type": "code",
   "execution_count": 142,
   "metadata": {},
   "outputs": [
    {
     "data": {
      "text/plain": [
       "4.24"
      ]
     },
     "execution_count": 142,
     "metadata": {},
     "output_type": "execute_result"
    }
   ],
   "source": [
    "start = time.time()\n",
    "#LL = [DF3.loc[x,\"deaths\"] for x in samp]\n",
    "for x in samp:\n",
    "    t = DF3.at[x,\"deaths\"]\n",
    "    \"\"\"\n",
    "    if samp.index(x)%(500) == 0:\n",
    "        print(x,t)\n",
    "    \"\"\"\n",
    "     \n",
    "round(time.time()-start,2)"
   ]
  },
  {
   "cell_type": "code",
   "execution_count": 143,
   "metadata": {},
   "outputs": [],
   "source": [
    "import time\n",
    "file_name = \"csse_covid_19_data/csse_covid_19_time_series/time_series_covid19_deaths_global.csv\"\n",
    "col_name = \"deaths\"\n",
    "lags = [7,14,28,56,1]\n",
    "lags2 = [7,14,28,56]"
   ]
  },
  {
   "cell_type": "code",
   "execution_count": 144,
   "metadata": {},
   "outputs": [
    {
     "data": {
      "text/plain": [
       "0.02"
      ]
     },
     "execution_count": 144,
     "metadata": {},
     "output_type": "execute_result"
    }
   ],
   "source": [
    "start = time.time()\n",
    "def create_df_dict(file_name,col_name):\n",
    "    df = pd.read_csv(file_name)\n",
    "    df[\"key\"] = df.apply(lambda r: str(r['Country/Region'])+(\"_\"+str(r['Province/State'])).replace(\"_nan\",\"\"),axis=1)\n",
    "    df = df.set_index(\"key\")\n",
    "    df_mod = df[df.columns[4:]]\n",
    "    df_mod_t = df_mod.T\n",
    "    DF_countries = {c:pd.DataFrame(df_mod_t[c]) for c in df_mod_t.columns}\n",
    "    for c in DF_countries.keys():\n",
    "        DF_countries[c] = DF_countries[c].rename(columns={c:col_name})\n",
    "        if c==\"Israel\":\n",
    "            print(\"Israel\")\n",
    "            print(DF_countries[c].columns)\n",
    "        if col_name.find(\"daily\") == -1:\n",
    "            DF_countries[c][\"daily_\"+col_name] = DF_countries[c][col_name].diff(1).fillna(0)\n",
    "        if c==\"Israel\":\n",
    "            print(\"Israel\")\n",
    "            print(DF_countries[c].columns)\n",
    "        DF_countries[c].index = DF_countries[c].apply(lambda r: (c,r.name),axis=1)\n",
    "    return DF_countries\n",
    "def add_lags(gf,lags,col_name):\n",
    "    for c in gf.keys():\n",
    "        \n",
    "        for lg in lags:\n",
    "            gf[c][col_name+\"_lag_%d\"%lg] = gf[c][col_name].shift(lg)\n",
    "    return gf\n",
    "round(time.time()-start,2)\n"
   ]
  },
  {
   "cell_type": "code",
   "execution_count": 145,
   "metadata": {},
   "outputs": [],
   "source": [
    "def lag(df,col,lag,fillna_val = 0.0):\n",
    "\treturn df[col].shift(lag).fillna(0.0)\n",
    "def ma(df,col,window):\n",
    "\treturn df[col].rolling(window).mean()\n",
    "def sum(df,col,window):\n",
    "    return df[col].rolling(window).sum()\n",
    "def std(df,col,window):\n",
    "\treturn df[col].rolling(window).std()\n",
    "def pct_change(df,col,back):\n",
    "\treturn df[col].pct_change(back).fillna(0.0)\n",
    "def diff(df,col,back):\n",
    "    return df[col].diff(back).fillna(0.0)\n",
    "def local_cvt(df,col,back):\n",
    "    return df[col].diff(back).fillna(0.0) -df[col].shift(back).fillna(0.0).diff(back).fillna(0.0)\n"
   ]
  },
  {
   "cell_type": "code",
   "execution_count": 146,
   "metadata": {},
   "outputs": [],
   "source": [
    "def initialize_features_func_directional(lags,col_name):\n",
    "    funcs_dict = OrderedDict()# OrderedDict()    \n",
    "    for ii in lags:\n",
    "        funcs_dict[\"%s_ma_%d\"%(col_name,ii)] = {\"func\":ma,\"params\" : {\"col\":col_name,\"window\":ii}}\n",
    "        funcs_dict[\"%s_sum_%d\"%(col_name,ii)] = {\"func\":sum,\"params\" : {\"col\":col_name,\"window\":ii}}\n",
    "        funcs_dict[\"%s_std_%d\"%(col_name,ii)] = {\"func\":std,\"params\" : {\"col\":col_name,\"window\":ii}}\n",
    "        #funcs_dict[\"%s_pct_%d\"%(col_name,ii)] = {\"func\":pct_change,\"params\" : {\"col\":col_name,\"back\":ii}}\n",
    "        funcs_dict[\"%s_diff_%d\"%(col_name,ii)] = {\"func\":diff,\"params\" : {\"col\":col_name,\"back\":ii}}\n",
    "        funcs_dict[\"%s_local_cvt_%d\"%(col_name,ii)] = {\"func\":local_cvt,\"params\" : {\"col\":col_name,\"back\":ii}}\n",
    "    return funcs_dict\n",
    "def from_gf_to_df(frame,gf,col):\n",
    "    #frame[col] = frame.apply(lambda r: gf[r.name[0]].at[r.name[1],col],axis=1)\n",
    "    frame[col] = pd.concat([gf[k][col] for k in gf.keys()])\n"
   ]
  },
  {
   "cell_type": "code",
   "execution_count": 147,
   "metadata": {},
   "outputs": [],
   "source": [
    "from tqdm import tqdm\n",
    "def genetate_directional_features(frame,gf,func_dict,lags):\n",
    "    func_dict_keys = list(func_dict.keys())\n",
    "    for func_name in tqdm(func_dict_keys): #func_dict.keys():\n",
    "            for kk in tqdm(gf.keys()):\n",
    "                 params_d = func_dict[func_name][\"params\"].copy()\n",
    "                 params_d[\"df\"] = gf[kk]\n",
    "                 \n",
    "                 gf[kk][func_name] = func_dict[func_name][\"func\"](**params_d)\n",
    "                 \"\"\"\n",
    "                 for jj in lags:\n",
    "                    gf[kk][func_name+\"__%d\"%jj] = gf[kk][func_name].shift(jj).fillna(0)\n",
    "                 \"\"\"\n",
    "            start2= time.time()\n",
    "            from_gf_to_df(frame,gf,func_name)\n",
    "            print(\"start2:\",round(time.time()-start2,2))\n",
    "            \"\"\"\n",
    "            for lg in lags:\n",
    "                from_gf_to_df(frame,gf,func_name)\n",
    "                #from_gf_to_df(frame,gf,func_name+\"__%d\"%lg)\n",
    "            \"\"\"\n",
    "\n",
    "            "
   ]
  },
  {
   "cell_type": "code",
   "execution_count": 148,
   "metadata": {},
   "outputs": [
    {
     "name": "stdout",
     "output_type": "stream",
     "text": [
      "Israel\n",
      "Index(['deaths'], dtype='object')\n",
      "Israel\n",
      "Index(['deaths', 'daily_deaths'], dtype='object')\n",
      "3.89\n"
     ]
    },
    {
     "data": {
      "text/plain": [
       "2055"
      ]
     },
     "execution_count": 148,
     "metadata": {},
     "output_type": "execute_result"
    }
   ],
   "source": [
    "start = time.time()\n",
    "DF_all = create_df_dict(file_name=file_name,col_name=col_name)\n",
    "print(round(time.time()-start,2))\n",
    "#DF_all[\"Israel\"].tail()\n",
    "DF_all[\"Israel\"].at[(\"Israel\",\"10/13/20\"),\"deaths\"]"
   ]
  },
  {
   "cell_type": "code",
   "execution_count": 149,
   "metadata": {},
   "outputs": [
    {
     "name": "stdout",
     "output_type": "stream",
     "text": [
      "0.01\n"
     ]
    }
   ],
   "source": [
    "start = time.time()\n",
    "functions_dict_deaths = initialize_features_func_directional(lags,\"deaths\")\n",
    "print(round(time.time()-start,2))"
   ]
  },
  {
   "cell_type": "code",
   "execution_count": 151,
   "metadata": {},
   "outputs": [
    {
     "name": "stdout",
     "output_type": "stream",
     "text": [
      "2055\n",
      "2055\n"
     ]
    },
    {
     "data": {
      "text/plain": [
       "(Bahrain, 4/14/20)    7\n",
       "Name: deaths, dtype: int64"
      ]
     },
     "execution_count": 151,
     "metadata": {},
     "output_type": "execute_result"
    }
   ],
   "source": [
    "print(DF3.at[(\"Israel\",\"10/13/20\"),\"deaths\"])\n",
    "DF4 = DF3.copy()\n",
    "DF4.columns\n",
    "print(DF4.at[(\"Israel\",\"10/13/20\"),\"deaths\"])\n",
    "DF4.loc[DF4.index.values[5222:5223],\"deaths\"]"
   ]
  },
  {
   "cell_type": "code",
   "execution_count": 152,
   "metadata": {},
   "outputs": [
    {
     "name": "stdout",
     "output_type": "stream",
     "text": [
      "Israel\n",
      "Index(['deaths'], dtype='object')\n",
      "Israel\n",
      "Index(['deaths', 'daily_deaths'], dtype='object')\n",
      "5.1\n",
      "5.33\n",
      "start2: 0.33\n",
      "start2: 0.25\n",
      "start2: 0.16\n",
      "start2: 0.25\n",
      "start2: 0.15\n",
      "1.15\n"
     ]
    }
   ],
   "source": [
    "\n",
    "start = time.time()\n",
    "DF_d = create_df_dict(file_name,col_name)\n",
    "print(round(time.time()-start,2))\n",
    "start = time.time()\n",
    "DF_d = add_lags(gf=DF_d,lags= lags,col_name = col_name)\n",
    "print(round(time.time()-start,2))\n",
    "start = time.time()\n",
    "#print(DF4.index[-5:])\n",
    "#print(DF_d['nan_Zimbabwe'].tail())#,col_name+\"_lag_7\"])\n",
    "for lg in lags:\n",
    "    start2= time.time()\n",
    "    from_gf_to_df(DF4,DF_d,col_name+\"_lag_%d\"%lg)\n",
    "    print(\"start2:\",round(time.time()-start2,2))\n",
    "    \n",
    "print(round(time.time()-start,2))\n"
   ]
  },
  {
   "cell_type": "code",
   "execution_count": 154,
   "metadata": {},
   "outputs": [
    {
     "data": {
      "text/plain": [
       "(                    deaths  daily_deaths  deaths_lag_7  deaths_lag_14  \\\n",
       " (Israel, 10/13/20)    2055          34.0        1797.0         1528.0   \n",
       " (Israel, 10/14/20)    2098          43.0        1824.0         1569.0   \n",
       " (Israel, 10/15/20)    2127          29.0        1864.0         1622.0   \n",
       " (Israel, 10/16/20)    2141          14.0        1886.0         1633.0   \n",
       " (Israel, 10/17/20)    2190          49.0        1941.0         1682.0   \n",
       " \n",
       "                     deaths_lag_28  deaths_lag_56  deaths_lag_1  \n",
       " (Israel, 10/13/20)         1147.0          708.0        2021.0  \n",
       " (Israel, 10/14/20)         1165.0          781.0        2055.0  \n",
       " (Israel, 10/15/20)         1169.0          795.0        2098.0  \n",
       " (Israel, 10/16/20)         1196.0          809.0        2127.0  \n",
       " (Israel, 10/17/20)         1226.0          819.0        2141.0  ,\n",
       " 2055,\n",
       " 1797.0)"
      ]
     },
     "execution_count": 154,
     "metadata": {},
     "output_type": "execute_result"
    }
   ],
   "source": [
    "DF_d[\"Israel\"][-5:],DF4.at[(\"Israel\",\"10/13/20\"),\"deaths\"],DF4.at[(\"Israel\",\"10/13/20\"),\"deaths_lag_7\"]\n"
   ]
  },
  {
   "cell_type": "code",
   "execution_count": 155,
   "metadata": {},
   "outputs": [
    {
     "name": "stdout",
     "output_type": "stream",
     "text": [
      "25\n"
     ]
    }
   ],
   "source": [
    "dict_deaths = initialize_features_func_directional(lags,\"daily_deaths\")\n",
    "#print(list(dict_deaths.keys()))\n",
    "print(len(list(dict_deaths.keys())))"
   ]
  },
  {
   "cell_type": "code",
   "execution_count": 156,
   "metadata": {},
   "outputs": [
    {
     "name": "stderr",
     "output_type": "stream",
     "text": [
      "  0%|          | 0/25 [00:00<?, ?it/s]\n",
      "  0%|          | 0/267 [00:00<?, ?it/s]\u001b[A\n",
      "  2%|▏         | 6/267 [00:00<00:04, 59.08it/s]\u001b[A\n",
      "  6%|▌         | 16/267 [00:00<00:03, 66.95it/s]\u001b[A\n",
      "  8%|▊         | 22/267 [00:00<00:03, 63.91it/s]\u001b[A\n",
      " 13%|█▎        | 35/267 [00:00<00:03, 74.21it/s]\u001b[A\n",
      " 16%|█▌        | 42/267 [00:00<00:03, 71.28it/s]\u001b[A\n",
      " 20%|█▉        | 53/267 [00:00<00:02, 79.61it/s]\u001b[A\n",
      " 26%|██▌       | 69/267 [00:00<00:02, 93.09it/s]\u001b[A\n",
      " 30%|███       | 81/267 [00:00<00:01, 98.73it/s]\u001b[A\n",
      " 37%|███▋      | 100/267 [00:00<00:01, 114.76it/s]\u001b[A\n",
      " 46%|████▌     | 122/267 [00:01<00:01, 131.45it/s]\u001b[A\n",
      " 52%|█████▏    | 138/267 [00:01<00:00, 134.28it/s]\u001b[A\n",
      " 60%|██████    | 161/267 [00:01<00:00, 153.00it/s]\u001b[A\n",
      " 67%|██████▋   | 179/267 [00:01<00:00, 159.80it/s]\u001b[A\n",
      " 74%|███████▍  | 197/267 [00:01<00:00, 152.86it/s]\u001b[A\n",
      " 81%|████████▏ | 217/267 [00:01<00:00, 162.55it/s]\u001b[A\n",
      " 88%|████████▊ | 236/267 [00:01<00:00, 167.37it/s]\u001b[A\n",
      "100%|██████████| 267/267 [00:02<00:00, 132.74it/s]\u001b[A\n",
      "  4%|▍         | 1/25 [00:02<00:54,  2.26s/it]\n",
      "  0%|          | 0/267 [00:00<?, ?it/s]\u001b[A\n",
      " 10%|█         | 28/267 [00:00<00:00, 272.44it/s]\u001b[A"
     ]
    },
    {
     "name": "stdout",
     "output_type": "stream",
     "text": [
      "start2: 0.23\n"
     ]
    },
    {
     "name": "stderr",
     "output_type": "stream",
     "text": [
      "\n",
      " 19%|█▉        | 51/267 [00:00<00:00, 254.60it/s]\u001b[A\n",
      " 25%|██▌       | 67/267 [00:00<00:00, 213.59it/s]\u001b[A\n",
      " 30%|███       | 81/267 [00:00<00:01, 180.78it/s]\u001b[A\n",
      " 36%|███▋      | 97/267 [00:00<00:01, 164.63it/s]\u001b[A\n",
      " 42%|████▏     | 111/267 [00:00<00:01, 155.33it/s]\u001b[A\n",
      " 47%|████▋     | 126/267 [00:00<00:00, 151.37it/s]\u001b[A\n",
      " 53%|█████▎    | 142/267 [00:00<00:00, 151.33it/s]\u001b[A\n",
      " 59%|█████▉    | 157/267 [00:00<00:00, 149.58it/s]\u001b[A\n",
      " 64%|██████▍   | 172/267 [00:01<00:00, 99.60it/s] \u001b[A\n",
      " 69%|██████▉   | 184/267 [00:01<00:00, 89.93it/s]\u001b[A\n",
      " 74%|███████▍  | 198/267 [00:01<00:00, 94.19it/s]\u001b[A\n",
      " 78%|███████▊  | 209/267 [00:01<00:00, 80.57it/s]\u001b[A\n",
      " 82%|████████▏ | 219/267 [00:01<00:00, 57.43it/s]\u001b[A\n",
      " 86%|████████▌ | 230/267 [00:02<00:00, 65.89it/s]\u001b[A\n",
      " 90%|████████▉ | 239/267 [00:02<00:00, 68.28it/s]\u001b[A\n",
      " 93%|█████████▎| 247/267 [00:02<00:00, 64.89it/s]\u001b[A\n",
      " 96%|█████████▌| 255/267 [00:02<00:00, 65.95it/s]\u001b[A\n",
      "100%|██████████| 267/267 [00:02<00:00, 103.33it/s][A\n",
      "  8%|▊         | 2/25 [00:06<01:04,  2.83s/it]\n",
      "  0%|          | 0/267 [00:00<?, ?it/s]\u001b[A\n",
      "  7%|▋         | 20/267 [00:00<00:01, 189.52it/s]\u001b[A"
     ]
    },
    {
     "name": "stdout",
     "output_type": "stream",
     "text": [
      "start2: 1.54\n"
     ]
    },
    {
     "name": "stderr",
     "output_type": "stream",
     "text": [
      "\n",
      " 15%|█▍        | 39/267 [00:00<00:01, 184.43it/s]\u001b[A\n",
      " 20%|██        | 54/267 [00:00<00:01, 171.74it/s]\u001b[A\n",
      " 26%|██▌       | 69/267 [00:00<00:01, 163.09it/s]\u001b[A\n",
      " 32%|███▏      | 86/267 [00:00<00:01, 164.33it/s]\u001b[A\n",
      " 37%|███▋      | 100/267 [00:00<00:01, 152.24it/s]\u001b[A\n",
      " 43%|████▎     | 114/267 [00:01<00:01, 77.86it/s] \u001b[A\n",
      " 47%|████▋     | 125/267 [00:01<00:01, 78.21it/s]\u001b[A\n",
      " 51%|█████     | 135/267 [00:01<00:01, 79.71it/s]\u001b[A\n",
      " 56%|█████▌    | 149/267 [00:01<00:01, 91.36it/s]\u001b[A\n",
      " 64%|██████▎   | 170/267 [00:01<00:00, 108.87it/s]\u001b[A\n",
      " 71%|███████   | 189/267 [00:01<00:00, 124.53it/s]\u001b[A\n",
      " 76%|███████▋  | 204/267 [00:01<00:00, 127.46it/s]\u001b[A\n",
      " 83%|████████▎ | 221/267 [00:01<00:00, 134.65it/s]\u001b[A\n",
      " 88%|████████▊ | 236/267 [00:01<00:00, 135.69it/s]\u001b[A\n",
      "100%|██████████| 267/267 [00:02<00:00, 127.29it/s]\u001b[A\n",
      " 12%|█▏        | 3/25 [00:08<00:58,  2.67s/it]\n",
      "  0%|          | 0/267 [00:00<?, ?it/s]\u001b[A\n",
      " 11%|█         | 30/267 [00:00<00:00, 297.73it/s]\u001b[A"
     ]
    },
    {
     "name": "stdout",
     "output_type": "stream",
     "text": [
      "start2: 0.2\n"
     ]
    },
    {
     "name": "stderr",
     "output_type": "stream",
     "text": [
      "\n",
      " 16%|█▌        | 42/267 [00:00<00:01, 205.71it/s]\u001b[A\n",
      " 21%|██        | 56/267 [00:00<00:01, 172.23it/s]\u001b[A\n",
      " 27%|██▋       | 71/267 [00:00<00:01, 164.56it/s]\u001b[A\n",
      " 33%|███▎      | 87/267 [00:00<00:01, 160.04it/s]\u001b[A\n",
      " 39%|███▊      | 103/267 [00:00<00:01, 159.57it/s]\u001b[A\n",
      " 48%|████▊     | 129/267 [00:00<00:00, 180.36it/s]\u001b[A\n",
      " 57%|█████▋    | 151/267 [00:00<00:00, 185.37it/s]\u001b[A\n",
      " 64%|██████▎   | 170/267 [00:00<00:00, 184.70it/s]\u001b[A\n",
      " 74%|███████▍  | 197/267 [00:01<00:00, 203.09it/s]\u001b[A\n",
      " 82%|████████▏ | 218/267 [00:01<00:00, 196.66it/s]\u001b[A\n",
      " 89%|████████▉ | 238/267 [00:01<00:00, 177.65it/s]\u001b[A\n",
      "100%|██████████| 267/267 [00:01<00:00, 181.10it/s]\u001b[A\n",
      " 16%|█▌        | 4/25 [00:10<00:49,  2.37s/it]\n",
      "  0%|          | 0/267 [00:00<?, ?it/s]\u001b[A\n",
      "  6%|▌         | 15/267 [00:00<00:01, 135.04it/s]\u001b[A"
     ]
    },
    {
     "name": "stdout",
     "output_type": "stream",
     "text": [
      "start2: 0.18\n"
     ]
    },
    {
     "name": "stderr",
     "output_type": "stream",
     "text": [
      "\n",
      " 11%|█         | 30/267 [00:00<00:01, 138.55it/s]\u001b[A\n",
      " 17%|█▋        | 45/267 [00:00<00:01, 139.33it/s]\u001b[A\n",
      " 21%|██        | 55/267 [00:00<00:01, 121.32it/s]\u001b[A\n",
      " 25%|██▌       | 68/267 [00:00<00:01, 120.71it/s]\u001b[A\n",
      " 30%|███       | 81/267 [00:00<00:01, 122.62it/s]\u001b[A\n",
      " 35%|███▌      | 94/267 [00:00<00:01, 123.82it/s]\u001b[A\n",
      " 40%|████      | 108/267 [00:00<00:01, 128.12it/s]\u001b[A\n",
      " 45%|████▌     | 121/267 [00:00<00:01, 122.68it/s]\u001b[A\n",
      " 51%|█████     | 136/267 [00:01<00:01, 125.65it/s]\u001b[A\n",
      " 57%|█████▋    | 153/267 [00:01<00:00, 135.93it/s]\u001b[A\n",
      " 63%|██████▎   | 167/267 [00:01<00:00, 115.53it/s]\u001b[A\n",
      " 69%|██████▉   | 185/267 [00:01<00:00, 127.18it/s]\u001b[A\n",
      " 75%|███████▍  | 199/267 [00:01<00:00, 114.16it/s]\u001b[A\n",
      " 79%|███████▉  | 212/267 [00:01<00:00, 112.61it/s]\u001b[A\n",
      " 84%|████████▍ | 225/267 [00:01<00:00, 115.41it/s]\u001b[A\n",
      " 89%|████████▉ | 237/267 [00:01<00:00, 112.69it/s]\u001b[A\n",
      " 93%|█████████▎| 249/267 [00:02<00:00, 79.93it/s] \u001b[A\n",
      "100%|██████████| 267/267 [00:02<00:00, 108.32it/s][A\n",
      " 20%|██        | 5/25 [00:13<00:49,  2.46s/it]\n",
      "  0%|          | 0/267 [00:00<?, ?it/s]\u001b[A\n",
      "  5%|▍         | 13/267 [00:00<00:02, 120.44it/s]\u001b[A"
     ]
    },
    {
     "name": "stdout",
     "output_type": "stream",
     "text": [
      "start2: 0.2\n"
     ]
    },
    {
     "name": "stderr",
     "output_type": "stream",
     "text": [
      "\n",
      " 13%|█▎        | 36/267 [00:00<00:01, 139.49it/s]\u001b[A\n",
      " 25%|██▍       | 66/267 [00:00<00:01, 165.66it/s]\u001b[A\n",
      " 36%|███▌      | 96/267 [00:00<00:00, 191.27it/s]\u001b[A\n",
      " 47%|████▋     | 125/267 [00:00<00:00, 212.89it/s]\u001b[A\n",
      " 55%|█████▌    | 148/267 [00:00<00:00, 201.76it/s]\u001b[A\n",
      " 68%|██████▊   | 181/267 [00:00<00:00, 227.89it/s]\u001b[A\n",
      " 81%|████████▏ | 217/267 [00:00<00:00, 254.88it/s]\u001b[A\n",
      "100%|██████████| 267/267 [00:01<00:00, 226.40it/s]\u001b[A\n",
      " 24%|██▍       | 6/25 [00:14<00:40,  2.13s/it]\n",
      "  0%|          | 0/267 [00:00<?, ?it/s]\u001b[A\n",
      "  9%|▉         | 25/267 [00:00<00:00, 248.36it/s]\u001b[A"
     ]
    },
    {
     "name": "stdout",
     "output_type": "stream",
     "text": [
      "start2: 0.16\n"
     ]
    },
    {
     "name": "stderr",
     "output_type": "stream",
     "text": [
      "\n",
      " 16%|█▌        | 43/267 [00:00<00:01, 199.31it/s]\u001b[A\n",
      " 20%|██        | 54/267 [00:00<00:01, 159.01it/s]\u001b[A\n",
      " 28%|██▊       | 74/267 [00:00<00:01, 168.87it/s]\u001b[A\n",
      " 36%|███▋      | 97/267 [00:00<00:00, 179.47it/s]\u001b[A\n",
      " 42%|████▏     | 113/267 [00:00<00:01, 141.03it/s]\u001b[A\n",
      " 48%|████▊     | 127/267 [00:00<00:01, 107.42it/s]\u001b[A\n",
      " 58%|█████▊    | 156/267 [00:01<00:00, 132.06it/s]\u001b[A\n",
      " 69%|██████▉   | 185/267 [00:01<00:00, 157.69it/s]\u001b[A\n",
      " 79%|███████▊  | 210/267 [00:01<00:00, 176.62it/s]\u001b[A\n",
      " 91%|█████████ | 242/267 [00:01<00:00, 203.57it/s]\u001b[A\n",
      "100%|██████████| 267/267 [00:01<00:00, 182.23it/s]\u001b[A\n",
      " 28%|██▊       | 7/25 [00:16<00:35,  1.97s/it]\n",
      "  0%|          | 0/267 [00:00<?, ?it/s]\u001b[A\n",
      " 13%|█▎        | 35/267 [00:00<00:00, 344.09it/s]\u001b[A"
     ]
    },
    {
     "name": "stdout",
     "output_type": "stream",
     "text": [
      "start2: 0.11\n"
     ]
    },
    {
     "name": "stderr",
     "output_type": "stream",
     "text": [
      "\n",
      " 23%|██▎       | 62/267 [00:00<00:00, 317.13it/s]\u001b[A\n",
      " 31%|███       | 83/267 [00:00<00:00, 272.34it/s]\u001b[A\n",
      " 42%|████▏     | 111/267 [00:00<00:00, 274.05it/s]\u001b[A\n",
      " 49%|████▉     | 132/267 [00:00<00:00, 220.71it/s]\u001b[A\n",
      " 57%|█████▋    | 151/267 [00:00<00:00, 199.23it/s]\u001b[A\n",
      " 63%|██████▎   | 169/267 [00:00<00:00, 175.21it/s]\u001b[A\n",
      " 70%|██████▉   | 186/267 [00:00<00:00, 164.95it/s]\u001b[A\n",
      " 80%|████████  | 214/267 [00:01<00:00, 187.62it/s]\u001b[A\n",
      " 89%|████████▉ | 238/267 [00:01<00:00, 199.97it/s]\u001b[A\n",
      "100%|██████████| 267/267 [00:01<00:00, 213.57it/s]\u001b[A\n",
      " 32%|███▏      | 8/25 [00:17<00:30,  1.82s/it]\n",
      "  0%|          | 0/267 [00:00<?, ?it/s]\u001b[A\n",
      " 15%|█▌        | 41/267 [00:00<00:00, 307.52it/s]\u001b[A"
     ]
    },
    {
     "name": "stdout",
     "output_type": "stream",
     "text": [
      "start2: 0.2\n"
     ]
    },
    {
     "name": "stderr",
     "output_type": "stream",
     "text": [
      "\n",
      " 24%|██▎       | 63/267 [00:00<00:00, 272.59it/s]\u001b[A\n",
      " 33%|███▎      | 89/267 [00:00<00:00, 267.49it/s]\u001b[A\n",
      " 40%|███▉      | 106/267 [00:00<00:00, 222.84it/s]\u001b[A\n",
      " 46%|████▌     | 123/267 [00:00<00:00, 184.02it/s]\u001b[A\n",
      " 63%|██████▎   | 167/267 [00:00<00:00, 222.75it/s]\u001b[A\n",
      " 72%|███████▏  | 191/267 [00:00<00:00, 221.07it/s]\u001b[A\n",
      " 81%|████████  | 215/267 [00:00<00:00, 225.87it/s]\u001b[A\n",
      " 90%|████████▉ | 240/267 [00:00<00:00, 232.27it/s]\u001b[A\n",
      "100%|██████████| 267/267 [00:01<00:00, 229.79it/s]\u001b[A\n",
      " 36%|███▌      | 9/25 [00:18<00:26,  1.67s/it]\n",
      "  0%|          | 0/267 [00:00<?, ?it/s]\u001b[A\n",
      "  5%|▌         | 14/267 [00:00<00:01, 127.65it/s]\u001b[A"
     ]
    },
    {
     "name": "stdout",
     "output_type": "stream",
     "text": [
      "start2: 0.12\n"
     ]
    },
    {
     "name": "stderr",
     "output_type": "stream",
     "text": [
      "\n",
      " 12%|█▏        | 31/267 [00:00<00:01, 136.98it/s]\u001b[A\n",
      " 15%|█▍        | 39/267 [00:00<00:02, 90.50it/s] \u001b[A\n",
      " 20%|█▉        | 53/267 [00:00<00:02, 100.05it/s]\u001b[A\n",
      " 23%|██▎       | 62/267 [00:00<00:02, 95.52it/s] \u001b[A\n",
      " 27%|██▋       | 71/267 [00:00<00:02, 84.87it/s]\u001b[A\n",
      " 33%|███▎      | 88/267 [00:00<00:01, 99.58it/s]\u001b[A\n",
      " 42%|████▏     | 111/267 [00:00<00:01, 119.02it/s]\u001b[A\n",
      " 48%|████▊     | 127/267 [00:01<00:01, 128.08it/s]\u001b[A\n",
      " 57%|█████▋    | 153/267 [00:01<00:00, 149.47it/s]\u001b[A\n",
      " 66%|██████▌   | 175/267 [00:01<00:00, 163.86it/s]\u001b[A\n",
      " 73%|███████▎  | 194/267 [00:01<00:00, 144.34it/s]\u001b[A\n",
      " 79%|███████▉  | 211/267 [00:01<00:00, 103.48it/s]\u001b[A\n",
      " 84%|████████▍ | 225/267 [00:02<00:00, 71.03it/s] \u001b[A\n",
      " 88%|████████▊ | 236/267 [00:02<00:00, 75.35it/s]\u001b[A\n",
      " 93%|█████████▎| 247/267 [00:02<00:00, 79.63it/s]\u001b[A\n",
      "100%|██████████| 267/267 [00:02<00:00, 107.66it/s][A\n",
      " 40%|████      | 10/25 [00:21<00:29,  1.96s/it]\n",
      "  0%|          | 0/267 [00:00<?, ?it/s]\u001b[A"
     ]
    },
    {
     "name": "stdout",
     "output_type": "stream",
     "text": [
      "start2: 0.16\n"
     ]
    },
    {
     "name": "stderr",
     "output_type": "stream",
     "text": [
      "\n",
      "  0%|          | 1/267 [00:00<00:48,  5.52it/s]\u001b[A\n",
      "  6%|▌         | 15/267 [00:00<00:32,  7.76it/s]\u001b[A\n",
      " 12%|█▏        | 31/267 [00:00<00:21, 10.85it/s]\u001b[A\n",
      " 21%|██        | 56/267 [00:00<00:13, 15.20it/s]\u001b[A\n",
      " 27%|██▋       | 72/267 [00:00<00:09, 20.83it/s]\u001b[A\n",
      " 32%|███▏      | 86/267 [00:00<00:07, 25.58it/s]\u001b[A\n",
      " 36%|███▋      | 97/267 [00:01<00:05, 30.86it/s]\u001b[A\n",
      " 40%|████      | 107/267 [00:01<00:04, 38.16it/s]\u001b[A\n",
      " 44%|████▍     | 117/267 [00:01<00:03, 44.43it/s]\u001b[A\n",
      " 47%|████▋     | 126/267 [00:01<00:02, 51.61it/s]\u001b[A\n",
      " 54%|█████▍    | 144/267 [00:01<00:01, 65.23it/s]\u001b[A\n",
      " 58%|█████▊    | 156/267 [00:01<00:01, 60.17it/s]\u001b[A\n",
      " 64%|██████▍   | 172/267 [00:01<00:01, 72.87it/s]\u001b[A\n",
      " 71%|███████   | 190/267 [00:01<00:00, 88.60it/s]\u001b[A\n",
      " 82%|████████▏ | 220/267 [00:02<00:00, 112.18it/s]\u001b[A\n",
      "100%|██████████| 267/267 [00:02<00:00, 120.66it/s]\u001b[A\n",
      " 44%|████▍     | 11/25 [00:23<00:29,  2.14s/it]\n",
      "  0%|          | 0/267 [00:00<?, ?it/s]\u001b[A\n",
      "  9%|▉         | 25/267 [00:00<00:00, 247.44it/s]\u001b[A"
     ]
    },
    {
     "name": "stdout",
     "output_type": "stream",
     "text": [
      "start2: 0.29\n"
     ]
    },
    {
     "name": "stderr",
     "output_type": "stream",
     "text": [
      "\n",
      " 24%|██▎       | 63/267 [00:00<00:00, 270.12it/s]\u001b[A\n",
      " 30%|██▉       | 79/267 [00:00<00:01, 124.24it/s]\u001b[A\n",
      " 34%|███▍      | 92/267 [00:00<00:01, 91.20it/s] \u001b[A\n",
      " 39%|███▊      | 103/267 [00:01<00:02, 73.01it/s]\u001b[A\n",
      " 42%|████▏     | 112/267 [00:01<00:02, 61.98it/s]\u001b[A\n",
      " 45%|████▍     | 120/267 [00:01<00:02, 65.53it/s]\u001b[A\n",
      " 50%|████▉     | 133/267 [00:01<00:01, 76.88it/s]\u001b[A\n",
      " 54%|█████▍    | 144/267 [00:01<00:01, 82.26it/s]\u001b[A\n",
      " 60%|█████▉    | 160/267 [00:01<00:01, 95.84it/s]\u001b[A\n",
      " 64%|██████▍   | 172/267 [00:01<00:01, 87.27it/s]\u001b[A\n",
      " 69%|██████▊   | 183/267 [00:01<00:01, 73.41it/s]\u001b[A\n",
      " 73%|███████▎  | 196/267 [00:02<00:00, 83.40it/s]\u001b[A\n",
      " 80%|████████  | 214/267 [00:02<00:00, 98.95it/s]\u001b[A\n",
      " 85%|████████▌ | 227/267 [00:02<00:00, 104.80it/s]\u001b[A\n",
      " 92%|█████████▏| 246/267 [00:02<00:00, 117.80it/s]\u001b[A\n",
      "100%|██████████| 267/267 [00:02<00:00, 107.15it/s]\u001b[A\n",
      " 48%|████▊     | 12/25 [00:26<00:29,  2.29s/it]\n",
      "  0%|          | 0/267 [00:00<?, ?it/s]\u001b[A\n",
      "  8%|▊         | 22/267 [00:00<00:01, 213.04it/s]\u001b[A"
     ]
    },
    {
     "name": "stdout",
     "output_type": "stream",
     "text": [
      "start2: 0.13\n"
     ]
    },
    {
     "name": "stderr",
     "output_type": "stream",
     "text": [
      "\n",
      " 15%|█▍        | 39/267 [00:00<00:01, 196.80it/s]\u001b[A\n",
      " 21%|██        | 56/267 [00:00<00:01, 177.09it/s]\u001b[A\n",
      " 31%|███▏      | 84/267 [00:00<00:00, 197.62it/s]\u001b[A\n",
      " 44%|████▍     | 117/267 [00:00<00:00, 223.61it/s]\u001b[A\n",
      " 55%|█████▌    | 147/267 [00:00<00:00, 238.99it/s]\u001b[A\n",
      " 64%|██████▍   | 171/267 [00:00<00:00, 217.89it/s]\u001b[A\n",
      " 72%|███████▏  | 193/267 [00:00<00:00, 164.31it/s]\u001b[A\n",
      " 84%|████████▍ | 224/267 [00:01<00:00, 190.86it/s]\u001b[A\n",
      " 92%|█████████▏| 246/267 [00:01<00:00, 141.04it/s]\u001b[A\n",
      "100%|██████████| 267/267 [00:01<00:00, 175.40it/s]\u001b[A\n",
      " 52%|█████▏    | 13/25 [00:28<00:25,  2.15s/it]\n",
      "  0%|          | 0/267 [00:00<?, ?it/s]\u001b[A\n",
      "  6%|▌         | 15/267 [00:00<00:01, 139.77it/s]\u001b[A"
     ]
    },
    {
     "name": "stdout",
     "output_type": "stream",
     "text": [
      "start2: 0.28\n"
     ]
    },
    {
     "name": "stderr",
     "output_type": "stream",
     "text": [
      "\n",
      "  9%|▊         | 23/267 [00:00<00:02, 111.32it/s]\u001b[A\n",
      " 13%|█▎        | 35/267 [00:00<00:02, 113.59it/s]\u001b[A\n",
      " 24%|██▍       | 64/267 [00:00<00:01, 138.35it/s]\u001b[A\n",
      " 33%|███▎      | 87/267 [00:00<00:01, 156.41it/s]\u001b[A\n",
      " 39%|███▉      | 104/267 [00:00<00:01, 137.03it/s]\u001b[A\n",
      " 47%|████▋     | 125/267 [00:00<00:00, 152.11it/s]\u001b[A\n",
      " 53%|█████▎    | 142/267 [00:00<00:00, 154.83it/s]\u001b[A\n",
      " 64%|██████▍   | 171/267 [00:00<00:00, 179.31it/s]\u001b[A\n",
      " 82%|████████▏ | 218/267 [00:01<00:00, 220.15it/s]\u001b[A\n",
      "100%|██████████| 267/267 [00:01<00:00, 174.24it/s]\u001b[A\n",
      " 56%|█████▌    | 14/25 [00:30<00:22,  2.02s/it]\n",
      "  0%|          | 0/267 [00:00<?, ?it/s]\u001b[A\n",
      "  6%|▌         | 16/267 [00:00<00:01, 159.32it/s]\u001b[A"
     ]
    },
    {
     "name": "stdout",
     "output_type": "stream",
     "text": [
      "start2: 0.17\n"
     ]
    },
    {
     "name": "stderr",
     "output_type": "stream",
     "text": [
      "\n",
      " 14%|█▍        | 37/267 [00:00<00:01, 171.45it/s]\u001b[A\n",
      " 22%|██▏       | 59/267 [00:00<00:01, 183.14it/s]\u001b[A\n",
      " 29%|██▉       | 77/267 [00:00<00:01, 181.48it/s]\u001b[A\n",
      " 34%|███▍      | 92/267 [00:00<00:01, 158.90it/s]\u001b[A\n",
      " 41%|████      | 110/267 [00:00<00:00, 161.40it/s]\u001b[A\n",
      " 50%|████▉     | 133/267 [00:00<00:00, 177.16it/s]\u001b[A\n",
      " 58%|█████▊    | 154/267 [00:00<00:00, 182.84it/s]\u001b[A\n",
      " 66%|██████▋   | 177/267 [00:00<00:00, 193.42it/s]\u001b[A\n",
      " 75%|███████▍  | 199/267 [00:01<00:00, 198.19it/s]\u001b[A\n",
      " 83%|████████▎ | 222/267 [00:01<00:00, 205.16it/s]\u001b[A\n",
      "100%|██████████| 267/267 [00:01<00:00, 198.76it/s]\u001b[A\n",
      " 60%|██████    | 15/25 [00:31<00:18,  1.86s/it]\n",
      "  0%|          | 0/267 [00:00<?, ?it/s]\u001b[A\n",
      " 11%|█         | 30/267 [00:00<00:00, 294.29it/s]\u001b[A"
     ]
    },
    {
     "name": "stdout",
     "output_type": "stream",
     "text": [
      "start2: 0.11\n"
     ]
    },
    {
     "name": "stderr",
     "output_type": "stream",
     "text": [
      "\n",
      " 22%|██▏       | 58/267 [00:00<00:00, 288.09it/s]\u001b[A\n",
      " 36%|███▌      | 96/267 [00:00<00:00, 309.96it/s]\u001b[A\n",
      " 50%|█████     | 134/267 [00:00<00:00, 327.24it/s]\u001b[A\n",
      " 61%|██████▏   | 164/267 [00:00<00:00, 317.47it/s]\u001b[A\n",
      " 79%|███████▊  | 210/267 [00:00<00:00, 349.68it/s]\u001b[A\n",
      "100%|██████████| 267/267 [00:00<00:00, 338.63it/s]\u001b[A\n",
      " 64%|██████▍   | 16/25 [00:32<00:14,  1.57s/it]\n",
      "  0%|          | 0/267 [00:00<?, ?it/s]\u001b[A\n",
      " 11%|█         | 30/267 [00:00<00:00, 288.11it/s]\u001b[A"
     ]
    },
    {
     "name": "stdout",
     "output_type": "stream",
     "text": [
      "start2: 0.1\n"
     ]
    },
    {
     "name": "stderr",
     "output_type": "stream",
     "text": [
      "\n",
      " 25%|██▌       | 67/267 [00:00<00:00, 308.54it/s]\u001b[A\n",
      " 41%|████      | 110/267 [00:00<00:00, 336.90it/s]\u001b[A\n",
      " 51%|█████     | 135/267 [00:00<00:00, 216.34it/s]\u001b[A\n",
      " 61%|██████    | 162/267 [00:00<00:00, 228.01it/s]\u001b[A\n",
      " 69%|██████▉   | 185/267 [00:00<00:00, 193.64it/s]\u001b[A\n",
      " 80%|███████▉  | 213/267 [00:00<00:00, 213.18it/s]\u001b[A\n",
      " 88%|████████▊ | 236/267 [00:00<00:00, 217.07it/s]\u001b[A\n",
      "100%|██████████| 267/267 [00:01<00:00, 242.53it/s]\u001b[A\n",
      " 68%|██████▊   | 17/25 [00:33<00:11,  1.47s/it]\n",
      "  0%|          | 0/267 [00:00<?, ?it/s]\u001b[A\n",
      " 12%|█▏        | 32/267 [00:00<00:00, 314.80it/s]\u001b[A"
     ]
    },
    {
     "name": "stdout",
     "output_type": "stream",
     "text": [
      "start2: 0.13\n"
     ]
    },
    {
     "name": "stderr",
     "output_type": "stream",
     "text": [
      "\n",
      " 21%|██        | 55/267 [00:00<00:00, 280.51it/s]\u001b[A\n",
      " 29%|██▉       | 77/267 [00:00<00:00, 258.35it/s]\u001b[A\n",
      " 35%|███▍      | 93/267 [00:00<00:00, 189.41it/s]\u001b[A\n",
      " 40%|████      | 108/267 [00:00<00:01, 109.25it/s]\u001b[A\n",
      " 45%|████▍     | 120/267 [00:00<00:01, 108.44it/s]\u001b[A\n",
      " 51%|█████▏    | 137/267 [00:00<00:01, 120.72it/s]\u001b[A\n",
      " 56%|█████▌    | 150/267 [00:01<00:01, 108.08it/s]\u001b[A\n",
      " 62%|██████▏   | 166/267 [00:01<00:00, 119.43it/s]\u001b[A\n",
      " 70%|███████   | 188/267 [00:01<00:00, 137.77it/s]\u001b[A\n",
      " 82%|████████▏ | 218/267 [00:01<00:00, 164.31it/s]\u001b[A\n",
      " 89%|████████▉ | 238/267 [00:01<00:00, 119.49it/s]\u001b[A\n",
      "100%|██████████| 267/267 [00:01<00:00, 138.03it/s]\u001b[A\n",
      " 72%|███████▏  | 18/25 [00:36<00:12,  1.72s/it]\n",
      "  0%|          | 0/267 [00:00<?, ?it/s]\u001b[A"
     ]
    },
    {
     "name": "stdout",
     "output_type": "stream",
     "text": [
      "start2: 0.37\n"
     ]
    },
    {
     "name": "stderr",
     "output_type": "stream",
     "text": [
      "\n",
      "  2%|▏         | 6/267 [00:00<00:10, 24.55it/s]\u001b[A\n",
      "  8%|▊         | 21/267 [00:00<00:07, 32.72it/s]\u001b[A\n",
      " 15%|█▍        | 39/267 [00:00<00:05, 43.31it/s]\u001b[A\n",
      " 27%|██▋       | 73/267 [00:00<00:03, 58.63it/s]\u001b[A\n",
      " 42%|████▏     | 111/267 [00:00<00:01, 78.14it/s]\u001b[A\n",
      " 50%|████▉     | 133/267 [00:00<00:01, 93.40it/s]\u001b[A\n",
      " 58%|█████▊    | 154/267 [00:00<00:01, 98.53it/s]\u001b[A\n",
      " 64%|██████▍   | 172/267 [00:01<00:00, 108.53it/s]\u001b[A\n",
      " 76%|███████▌  | 202/267 [00:01<00:00, 133.96it/s]\u001b[A\n",
      "100%|██████████| 267/267 [00:01<00:00, 196.54it/s]\u001b[A\n",
      " 76%|███████▌  | 19/25 [00:37<00:09,  1.65s/it]\n",
      "  0%|          | 0/267 [00:00<?, ?it/s]\u001b[A\n",
      " 10%|█         | 28/267 [00:00<00:00, 276.65it/s]\u001b[A"
     ]
    },
    {
     "name": "stdout",
     "output_type": "stream",
     "text": [
      "start2: 0.11\n"
     ]
    },
    {
     "name": "stderr",
     "output_type": "stream",
     "text": [
      "\n",
      " 19%|█▊        | 50/267 [00:00<00:00, 252.58it/s]\u001b[A\n",
      " 25%|██▌       | 68/267 [00:00<00:00, 225.26it/s]\u001b[A\n",
      " 33%|███▎      | 89/267 [00:00<00:00, 219.89it/s]\u001b[A\n",
      " 40%|███▉      | 106/267 [00:00<00:00, 199.63it/s]\u001b[A\n",
      " 48%|████▊     | 128/267 [00:00<00:00, 204.87it/s]\u001b[A\n",
      " 59%|█████▉    | 157/267 [00:00<00:00, 223.64it/s]\u001b[A\n",
      " 67%|██████▋   | 179/267 [00:00<00:00, 218.89it/s]\u001b[A\n",
      " 75%|███████▍  | 200/267 [00:00<00:00, 213.83it/s]\u001b[A\n",
      " 86%|████████▌ | 230/267 [00:01<00:00, 232.08it/s]\u001b[A\n",
      "100%|██████████| 267/267 [00:01<00:00, 222.29it/s]\u001b[A\n",
      " 80%|████████  | 20/25 [00:38<00:07,  1.55s/it]\n",
      "  0%|          | 0/267 [00:00<?, ?it/s]\u001b[A\n",
      " 11%|█         | 29/267 [00:00<00:00, 287.21it/s]\u001b[A"
     ]
    },
    {
     "name": "stdout",
     "output_type": "stream",
     "text": [
      "start2: 0.09\n"
     ]
    },
    {
     "name": "stderr",
     "output_type": "stream",
     "text": [
      "\n",
      " 24%|██▎       | 63/267 [00:00<00:00, 300.75it/s]\u001b[A\n",
      " 37%|███▋      | 100/267 [00:00<00:00, 317.67it/s]\u001b[A\n",
      " 46%|████▌     | 123/267 [00:00<00:00, 283.26it/s]\u001b[A\n",
      " 59%|█████▉    | 157/267 [00:00<00:00, 297.16it/s]\u001b[A\n",
      " 76%|███████▋  | 204/267 [00:00<00:00, 332.75it/s]\u001b[A\n",
      "100%|██████████| 267/267 [00:00<00:00, 332.12it/s]\u001b[A\n",
      " 84%|████████▍ | 21/25 [00:39<00:05,  1.36s/it]\n",
      "  0%|          | 0/267 [00:00<?, ?it/s]\u001b[A\n",
      " 10%|█         | 28/267 [00:00<00:00, 277.05it/s]\u001b[A"
     ]
    },
    {
     "name": "stdout",
     "output_type": "stream",
     "text": [
      "start2: 0.1\n"
     ]
    },
    {
     "name": "stderr",
     "output_type": "stream",
     "text": [
      "\n",
      " 18%|█▊        | 48/267 [00:00<00:00, 246.11it/s]\u001b[A\n",
      " 28%|██▊       | 74/267 [00:00<00:00, 233.11it/s]\u001b[A\n",
      " 36%|███▌      | 96/267 [00:00<00:00, 225.84it/s]\u001b[A\n",
      " 46%|████▋     | 124/267 [00:00<00:00, 239.70it/s]\u001b[A\n",
      " 59%|█████▉    | 157/267 [00:00<00:00, 260.99it/s]\u001b[A\n",
      " 73%|███████▎  | 194/267 [00:00<00:00, 286.27it/s]\u001b[A\n",
      "100%|██████████| 267/267 [00:00<00:00, 297.30it/s]\u001b[A\n",
      " 88%|████████▊ | 22/25 [00:40<00:03,  1.26s/it]\n",
      "  0%|          | 0/267 [00:00<?, ?it/s]\u001b[A\n",
      " 18%|█▊        | 49/267 [00:00<00:00, 485.78it/s]\u001b[A"
     ]
    },
    {
     "name": "stdout",
     "output_type": "stream",
     "text": [
      "start2: 0.11\n"
     ]
    },
    {
     "name": "stderr",
     "output_type": "stream",
     "text": [
      "\n",
      " 31%|███       | 83/267 [00:00<00:00, 430.01it/s]\u001b[A\n",
      " 45%|████▍     | 119/267 [00:00<00:00, 403.05it/s]\u001b[A\n",
      " 60%|█████▉    | 160/267 [00:00<00:00, 403.81it/s]\u001b[A\n",
      " 71%|███████   | 190/267 [00:00<00:00, 311.68it/s]\u001b[A\n",
      "100%|██████████| 267/267 [00:00<00:00, 363.95it/s]\u001b[A\n",
      " 92%|█████████▏| 23/25 [00:41<00:02,  1.16s/it]\n",
      "  0%|          | 0/267 [00:00<?, ?it/s]\u001b[A\n",
      " 12%|█▏        | 33/267 [00:00<00:00, 327.40it/s]\u001b[A"
     ]
    },
    {
     "name": "stdout",
     "output_type": "stream",
     "text": [
      "start2: 0.19\n"
     ]
    },
    {
     "name": "stderr",
     "output_type": "stream",
     "text": [
      "\n",
      " 25%|██▌       | 68/267 [00:00<00:00, 331.00it/s]\u001b[A\n",
      " 38%|███▊      | 101/267 [00:00<00:00, 330.25it/s]\u001b[A\n",
      " 54%|█████▍    | 145/267 [00:00<00:00, 355.81it/s]\u001b[A\n",
      " 65%|██████▌   | 174/267 [00:00<00:00, 313.77it/s]\u001b[A\n",
      "100%|██████████| 267/267 [00:00<00:00, 373.67it/s]\u001b[A\n",
      " 96%|█████████▌| 24/25 [00:42<00:01,  1.06s/it]\n",
      "  0%|          | 0/267 [00:00<?, ?it/s]\u001b[A\n",
      "  8%|▊         | 22/267 [00:00<00:01, 217.44it/s]\u001b[A\n"
     ]
    },
    {
     "name": "stdout",
     "output_type": "stream",
     "text": [
      "start2: 0.11\n"
     ]
    },
    {
     "name": "stderr",
     "output_type": "stream",
     "text": [
      " 19%|█▉        | 51/267 [00:00<00:00, 233.62it/s]\u001b[A\n",
      " 28%|██▊       | 75/267 [00:00<00:00, 234.27it/s]\u001b[A\n",
      " 38%|███▊      | 101/267 [00:00<00:00, 241.15it/s]\u001b[A\n",
      " 48%|████▊     | 129/267 [00:00<00:00, 250.95it/s]\u001b[A\n",
      " 57%|█████▋    | 152/267 [00:00<00:00, 243.82it/s]\u001b[A\n",
      " 66%|██████▌   | 175/267 [00:00<00:00, 234.54it/s]\u001b[A\n",
      " 75%|███████▍  | 199/267 [00:00<00:00, 234.03it/s]\u001b[A\n",
      " 84%|████████▎ | 223/267 [00:00<00:00, 234.40it/s]\u001b[A\n",
      "100%|██████████| 267/267 [00:01<00:00, 230.98it/s]\u001b[A\n",
      "100%|██████████| 25/25 [00:43<00:00,  1.76s/it]"
     ]
    },
    {
     "name": "stdout",
     "output_type": "stream",
     "text": [
      "start2: 0.12\n",
      "44.06\n"
     ]
    },
    {
     "name": "stderr",
     "output_type": "stream",
     "text": [
      "\n"
     ]
    }
   ],
   "source": [
    "start = time.time()\n",
    "genetate_directional_features(DF4,DF_d,dict_deaths,lags)\n",
    "print(round(time.time()-start,2))"
   ]
  },
  {
   "cell_type": "code",
   "execution_count": 174,
   "metadata": {},
   "outputs": [
    {
     "name": "stdout",
     "output_type": "stream",
     "text": [
      "2055 1797.0\n",
      "2055 1797.0\n",
      "9682 9566.0\n",
      "False\n",
      "('Israel', '10/13/20')\n",
      "True\n",
      "2055\n",
      "39974\n",
      "('Israel', '10/13/20')\n",
      "2055\n",
      "30915\n",
      "665\n"
     ]
    },
    {
     "name": "stderr",
     "output_type": "stream",
     "text": [
      "/anaconda3/lib/python3.6/site-packages/ipykernel_launcher.py:12: FutureWarning: elementwise comparison failed; returning scalar instead, but in the future will perform elementwise comparison\n",
      "  if sys.path[0] == '':\n"
     ]
    },
    {
     "data": {
      "text/plain": [
       "'\\nfor c in DF4.columns:\\n    print (c,DF4.loc[AA][DF4.columns[:5]])\\n'"
      ]
     },
     "execution_count": 174,
     "metadata": {},
     "output_type": "execute_result"
    }
   ],
   "source": [
    "print(DF4.at[(\"Israel\",\"10/13/20\"),\"deaths\"],DF4.at[(\"Israel\",\"10/13/20\"),\"deaths_lag_7\"]\n",
    ")\n",
    "#DF4.shape\n",
    "AA = list(set(DF4.index.values))[-7:]\n",
    "#print(list(set(DF4.index.values))[-7:])\n",
    "#print(DF4.tail()[DF4.columns[:5]])\n",
    "#print(DF4.loc[DF4.index.values[-3:]][DF4.columns[:5]])\n",
    "print(DF4.at[(\"Israel\",\"10/13/20\"),\"deaths\"],DF4.at[(\"Israel\",\"10/13/20\"),\"deaths_lag_7\"]\n",
    ")\n",
    "print(DF4.at[(\"Germany\",\"10/13/20\"),\"deaths\"],DF4.at[(\"Germany\",\"10/13/20\"),\"deaths_lag_7\"]\n",
    ")\n",
    "print((\"Israel\",\"10/13/20\") in DF4.index.values)\n",
    "Az = [x for x in DF4.index.values if x[0] == \"Israel\" and x[1] == \"10/13/20\"][0]\n",
    "print(Az)\n",
    "\n",
    "print(Az == (\"Israel\",\"10/13/20\"))\n",
    "print(DF4.at[Az,\"deaths\"])\n",
    "print(list(DF4.index.values).index(Az))\n",
    "Av = DF4.index.values[list(DF4.index.values).index(Az)]\n",
    "print(Av)\n",
    "print(DF4.at[Av,\"deaths\"])\n",
    "print(list(DF4.index.values).index(AA[4]))\n",
    "print(DF4.at[AA[6],\"deaths\"])\n",
    "#print(DF4.loc[AA[0]][DF4.columns[:5]])\n",
    "\"\"\"\n",
    "for c in DF4.columns:\n",
    "    print (c,DF4.loc[AA][DF4.columns[:5]])\n",
    "\"\"\"\n",
    "\n",
    "#type(AA[0][1])\n",
    "#print(AA[0][0],AA[0][1])\n",
    "#print('Bhutan' == AA[0][0],'9/16/20' == AA[0][1],('Bhutan', '9/16/20')==AA[0])\n",
    "#DF4.loc[AA[0],\"deaths\"]"
   ]
  },
  {
   "cell_type": "code",
   "execution_count": null,
   "metadata": {},
   "outputs": [],
   "source": []
  }
 ],
 "metadata": {
  "kernelspec": {
   "display_name": "Python 3",
   "language": "python",
   "name": "python3"
  },
  "language_info": {
   "codemirror_mode": {
    "name": "ipython",
    "version": 3
   },
   "file_extension": ".py",
   "mimetype": "text/x-python",
   "name": "python",
   "nbconvert_exporter": "python",
   "pygments_lexer": "ipython3",
   "version": "3.7.6"
  }
 },
 "nbformat": 4,
 "nbformat_minor": 4
}
